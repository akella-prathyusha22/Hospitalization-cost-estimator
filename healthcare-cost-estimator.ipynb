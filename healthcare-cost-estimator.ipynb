{
 "cells": [
  {
   "cell_type": "code",
   "execution_count": 1,
   "id": "e7dcb46c",
   "metadata": {
    "_cell_guid": "b1076dfc-b9ad-4769-8c92-a6c4dae69d19",
    "_uuid": "8f2839f25d086af736a60e9eeb907d3b93b6e0e5",
    "execution": {
     "iopub.execute_input": "2025-03-07T19:08:28.381108Z",
     "iopub.status.busy": "2025-03-07T19:08:28.380794Z",
     "iopub.status.idle": "2025-03-07T19:08:29.290257Z",
     "shell.execute_reply": "2025-03-07T19:08:29.288769Z"
    },
    "papermill": {
     "duration": 0.930913,
     "end_time": "2025-03-07T19:08:29.292197",
     "exception": false,
     "start_time": "2025-03-07T19:08:28.361284",
     "status": "completed"
    },
    "tags": []
   },
   "outputs": [
    {
     "name": "stdout",
     "output_type": "stream",
     "text": [
      "/kaggle/input/health-insurance-dataset/Hospitalisation details.csv\n",
      "/kaggle/input/health-insurance-dataset/Medical Examinations.csv\n",
      "/kaggle/input/health-insurance-dataset/Names.xlsx\n"
     ]
    }
   ],
   "source": [
    "# This Python 3 environment comes with many helpful analytics libraries installed\n",
    "# It is defined by the kaggle/python Docker image: https://github.com/kaggle/docker-python\n",
    "# For example, here's several helpful packages to load\n",
    "\n",
    "import numpy as np # linear algebra\n",
    "import pandas as pd # data processing, CSV file I/O (e.g. pd.read_csv)\n",
    "\n",
    "# Input data files are available in the read-only \"../input/\" directory\n",
    "# For example, running this (by clicking run or pressing Shift+Enter) will list all files under the input directory\n",
    "\n",
    "import os\n",
    "for dirname, _, filenames in os.walk('/kaggle/input'):\n",
    "    for filename in filenames:\n",
    "        print(os.path.join(dirname, filename))\n",
    "\n",
    "# You can write up to 20GB to the current directory (/kaggle/working/) that gets preserved as output when you create a version using \"Save & Run All\" \n",
    "# You can also write temporary files to /kaggle/temp/, but they won't be saved outside of the current session"
   ]
  },
  {
   "cell_type": "code",
   "execution_count": 2,
   "id": "57a39813",
   "metadata": {
    "execution": {
     "iopub.execute_input": "2025-03-07T19:08:29.329711Z",
     "iopub.status.busy": "2025-03-07T19:08:29.329160Z",
     "iopub.status.idle": "2025-03-07T19:08:34.819383Z",
     "shell.execute_reply": "2025-03-07T19:08:34.818291Z"
    },
    "papermill": {
     "duration": 5.511017,
     "end_time": "2025-03-07T19:08:34.821377",
     "exception": false,
     "start_time": "2025-03-07T19:08:29.310360",
     "status": "completed"
    },
    "tags": []
   },
   "outputs": [],
   "source": [
    "import datetime\n",
    "import numpy as np\n",
    "import pandas as pd\n",
    "import seaborn as sns\n",
    "import matplotlib.pyplot as plt\n",
    "from sklearn.preprocessing import LabelEncoder\n",
    "from sklearn.preprocessing import OneHotEncoder\n",
    "from sklearn.preprocessing import OrdinalEncoder\n",
    "from sklearn.linear_model import SGDRegressor, Ridge\n",
    "from sklearn.model_selection import KFold, StratifiedKFold, RandomizedSearchCV, train_test_split\n",
    "from sklearn.model_selection import GridSearchCV\n",
    "from sklearn.metrics import mean_squared_error as mse, r2_score \n",
    "from sklearn.metrics import mean_absolute_error as mae\n",
    "from sklearn.preprocessing import StandardScaler\n",
    "from sklearn.metrics import classification_report\n",
    "from sklearn.pipeline import Pipeline\n",
    "from sklearn.ensemble import RandomForestRegressor\n",
    "from sklearn.ensemble import GradientBoostingRegressor\n",
    "import plotly.express as px\n",
    "from statsmodels.formula.api import ols\n",
    "import statsmodels.api as sm\n",
    "from statsmodels.stats.multicomp import pairwise_tukeyhsd\n",
    "from scipy.stats import f_oneway\n",
    "from scipy.stats import chi2_contingency\n",
    "from scipy.stats import kruskal\n",
    "import xgboost as xgb\n",
    "from xgboost import XGBRegressor"
   ]
  },
  {
   "cell_type": "code",
   "execution_count": 3,
   "id": "f6cbc5c9",
   "metadata": {
    "execution": {
     "iopub.execute_input": "2025-03-07T19:08:34.858478Z",
     "iopub.status.busy": "2025-03-07T19:08:34.857875Z",
     "iopub.status.idle": "2025-03-07T19:08:34.862126Z",
     "shell.execute_reply": "2025-03-07T19:08:34.861150Z"
    },
    "papermill": {
     "duration": 0.024248,
     "end_time": "2025-03-07T19:08:34.863717",
     "exception": false,
     "start_time": "2025-03-07T19:08:34.839469",
     "status": "completed"
    },
    "tags": []
   },
   "outputs": [],
   "source": [
    "import warnings \n",
    "warnings.filterwarnings('ignore')"
   ]
  },
  {
   "cell_type": "code",
   "execution_count": 4,
   "id": "3544f27c",
   "metadata": {
    "execution": {
     "iopub.execute_input": "2025-03-07T19:08:34.900105Z",
     "iopub.status.busy": "2025-03-07T19:08:34.899715Z",
     "iopub.status.idle": "2025-03-07T19:08:34.922772Z",
     "shell.execute_reply": "2025-03-07T19:08:34.921683Z"
    },
    "papermill": {
     "duration": 0.043352,
     "end_time": "2025-03-07T19:08:34.924688",
     "exception": false,
     "start_time": "2025-03-07T19:08:34.881336",
     "status": "completed"
    },
    "tags": []
   },
   "outputs": [],
   "source": [
    "#Supervised regression \n",
    "hosp = pd.read_csv('/kaggle/input/health-insurance-dataset/Hospitalisation details.csv')"
   ]
  },
  {
   "cell_type": "code",
   "execution_count": 5,
   "id": "6f8dcb77",
   "metadata": {
    "execution": {
     "iopub.execute_input": "2025-03-07T19:08:34.963494Z",
     "iopub.status.busy": "2025-03-07T19:08:34.963085Z",
     "iopub.status.idle": "2025-03-07T19:08:35.856017Z",
     "shell.execute_reply": "2025-03-07T19:08:35.854869Z"
    },
    "papermill": {
     "duration": 0.91551,
     "end_time": "2025-03-07T19:08:35.858068",
     "exception": false,
     "start_time": "2025-03-07T19:08:34.942558",
     "status": "completed"
    },
    "tags": []
   },
   "outputs": [],
   "source": [
    "med = pd.read_csv('/kaggle/input/health-insurance-dataset/Medical Examinations.csv')\n",
    "names = pd.read_excel('/kaggle/input/health-insurance-dataset/Names.xlsx')"
   ]
  },
  {
   "cell_type": "code",
   "execution_count": 6,
   "id": "c5bf0fb5",
   "metadata": {
    "execution": {
     "iopub.execute_input": "2025-03-07T19:08:35.894299Z",
     "iopub.status.busy": "2025-03-07T19:08:35.893717Z",
     "iopub.status.idle": "2025-03-07T19:08:35.926351Z",
     "shell.execute_reply": "2025-03-07T19:08:35.925069Z"
    },
    "papermill": {
     "duration": 0.052374,
     "end_time": "2025-03-07T19:08:35.927936",
     "exception": false,
     "start_time": "2025-03-07T19:08:35.875562",
     "status": "completed"
    },
    "tags": []
   },
   "outputs": [
    {
     "name": "stdout",
     "output_type": "stream",
     "text": [
      "<class 'pandas.core.frame.DataFrame'>\n",
      "RangeIndex: 2343 entries, 0 to 2342\n",
      "Data columns (total 9 columns):\n",
      " #   Column         Non-Null Count  Dtype  \n",
      "---  ------         --------------  -----  \n",
      " 0   Customer ID    2343 non-null   object \n",
      " 1   year           2343 non-null   object \n",
      " 2   month          2343 non-null   object \n",
      " 3   date           2343 non-null   int64  \n",
      " 4   children       2343 non-null   int64  \n",
      " 5   charges        2343 non-null   float64\n",
      " 6   Hospital tier  2343 non-null   object \n",
      " 7   City tier      2343 non-null   object \n",
      " 8   State ID       2343 non-null   object \n",
      "dtypes: float64(1), int64(2), object(6)\n",
      "memory usage: 164.9+ KB\n"
     ]
    }
   ],
   "source": [
    "hosp.info()"
   ]
  },
  {
   "cell_type": "code",
   "execution_count": 7,
   "id": "186f00eb",
   "metadata": {
    "execution": {
     "iopub.execute_input": "2025-03-07T19:08:35.966142Z",
     "iopub.status.busy": "2025-03-07T19:08:35.965784Z",
     "iopub.status.idle": "2025-03-07T19:08:35.977064Z",
     "shell.execute_reply": "2025-03-07T19:08:35.976056Z"
    },
    "papermill": {
     "duration": 0.033513,
     "end_time": "2025-03-07T19:08:35.978720",
     "exception": false,
     "start_time": "2025-03-07T19:08:35.945207",
     "status": "completed"
    },
    "tags": []
   },
   "outputs": [
    {
     "name": "stdout",
     "output_type": "stream",
     "text": [
      "<class 'pandas.core.frame.DataFrame'>\n",
      "RangeIndex: 2335 entries, 0 to 2334\n",
      "Data columns (total 8 columns):\n",
      " #   Column                  Non-Null Count  Dtype  \n",
      "---  ------                  --------------  -----  \n",
      " 0   Customer ID             2335 non-null   object \n",
      " 1   BMI                     2335 non-null   float64\n",
      " 2   HBA1C                   2335 non-null   float64\n",
      " 3   Heart Issues            2335 non-null   object \n",
      " 4   Any Transplants         2335 non-null   object \n",
      " 5   Cancer history          2335 non-null   object \n",
      " 6   NumberOfMajorSurgeries  2335 non-null   object \n",
      " 7   smoker                  2335 non-null   object \n",
      "dtypes: float64(2), object(6)\n",
      "memory usage: 146.1+ KB\n"
     ]
    }
   ],
   "source": [
    "med.info()"
   ]
  },
  {
   "cell_type": "code",
   "execution_count": 8,
   "id": "5024b9bc",
   "metadata": {
    "execution": {
     "iopub.execute_input": "2025-03-07T19:08:36.015311Z",
     "iopub.status.busy": "2025-03-07T19:08:36.014925Z",
     "iopub.status.idle": "2025-03-07T19:08:36.024985Z",
     "shell.execute_reply": "2025-03-07T19:08:36.023876Z"
    },
    "papermill": {
     "duration": 0.030324,
     "end_time": "2025-03-07T19:08:36.026777",
     "exception": false,
     "start_time": "2025-03-07T19:08:35.996453",
     "status": "completed"
    },
    "tags": []
   },
   "outputs": [
    {
     "name": "stdout",
     "output_type": "stream",
     "text": [
      "<class 'pandas.core.frame.DataFrame'>\n",
      "RangeIndex: 2335 entries, 0 to 2334\n",
      "Data columns (total 2 columns):\n",
      " #   Column       Non-Null Count  Dtype \n",
      "---  ------       --------------  ----- \n",
      " 0   Customer ID  2335 non-null   object\n",
      " 1   name         2335 non-null   object\n",
      "dtypes: object(2)\n",
      "memory usage: 36.6+ KB\n"
     ]
    }
   ],
   "source": [
    "names.info()"
   ]
  },
  {
   "cell_type": "code",
   "execution_count": 9,
   "id": "55ec7cdc",
   "metadata": {
    "execution": {
     "iopub.execute_input": "2025-03-07T19:08:36.062765Z",
     "iopub.status.busy": "2025-03-07T19:08:36.062354Z",
     "iopub.status.idle": "2025-03-07T19:08:36.078591Z",
     "shell.execute_reply": "2025-03-07T19:08:36.077790Z"
    },
    "papermill": {
     "duration": 0.036036,
     "end_time": "2025-03-07T19:08:36.080216",
     "exception": false,
     "start_time": "2025-03-07T19:08:36.044180",
     "status": "completed"
    },
    "tags": []
   },
   "outputs": [],
   "source": [
    "# Collate the files so that all the information is in one place using the common column - customer id\n",
    "master_data = pd.merge(hosp, med, how = \"inner\", on = 'Customer ID')"
   ]
  },
  {
   "cell_type": "code",
   "execution_count": 10,
   "id": "64753518",
   "metadata": {
    "execution": {
     "iopub.execute_input": "2025-03-07T19:08:36.116550Z",
     "iopub.status.busy": "2025-03-07T19:08:36.116151Z",
     "iopub.status.idle": "2025-03-07T19:08:36.124688Z",
     "shell.execute_reply": "2025-03-07T19:08:36.123895Z"
    },
    "papermill": {
     "duration": 0.028324,
     "end_time": "2025-03-07T19:08:36.126287",
     "exception": false,
     "start_time": "2025-03-07T19:08:36.097963",
     "status": "completed"
    },
    "tags": []
   },
   "outputs": [],
   "source": [
    "master_data = master_data.merge(names, on = \"Customer ID\")"
   ]
  },
  {
   "cell_type": "code",
   "execution_count": 11,
   "id": "d2190611",
   "metadata": {
    "execution": {
     "iopub.execute_input": "2025-03-07T19:08:36.163391Z",
     "iopub.status.busy": "2025-03-07T19:08:36.163060Z",
     "iopub.status.idle": "2025-03-07T19:08:36.175434Z",
     "shell.execute_reply": "2025-03-07T19:08:36.173952Z"
    },
    "papermill": {
     "duration": 0.032552,
     "end_time": "2025-03-07T19:08:36.177041",
     "exception": false,
     "start_time": "2025-03-07T19:08:36.144489",
     "status": "completed"
    },
    "tags": []
   },
   "outputs": [
    {
     "name": "stdout",
     "output_type": "stream",
     "text": [
      "<class 'pandas.core.frame.DataFrame'>\n",
      "RangeIndex: 2335 entries, 0 to 2334\n",
      "Data columns (total 17 columns):\n",
      " #   Column                  Non-Null Count  Dtype  \n",
      "---  ------                  --------------  -----  \n",
      " 0   Customer ID             2335 non-null   object \n",
      " 1   year                    2335 non-null   object \n",
      " 2   month                   2335 non-null   object \n",
      " 3   date                    2335 non-null   int64  \n",
      " 4   children                2335 non-null   int64  \n",
      " 5   charges                 2335 non-null   float64\n",
      " 6   Hospital tier           2335 non-null   object \n",
      " 7   City tier               2335 non-null   object \n",
      " 8   State ID                2335 non-null   object \n",
      " 9   BMI                     2335 non-null   float64\n",
      " 10  HBA1C                   2335 non-null   float64\n",
      " 11  Heart Issues            2335 non-null   object \n",
      " 12  Any Transplants         2335 non-null   object \n",
      " 13  Cancer history          2335 non-null   object \n",
      " 14  NumberOfMajorSurgeries  2335 non-null   object \n",
      " 15  smoker                  2335 non-null   object \n",
      " 16  name                    2335 non-null   object \n",
      "dtypes: float64(3), int64(2), object(12)\n",
      "memory usage: 310.2+ KB\n"
     ]
    }
   ],
   "source": [
    "master_data.info()"
   ]
  },
  {
   "cell_type": "code",
   "execution_count": 12,
   "id": "0cb25048",
   "metadata": {
    "execution": {
     "iopub.execute_input": "2025-03-07T19:08:36.213935Z",
     "iopub.status.busy": "2025-03-07T19:08:36.213584Z",
     "iopub.status.idle": "2025-03-07T19:08:36.240956Z",
     "shell.execute_reply": "2025-03-07T19:08:36.239926Z"
    },
    "papermill": {
     "duration": 0.047397,
     "end_time": "2025-03-07T19:08:36.242627",
     "exception": false,
     "start_time": "2025-03-07T19:08:36.195230",
     "status": "completed"
    },
    "tags": []
   },
   "outputs": [
    {
     "data": {
      "text/html": [
       "<div>\n",
       "<style scoped>\n",
       "    .dataframe tbody tr th:only-of-type {\n",
       "        vertical-align: middle;\n",
       "    }\n",
       "\n",
       "    .dataframe tbody tr th {\n",
       "        vertical-align: top;\n",
       "    }\n",
       "\n",
       "    .dataframe thead th {\n",
       "        text-align: right;\n",
       "    }\n",
       "</style>\n",
       "<table border=\"1\" class=\"dataframe\">\n",
       "  <thead>\n",
       "    <tr style=\"text-align: right;\">\n",
       "      <th></th>\n",
       "      <th>Customer ID</th>\n",
       "      <th>year</th>\n",
       "      <th>month</th>\n",
       "      <th>date</th>\n",
       "      <th>children</th>\n",
       "      <th>charges</th>\n",
       "      <th>Hospital tier</th>\n",
       "      <th>City tier</th>\n",
       "      <th>State ID</th>\n",
       "      <th>BMI</th>\n",
       "      <th>HBA1C</th>\n",
       "      <th>Heart Issues</th>\n",
       "      <th>Any Transplants</th>\n",
       "      <th>Cancer history</th>\n",
       "      <th>NumberOfMajorSurgeries</th>\n",
       "      <th>smoker</th>\n",
       "      <th>name</th>\n",
       "    </tr>\n",
       "  </thead>\n",
       "  <tbody>\n",
       "    <tr>\n",
       "      <th>0</th>\n",
       "      <td>Id2335</td>\n",
       "      <td>1992</td>\n",
       "      <td>Jul</td>\n",
       "      <td>9</td>\n",
       "      <td>0</td>\n",
       "      <td>563.84</td>\n",
       "      <td>tier - 2</td>\n",
       "      <td>tier - 3</td>\n",
       "      <td>R1013</td>\n",
       "      <td>17.58</td>\n",
       "      <td>4.51</td>\n",
       "      <td>No</td>\n",
       "      <td>No</td>\n",
       "      <td>No</td>\n",
       "      <td>1</td>\n",
       "      <td>No</td>\n",
       "      <td>German, Mr.  Aaron K</td>\n",
       "    </tr>\n",
       "    <tr>\n",
       "      <th>1</th>\n",
       "      <td>Id2334</td>\n",
       "      <td>1992</td>\n",
       "      <td>Nov</td>\n",
       "      <td>30</td>\n",
       "      <td>0</td>\n",
       "      <td>570.62</td>\n",
       "      <td>tier - 2</td>\n",
       "      <td>tier - 1</td>\n",
       "      <td>R1013</td>\n",
       "      <td>17.60</td>\n",
       "      <td>4.39</td>\n",
       "      <td>No</td>\n",
       "      <td>No</td>\n",
       "      <td>No</td>\n",
       "      <td>1</td>\n",
       "      <td>No</td>\n",
       "      <td>Rosendahl, Mr.  Evan P</td>\n",
       "    </tr>\n",
       "    <tr>\n",
       "      <th>2</th>\n",
       "      <td>Id2333</td>\n",
       "      <td>1993</td>\n",
       "      <td>Jun</td>\n",
       "      <td>30</td>\n",
       "      <td>0</td>\n",
       "      <td>600.00</td>\n",
       "      <td>tier - 2</td>\n",
       "      <td>tier - 1</td>\n",
       "      <td>R1013</td>\n",
       "      <td>16.47</td>\n",
       "      <td>6.35</td>\n",
       "      <td>No</td>\n",
       "      <td>No</td>\n",
       "      <td>Yes</td>\n",
       "      <td>1</td>\n",
       "      <td>No</td>\n",
       "      <td>Albano, Ms.  Julie</td>\n",
       "    </tr>\n",
       "    <tr>\n",
       "      <th>3</th>\n",
       "      <td>Id2332</td>\n",
       "      <td>1992</td>\n",
       "      <td>Sep</td>\n",
       "      <td>13</td>\n",
       "      <td>0</td>\n",
       "      <td>604.54</td>\n",
       "      <td>tier - 3</td>\n",
       "      <td>tier - 3</td>\n",
       "      <td>R1013</td>\n",
       "      <td>17.70</td>\n",
       "      <td>6.28</td>\n",
       "      <td>No</td>\n",
       "      <td>No</td>\n",
       "      <td>No</td>\n",
       "      <td>1</td>\n",
       "      <td>No</td>\n",
       "      <td>Riveros Gonzalez, Mr.  Juan D. Sr.</td>\n",
       "    </tr>\n",
       "    <tr>\n",
       "      <th>4</th>\n",
       "      <td>Id2331</td>\n",
       "      <td>1998</td>\n",
       "      <td>Jul</td>\n",
       "      <td>27</td>\n",
       "      <td>0</td>\n",
       "      <td>637.26</td>\n",
       "      <td>tier - 3</td>\n",
       "      <td>tier - 3</td>\n",
       "      <td>R1013</td>\n",
       "      <td>22.34</td>\n",
       "      <td>5.57</td>\n",
       "      <td>No</td>\n",
       "      <td>No</td>\n",
       "      <td>No</td>\n",
       "      <td>1</td>\n",
       "      <td>No</td>\n",
       "      <td>Brietzke, Mr.  Jordan</td>\n",
       "    </tr>\n",
       "  </tbody>\n",
       "</table>\n",
       "</div>"
      ],
      "text/plain": [
       "  Customer ID  year month  date  children  charges Hospital tier City tier  \\\n",
       "0      Id2335  1992   Jul     9         0   563.84      tier - 2  tier - 3   \n",
       "1      Id2334  1992   Nov    30         0   570.62      tier - 2  tier - 1   \n",
       "2      Id2333  1993   Jun    30         0   600.00      tier - 2  tier - 1   \n",
       "3      Id2332  1992   Sep    13         0   604.54      tier - 3  tier - 3   \n",
       "4      Id2331  1998   Jul    27         0   637.26      tier - 3  tier - 3   \n",
       "\n",
       "  State ID    BMI  HBA1C Heart Issues Any Transplants Cancer history  \\\n",
       "0    R1013  17.58   4.51           No              No             No   \n",
       "1    R1013  17.60   4.39           No              No             No   \n",
       "2    R1013  16.47   6.35           No              No            Yes   \n",
       "3    R1013  17.70   6.28           No              No             No   \n",
       "4    R1013  22.34   5.57           No              No             No   \n",
       "\n",
       "  NumberOfMajorSurgeries smoker                                name  \n",
       "0                      1     No                German, Mr.  Aaron K  \n",
       "1                      1     No              Rosendahl, Mr.  Evan P  \n",
       "2                      1     No                  Albano, Ms.  Julie  \n",
       "3                      1     No  Riveros Gonzalez, Mr.  Juan D. Sr.  \n",
       "4                      1     No               Brietzke, Mr.  Jordan  "
      ]
     },
     "execution_count": 12,
     "metadata": {},
     "output_type": "execute_result"
    }
   ],
   "source": [
    "master_data.head()"
   ]
  },
  {
   "cell_type": "code",
   "execution_count": 13,
   "id": "e1f12ca3",
   "metadata": {
    "execution": {
     "iopub.execute_input": "2025-03-07T19:08:36.279808Z",
     "iopub.status.busy": "2025-03-07T19:08:36.279424Z",
     "iopub.status.idle": "2025-03-07T19:08:36.284497Z",
     "shell.execute_reply": "2025-03-07T19:08:36.283427Z"
    },
    "papermill": {
     "duration": 0.025537,
     "end_time": "2025-03-07T19:08:36.286106",
     "exception": false,
     "start_time": "2025-03-07T19:08:36.260569",
     "status": "completed"
    },
    "tags": []
   },
   "outputs": [],
   "source": [
    "master_data.columns = master_data.columns.str.replace(\" \", \"_\").str.lower()"
   ]
  },
  {
   "cell_type": "code",
   "execution_count": 14,
   "id": "ae2b6971",
   "metadata": {
    "execution": {
     "iopub.execute_input": "2025-03-07T19:08:36.323048Z",
     "iopub.status.busy": "2025-03-07T19:08:36.322722Z",
     "iopub.status.idle": "2025-03-07T19:08:36.328435Z",
     "shell.execute_reply": "2025-03-07T19:08:36.327552Z"
    },
    "papermill": {
     "duration": 0.025826,
     "end_time": "2025-03-07T19:08:36.329806",
     "exception": false,
     "start_time": "2025-03-07T19:08:36.303980",
     "status": "completed"
    },
    "tags": []
   },
   "outputs": [
    {
     "data": {
      "text/plain": [
       "Index(['customer_id', 'year', 'month', 'date', 'children', 'charges',\n",
       "       'hospital_tier', 'city_tier', 'state_id', 'bmi', 'hba1c',\n",
       "       'heart_issues', 'any_transplants', 'cancer_history',\n",
       "       'numberofmajorsurgeries', 'smoker', 'name'],\n",
       "      dtype='object')"
      ]
     },
     "execution_count": 14,
     "metadata": {},
     "output_type": "execute_result"
    }
   ],
   "source": [
    "master_data.columns"
   ]
  },
  {
   "cell_type": "code",
   "execution_count": 15,
   "id": "6d2a6056",
   "metadata": {
    "execution": {
     "iopub.execute_input": "2025-03-07T19:08:36.366691Z",
     "iopub.status.busy": "2025-03-07T19:08:36.366223Z",
     "iopub.status.idle": "2025-03-07T19:08:36.400343Z",
     "shell.execute_reply": "2025-03-07T19:08:36.399295Z"
    },
    "papermill": {
     "duration": 0.054482,
     "end_time": "2025-03-07T19:08:36.401996",
     "exception": false,
     "start_time": "2025-03-07T19:08:36.347514",
     "status": "completed"
    },
    "tags": []
   },
   "outputs": [
    {
     "data": {
      "text/html": [
       "<div>\n",
       "<style scoped>\n",
       "    .dataframe tbody tr th:only-of-type {\n",
       "        vertical-align: middle;\n",
       "    }\n",
       "\n",
       "    .dataframe tbody tr th {\n",
       "        vertical-align: top;\n",
       "    }\n",
       "\n",
       "    .dataframe thead th {\n",
       "        text-align: right;\n",
       "    }\n",
       "</style>\n",
       "<table border=\"1\" class=\"dataframe\">\n",
       "  <thead>\n",
       "    <tr style=\"text-align: right;\">\n",
       "      <th></th>\n",
       "      <th>customer_id</th>\n",
       "      <th>year</th>\n",
       "      <th>month</th>\n",
       "      <th>date</th>\n",
       "      <th>children</th>\n",
       "      <th>charges</th>\n",
       "      <th>hospital_tier</th>\n",
       "      <th>city_tier</th>\n",
       "      <th>state_id</th>\n",
       "      <th>bmi</th>\n",
       "      <th>hba1c</th>\n",
       "      <th>heart_issues</th>\n",
       "      <th>any_transplants</th>\n",
       "      <th>cancer_history</th>\n",
       "      <th>numberofmajorsurgeries</th>\n",
       "      <th>smoker</th>\n",
       "      <th>name</th>\n",
       "    </tr>\n",
       "  </thead>\n",
       "  <tbody>\n",
       "    <tr>\n",
       "      <th>0</th>\n",
       "      <td>Id2335</td>\n",
       "      <td>1992</td>\n",
       "      <td>Jul</td>\n",
       "      <td>9</td>\n",
       "      <td>0</td>\n",
       "      <td>563.84</td>\n",
       "      <td>tier - 2</td>\n",
       "      <td>tier - 3</td>\n",
       "      <td>R1013</td>\n",
       "      <td>17.58</td>\n",
       "      <td>4.51</td>\n",
       "      <td>No</td>\n",
       "      <td>No</td>\n",
       "      <td>No</td>\n",
       "      <td>1</td>\n",
       "      <td>No</td>\n",
       "      <td>German, Mr.  Aaron K</td>\n",
       "    </tr>\n",
       "    <tr>\n",
       "      <th>1</th>\n",
       "      <td>Id2334</td>\n",
       "      <td>1992</td>\n",
       "      <td>Nov</td>\n",
       "      <td>30</td>\n",
       "      <td>0</td>\n",
       "      <td>570.62</td>\n",
       "      <td>tier - 2</td>\n",
       "      <td>tier - 1</td>\n",
       "      <td>R1013</td>\n",
       "      <td>17.60</td>\n",
       "      <td>4.39</td>\n",
       "      <td>No</td>\n",
       "      <td>No</td>\n",
       "      <td>No</td>\n",
       "      <td>1</td>\n",
       "      <td>No</td>\n",
       "      <td>Rosendahl, Mr.  Evan P</td>\n",
       "    </tr>\n",
       "    <tr>\n",
       "      <th>2</th>\n",
       "      <td>Id2333</td>\n",
       "      <td>1993</td>\n",
       "      <td>Jun</td>\n",
       "      <td>30</td>\n",
       "      <td>0</td>\n",
       "      <td>600.00</td>\n",
       "      <td>tier - 2</td>\n",
       "      <td>tier - 1</td>\n",
       "      <td>R1013</td>\n",
       "      <td>16.47</td>\n",
       "      <td>6.35</td>\n",
       "      <td>No</td>\n",
       "      <td>No</td>\n",
       "      <td>Yes</td>\n",
       "      <td>1</td>\n",
       "      <td>No</td>\n",
       "      <td>Albano, Ms.  Julie</td>\n",
       "    </tr>\n",
       "    <tr>\n",
       "      <th>3</th>\n",
       "      <td>Id2332</td>\n",
       "      <td>1992</td>\n",
       "      <td>Sep</td>\n",
       "      <td>13</td>\n",
       "      <td>0</td>\n",
       "      <td>604.54</td>\n",
       "      <td>tier - 3</td>\n",
       "      <td>tier - 3</td>\n",
       "      <td>R1013</td>\n",
       "      <td>17.70</td>\n",
       "      <td>6.28</td>\n",
       "      <td>No</td>\n",
       "      <td>No</td>\n",
       "      <td>No</td>\n",
       "      <td>1</td>\n",
       "      <td>No</td>\n",
       "      <td>Riveros Gonzalez, Mr.  Juan D. Sr.</td>\n",
       "    </tr>\n",
       "    <tr>\n",
       "      <th>4</th>\n",
       "      <td>Id2331</td>\n",
       "      <td>1998</td>\n",
       "      <td>Jul</td>\n",
       "      <td>27</td>\n",
       "      <td>0</td>\n",
       "      <td>637.26</td>\n",
       "      <td>tier - 3</td>\n",
       "      <td>tier - 3</td>\n",
       "      <td>R1013</td>\n",
       "      <td>22.34</td>\n",
       "      <td>5.57</td>\n",
       "      <td>No</td>\n",
       "      <td>No</td>\n",
       "      <td>No</td>\n",
       "      <td>1</td>\n",
       "      <td>No</td>\n",
       "      <td>Brietzke, Mr.  Jordan</td>\n",
       "    </tr>\n",
       "    <tr>\n",
       "      <th>5</th>\n",
       "      <td>Id2330</td>\n",
       "      <td>2001</td>\n",
       "      <td>Nov</td>\n",
       "      <td>20</td>\n",
       "      <td>0</td>\n",
       "      <td>646.14</td>\n",
       "      <td>tier - 3</td>\n",
       "      <td>tier - 3</td>\n",
       "      <td>R1012</td>\n",
       "      <td>22.24</td>\n",
       "      <td>4.29</td>\n",
       "      <td>yes</td>\n",
       "      <td>No</td>\n",
       "      <td>No</td>\n",
       "      <td>No major surgery</td>\n",
       "      <td>No</td>\n",
       "      <td>Kohls, Ms.  Katy</td>\n",
       "    </tr>\n",
       "    <tr>\n",
       "      <th>6</th>\n",
       "      <td>Id2329</td>\n",
       "      <td>1993</td>\n",
       "      <td>Jun</td>\n",
       "      <td>1</td>\n",
       "      <td>0</td>\n",
       "      <td>650.00</td>\n",
       "      <td>tier - 3</td>\n",
       "      <td>tier - 3</td>\n",
       "      <td>R1013</td>\n",
       "      <td>17.07</td>\n",
       "      <td>5.22</td>\n",
       "      <td>No</td>\n",
       "      <td>No</td>\n",
       "      <td>Yes</td>\n",
       "      <td>1</td>\n",
       "      <td>No</td>\n",
       "      <td>Bohinski, Ms.  Susan E</td>\n",
       "    </tr>\n",
       "    <tr>\n",
       "      <th>7</th>\n",
       "      <td>Id2328</td>\n",
       "      <td>1995</td>\n",
       "      <td>Jul</td>\n",
       "      <td>4</td>\n",
       "      <td>0</td>\n",
       "      <td>650.00</td>\n",
       "      <td>tier - 3</td>\n",
       "      <td>tier - 3</td>\n",
       "      <td>R1013</td>\n",
       "      <td>17.82</td>\n",
       "      <td>5.26</td>\n",
       "      <td>yes</td>\n",
       "      <td>No</td>\n",
       "      <td>No</td>\n",
       "      <td>1</td>\n",
       "      <td>No</td>\n",
       "      <td>Avery, Ms.  Nicole</td>\n",
       "    </tr>\n",
       "    <tr>\n",
       "      <th>8</th>\n",
       "      <td>Id2327</td>\n",
       "      <td>2002</td>\n",
       "      <td>Nov</td>\n",
       "      <td>29</td>\n",
       "      <td>0</td>\n",
       "      <td>668.00</td>\n",
       "      <td>tier - 3</td>\n",
       "      <td>tier - 2</td>\n",
       "      <td>R1012</td>\n",
       "      <td>21.77</td>\n",
       "      <td>10.67</td>\n",
       "      <td>No</td>\n",
       "      <td>No</td>\n",
       "      <td>No</td>\n",
       "      <td>No major surgery</td>\n",
       "      <td>No</td>\n",
       "      <td>Howell, Ms.  Laura</td>\n",
       "    </tr>\n",
       "    <tr>\n",
       "      <th>9</th>\n",
       "      <td>Id2326</td>\n",
       "      <td>1997</td>\n",
       "      <td>Nov</td>\n",
       "      <td>9</td>\n",
       "      <td>0</td>\n",
       "      <td>670.00</td>\n",
       "      <td>tier - 3</td>\n",
       "      <td>tier - 3</td>\n",
       "      <td>R1013</td>\n",
       "      <td>20.10</td>\n",
       "      <td>5.60</td>\n",
       "      <td>yes</td>\n",
       "      <td>No</td>\n",
       "      <td>Yes</td>\n",
       "      <td>1</td>\n",
       "      <td>No</td>\n",
       "      <td>Castro, Mr.  Sebastian</td>\n",
       "    </tr>\n",
       "    <tr>\n",
       "      <th>10</th>\n",
       "      <td>Id2325</td>\n",
       "      <td>2001</td>\n",
       "      <td>Sep</td>\n",
       "      <td>12</td>\n",
       "      <td>0</td>\n",
       "      <td>687.54</td>\n",
       "      <td>tier - 3</td>\n",
       "      <td>tier - 2</td>\n",
       "      <td>R1013</td>\n",
       "      <td>24.76</td>\n",
       "      <td>4.54</td>\n",
       "      <td>yes</td>\n",
       "      <td>No</td>\n",
       "      <td>No</td>\n",
       "      <td>No major surgery</td>\n",
       "      <td>No</td>\n",
       "      <td>Hines, Mr.  Fred</td>\n",
       "    </tr>\n",
       "    <tr>\n",
       "      <th>11</th>\n",
       "      <td>Id2324</td>\n",
       "      <td>1999</td>\n",
       "      <td>Dec</td>\n",
       "      <td>26</td>\n",
       "      <td>0</td>\n",
       "      <td>700.00</td>\n",
       "      <td>?</td>\n",
       "      <td>tier - 3</td>\n",
       "      <td>R1013</td>\n",
       "      <td>22.24</td>\n",
       "      <td>5.04</td>\n",
       "      <td>No</td>\n",
       "      <td>No</td>\n",
       "      <td>No</td>\n",
       "      <td>No major surgery</td>\n",
       "      <td>No</td>\n",
       "      <td>Duffy, Ms.  Meghan K</td>\n",
       "    </tr>\n",
       "    <tr>\n",
       "      <th>12</th>\n",
       "      <td>Id2323</td>\n",
       "      <td>1999</td>\n",
       "      <td>Dec</td>\n",
       "      <td>14</td>\n",
       "      <td>0</td>\n",
       "      <td>722.99</td>\n",
       "      <td>tier - 3</td>\n",
       "      <td>tier - 1</td>\n",
       "      <td>R1013</td>\n",
       "      <td>23.35</td>\n",
       "      <td>5.94</td>\n",
       "      <td>No</td>\n",
       "      <td>No</td>\n",
       "      <td>No</td>\n",
       "      <td>No major surgery</td>\n",
       "      <td>No</td>\n",
       "      <td>Buss, Mr.  Matthew</td>\n",
       "    </tr>\n",
       "    <tr>\n",
       "      <th>13</th>\n",
       "      <td>Id2322</td>\n",
       "      <td>2002</td>\n",
       "      <td>?</td>\n",
       "      <td>19</td>\n",
       "      <td>0</td>\n",
       "      <td>750.00</td>\n",
       "      <td>tier - 3</td>\n",
       "      <td>tier - 1</td>\n",
       "      <td>R1012</td>\n",
       "      <td>21.38</td>\n",
       "      <td>8.01</td>\n",
       "      <td>No</td>\n",
       "      <td>No</td>\n",
       "      <td>No</td>\n",
       "      <td>No major surgery</td>\n",
       "      <td>No</td>\n",
       "      <td>Street, Ms.  Holly</td>\n",
       "    </tr>\n",
       "    <tr>\n",
       "      <th>14</th>\n",
       "      <td>Id2321</td>\n",
       "      <td>1993</td>\n",
       "      <td>Aug</td>\n",
       "      <td>9</td>\n",
       "      <td>0</td>\n",
       "      <td>760.00</td>\n",
       "      <td>tier - 3</td>\n",
       "      <td>tier - 1</td>\n",
       "      <td>R1013</td>\n",
       "      <td>17.86</td>\n",
       "      <td>5.43</td>\n",
       "      <td>No</td>\n",
       "      <td>No</td>\n",
       "      <td>Yes</td>\n",
       "      <td>1</td>\n",
       "      <td>No</td>\n",
       "      <td>Danielson, Mr.  Thomas</td>\n",
       "    </tr>\n",
       "    <tr>\n",
       "      <th>15</th>\n",
       "      <td>Id2320</td>\n",
       "      <td>1996</td>\n",
       "      <td>Oct</td>\n",
       "      <td>22</td>\n",
       "      <td>0</td>\n",
       "      <td>760.00</td>\n",
       "      <td>tier - 3</td>\n",
       "      <td>tier - 3</td>\n",
       "      <td>R1013</td>\n",
       "      <td>19.21</td>\n",
       "      <td>5.53</td>\n",
       "      <td>yes</td>\n",
       "      <td>No</td>\n",
       "      <td>No</td>\n",
       "      <td>No major surgery</td>\n",
       "      <td>No</td>\n",
       "      <td>Graves - Rostro, Ms.  Lindy</td>\n",
       "    </tr>\n",
       "    <tr>\n",
       "      <th>16</th>\n",
       "      <td>Id2319</td>\n",
       "      <td>1993</td>\n",
       "      <td>Jun</td>\n",
       "      <td>28</td>\n",
       "      <td>0</td>\n",
       "      <td>770.00</td>\n",
       "      <td>tier - 3</td>\n",
       "      <td>tier - 3</td>\n",
       "      <td>R1013</td>\n",
       "      <td>17.08</td>\n",
       "      <td>5.73</td>\n",
       "      <td>No</td>\n",
       "      <td>No</td>\n",
       "      <td>Yes</td>\n",
       "      <td>1</td>\n",
       "      <td>No</td>\n",
       "      <td>Petermann, Mr.  Theodore A.</td>\n",
       "    </tr>\n",
       "    <tr>\n",
       "      <th>17</th>\n",
       "      <td>Id2318</td>\n",
       "      <td>1996</td>\n",
       "      <td>?</td>\n",
       "      <td>18</td>\n",
       "      <td>0</td>\n",
       "      <td>770.38</td>\n",
       "      <td>tier - 3</td>\n",
       "      <td>?</td>\n",
       "      <td>R1012</td>\n",
       "      <td>18.82</td>\n",
       "      <td>5.51</td>\n",
       "      <td>yes</td>\n",
       "      <td>No</td>\n",
       "      <td>No</td>\n",
       "      <td>No major surgery</td>\n",
       "      <td>No</td>\n",
       "      <td>Gagnon, Ms.  Candice M</td>\n",
       "    </tr>\n",
       "    <tr>\n",
       "      <th>18</th>\n",
       "      <td>Id2317</td>\n",
       "      <td>1995</td>\n",
       "      <td>Dec</td>\n",
       "      <td>7</td>\n",
       "      <td>0</td>\n",
       "      <td>773.54</td>\n",
       "      <td>tier - 3</td>\n",
       "      <td>tier - 2</td>\n",
       "      <td>R1013</td>\n",
       "      <td>20.47</td>\n",
       "      <td>5.81</td>\n",
       "      <td>yes</td>\n",
       "      <td>No</td>\n",
       "      <td>No</td>\n",
       "      <td>1</td>\n",
       "      <td>No</td>\n",
       "      <td>Murakami, Mr.  Koji</td>\n",
       "    </tr>\n",
       "    <tr>\n",
       "      <th>19</th>\n",
       "      <td>Id2316</td>\n",
       "      <td>2004</td>\n",
       "      <td>Oct</td>\n",
       "      <td>7</td>\n",
       "      <td>0</td>\n",
       "      <td>830.52</td>\n",
       "      <td>tier - 3</td>\n",
       "      <td>tier - 2</td>\n",
       "      <td>R1011</td>\n",
       "      <td>25.03</td>\n",
       "      <td>5.91</td>\n",
       "      <td>No</td>\n",
       "      <td>yes</td>\n",
       "      <td>No</td>\n",
       "      <td>1</td>\n",
       "      <td>No</td>\n",
       "      <td>Williams, Mr.  John T</td>\n",
       "    </tr>\n",
       "    <tr>\n",
       "      <th>20</th>\n",
       "      <td>Id2315</td>\n",
       "      <td>2000</td>\n",
       "      <td>Nov</td>\n",
       "      <td>18</td>\n",
       "      <td>0</td>\n",
       "      <td>865.41</td>\n",
       "      <td>tier - 3</td>\n",
       "      <td>tier - 1</td>\n",
       "      <td>R1013</td>\n",
       "      <td>24.14</td>\n",
       "      <td>5.29</td>\n",
       "      <td>No</td>\n",
       "      <td>yes</td>\n",
       "      <td>No</td>\n",
       "      <td>1</td>\n",
       "      <td>No</td>\n",
       "      <td>O'Rourke, Ms.  Flannery</td>\n",
       "    </tr>\n",
       "    <tr>\n",
       "      <th>21</th>\n",
       "      <td>Id2314</td>\n",
       "      <td>1993</td>\n",
       "      <td>Nov</td>\n",
       "      <td>27</td>\n",
       "      <td>0</td>\n",
       "      <td>896.21</td>\n",
       "      <td>tier - 3</td>\n",
       "      <td>tier - 1</td>\n",
       "      <td>R1013</td>\n",
       "      <td>18.93</td>\n",
       "      <td>6.11</td>\n",
       "      <td>No</td>\n",
       "      <td>No</td>\n",
       "      <td>Yes</td>\n",
       "      <td>1</td>\n",
       "      <td>No</td>\n",
       "      <td>Horbol, Ms.  Sarah E.</td>\n",
       "    </tr>\n",
       "    <tr>\n",
       "      <th>22</th>\n",
       "      <td>Id2313</td>\n",
       "      <td>1994</td>\n",
       "      <td>Oct</td>\n",
       "      <td>30</td>\n",
       "      <td>0</td>\n",
       "      <td>915.07</td>\n",
       "      <td>tier - 3</td>\n",
       "      <td>tier - 1</td>\n",
       "      <td>R1013</td>\n",
       "      <td>20.13</td>\n",
       "      <td>5.42</td>\n",
       "      <td>No</td>\n",
       "      <td>No</td>\n",
       "      <td>No</td>\n",
       "      <td>No major surgery</td>\n",
       "      <td>No</td>\n",
       "      <td>Ditota, Mr.  Robert</td>\n",
       "    </tr>\n",
       "    <tr>\n",
       "      <th>23</th>\n",
       "      <td>Id2312</td>\n",
       "      <td>1995</td>\n",
       "      <td>Oct</td>\n",
       "      <td>28</td>\n",
       "      <td>0</td>\n",
       "      <td>928.59</td>\n",
       "      <td>tier - 3</td>\n",
       "      <td>tier - 1</td>\n",
       "      <td>R1013</td>\n",
       "      <td>20.54</td>\n",
       "      <td>4.20</td>\n",
       "      <td>yes</td>\n",
       "      <td>No</td>\n",
       "      <td>No</td>\n",
       "      <td>1</td>\n",
       "      <td>No</td>\n",
       "      <td>Wilbur, Ms.  Lindsey</td>\n",
       "    </tr>\n",
       "    <tr>\n",
       "      <th>24</th>\n",
       "      <td>Id2311</td>\n",
       "      <td>2001</td>\n",
       "      <td>Aug</td>\n",
       "      <td>19</td>\n",
       "      <td>0</td>\n",
       "      <td>964.71</td>\n",
       "      <td>tier - 3</td>\n",
       "      <td>tier - 2</td>\n",
       "      <td>R1013</td>\n",
       "      <td>25.19</td>\n",
       "      <td>5.64</td>\n",
       "      <td>yes</td>\n",
       "      <td>No</td>\n",
       "      <td>No</td>\n",
       "      <td>No major surgery</td>\n",
       "      <td>No</td>\n",
       "      <td>Keys, Mrs.  Kathleen</td>\n",
       "    </tr>\n",
       "    <tr>\n",
       "      <th>25</th>\n",
       "      <td>Id2310</td>\n",
       "      <td>1994</td>\n",
       "      <td>Nov</td>\n",
       "      <td>22</td>\n",
       "      <td>0</td>\n",
       "      <td>1006.65</td>\n",
       "      <td>tier - 3</td>\n",
       "      <td>tier - 2</td>\n",
       "      <td>R1013</td>\n",
       "      <td>20.40</td>\n",
       "      <td>5.27</td>\n",
       "      <td>No</td>\n",
       "      <td>No</td>\n",
       "      <td>No</td>\n",
       "      <td>No major surgery</td>\n",
       "      <td>No</td>\n",
       "      <td>Lynch, Mr.  Matthew</td>\n",
       "    </tr>\n",
       "    <tr>\n",
       "      <th>26</th>\n",
       "      <td>Id2309</td>\n",
       "      <td>2000</td>\n",
       "      <td>Oct</td>\n",
       "      <td>9</td>\n",
       "      <td>0</td>\n",
       "      <td>1012.00</td>\n",
       "      <td>tier - 3</td>\n",
       "      <td>tier - 2</td>\n",
       "      <td>R1013</td>\n",
       "      <td>20.66</td>\n",
       "      <td>5.80</td>\n",
       "      <td>No</td>\n",
       "      <td>yes</td>\n",
       "      <td>No</td>\n",
       "      <td>1</td>\n",
       "      <td>No</td>\n",
       "      <td>Pedersen, Ms.  Kristen</td>\n",
       "    </tr>\n",
       "    <tr>\n",
       "      <th>27</th>\n",
       "      <td>Id2308</td>\n",
       "      <td>1999</td>\n",
       "      <td>Aug</td>\n",
       "      <td>5</td>\n",
       "      <td>0</td>\n",
       "      <td>1019.00</td>\n",
       "      <td>tier - 3</td>\n",
       "      <td>tier - 2</td>\n",
       "      <td>R1013</td>\n",
       "      <td>15.88</td>\n",
       "      <td>4.36</td>\n",
       "      <td>No</td>\n",
       "      <td>No</td>\n",
       "      <td>No</td>\n",
       "      <td>No major surgery</td>\n",
       "      <td>No</td>\n",
       "      <td>Tobin, Ms.  Kristina</td>\n",
       "    </tr>\n",
       "    <tr>\n",
       "      <th>28</th>\n",
       "      <td>Id2307</td>\n",
       "      <td>1995</td>\n",
       "      <td>Oct</td>\n",
       "      <td>5</td>\n",
       "      <td>0</td>\n",
       "      <td>1033.74</td>\n",
       "      <td>tier - 3</td>\n",
       "      <td>tier - 1</td>\n",
       "      <td>R1013</td>\n",
       "      <td>20.85</td>\n",
       "      <td>4.45</td>\n",
       "      <td>yes</td>\n",
       "      <td>No</td>\n",
       "      <td>No</td>\n",
       "      <td>1</td>\n",
       "      <td>No</td>\n",
       "      <td>Sweny, Ms.  Andrea</td>\n",
       "    </tr>\n",
       "    <tr>\n",
       "      <th>29</th>\n",
       "      <td>Id2306</td>\n",
       "      <td>1994</td>\n",
       "      <td>Nov</td>\n",
       "      <td>17</td>\n",
       "      <td>0</td>\n",
       "      <td>1044.00</td>\n",
       "      <td>tier - 3</td>\n",
       "      <td>tier - 2</td>\n",
       "      <td>R1013</td>\n",
       "      <td>16.14</td>\n",
       "      <td>4.86</td>\n",
       "      <td>No</td>\n",
       "      <td>No</td>\n",
       "      <td>No</td>\n",
       "      <td>No major surgery</td>\n",
       "      <td>No</td>\n",
       "      <td>Akiha, Mr.  Kenneth</td>\n",
       "    </tr>\n",
       "    <tr>\n",
       "      <th>30</th>\n",
       "      <td>Id2305</td>\n",
       "      <td>2002</td>\n",
       "      <td>Jul</td>\n",
       "      <td>20</td>\n",
       "      <td>0</td>\n",
       "      <td>1047.00</td>\n",
       "      <td>tier - 3</td>\n",
       "      <td>tier - 1</td>\n",
       "      <td>R1013</td>\n",
       "      <td>16.49</td>\n",
       "      <td>8.48</td>\n",
       "      <td>No</td>\n",
       "      <td>No</td>\n",
       "      <td>No</td>\n",
       "      <td>No major surgery</td>\n",
       "      <td>No</td>\n",
       "      <td>Lindgren, Mr.  Matthew S</td>\n",
       "    </tr>\n",
       "    <tr>\n",
       "      <th>31</th>\n",
       "      <td>Id2304</td>\n",
       "      <td>2002</td>\n",
       "      <td>Jul</td>\n",
       "      <td>1</td>\n",
       "      <td>0</td>\n",
       "      <td>1049.00</td>\n",
       "      <td>tier - 3</td>\n",
       "      <td>tier - 2</td>\n",
       "      <td>R1012</td>\n",
       "      <td>18.27</td>\n",
       "      <td>11.46</td>\n",
       "      <td>No</td>\n",
       "      <td>No</td>\n",
       "      <td>No</td>\n",
       "      <td>No major surgery</td>\n",
       "      <td>No</td>\n",
       "      <td>Fullarton, Mr.  Jim</td>\n",
       "    </tr>\n",
       "    <tr>\n",
       "      <th>32</th>\n",
       "      <td>Id2303</td>\n",
       "      <td>1995</td>\n",
       "      <td>Jun</td>\n",
       "      <td>1</td>\n",
       "      <td>0</td>\n",
       "      <td>1056.00</td>\n",
       "      <td>tier - 3</td>\n",
       "      <td>tier - 2</td>\n",
       "      <td>R1013</td>\n",
       "      <td>15.77</td>\n",
       "      <td>6.05</td>\n",
       "      <td>yes</td>\n",
       "      <td>No</td>\n",
       "      <td>No</td>\n",
       "      <td>1</td>\n",
       "      <td>No</td>\n",
       "      <td>Caron, Ms.  Evelyn L</td>\n",
       "    </tr>\n",
       "    <tr>\n",
       "      <th>33</th>\n",
       "      <td>Id2302</td>\n",
       "      <td>1993</td>\n",
       "      <td>Sep</td>\n",
       "      <td>28</td>\n",
       "      <td>0</td>\n",
       "      <td>1068.00</td>\n",
       "      <td>tier - 3</td>\n",
       "      <td>tier - 1</td>\n",
       "      <td>R1013</td>\n",
       "      <td>16.40</td>\n",
       "      <td>5.40</td>\n",
       "      <td>No</td>\n",
       "      <td>No</td>\n",
       "      <td>Yes</td>\n",
       "      <td>1</td>\n",
       "      <td>No</td>\n",
       "      <td>Ozahowski, Mr.  David</td>\n",
       "    </tr>\n",
       "    <tr>\n",
       "      <th>34</th>\n",
       "      <td>Id2301</td>\n",
       "      <td>2004</td>\n",
       "      <td>Aug</td>\n",
       "      <td>24</td>\n",
       "      <td>0</td>\n",
       "      <td>1070.00</td>\n",
       "      <td>tier - 3</td>\n",
       "      <td>tier - 3</td>\n",
       "      <td>R1013</td>\n",
       "      <td>21.64</td>\n",
       "      <td>5.50</td>\n",
       "      <td>No</td>\n",
       "      <td>yes</td>\n",
       "      <td>No</td>\n",
       "      <td>1</td>\n",
       "      <td>No</td>\n",
       "      <td>Sulhanek, Mr.  Roman</td>\n",
       "    </tr>\n",
       "    <tr>\n",
       "      <th>35</th>\n",
       "      <td>Id2300</td>\n",
       "      <td>1997</td>\n",
       "      <td>Aug</td>\n",
       "      <td>13</td>\n",
       "      <td>0</td>\n",
       "      <td>1071.00</td>\n",
       "      <td>tier - 3</td>\n",
       "      <td>tier - 3</td>\n",
       "      <td>R1013</td>\n",
       "      <td>17.98</td>\n",
       "      <td>5.33</td>\n",
       "      <td>yes</td>\n",
       "      <td>No</td>\n",
       "      <td>Yes</td>\n",
       "      <td>1</td>\n",
       "      <td>No</td>\n",
       "      <td>Jeffers, Mr.  Patrick</td>\n",
       "    </tr>\n",
       "    <tr>\n",
       "      <th>36</th>\n",
       "      <td>Id2299</td>\n",
       "      <td>1998</td>\n",
       "      <td>Dec</td>\n",
       "      <td>26</td>\n",
       "      <td>0</td>\n",
       "      <td>1082.00</td>\n",
       "      <td>tier - 3</td>\n",
       "      <td>tier - 2</td>\n",
       "      <td>R1013</td>\n",
       "      <td>15.61</td>\n",
       "      <td>5.28</td>\n",
       "      <td>No</td>\n",
       "      <td>No</td>\n",
       "      <td>No</td>\n",
       "      <td>1</td>\n",
       "      <td>No</td>\n",
       "      <td>Gates, Mr.  Justin K.</td>\n",
       "    </tr>\n",
       "    <tr>\n",
       "      <th>37</th>\n",
       "      <td>Id2298</td>\n",
       "      <td>2002</td>\n",
       "      <td>Aug</td>\n",
       "      <td>13</td>\n",
       "      <td>0</td>\n",
       "      <td>1086.00</td>\n",
       "      <td>tier - 3</td>\n",
       "      <td>tier - 3</td>\n",
       "      <td>R1013</td>\n",
       "      <td>17.17</td>\n",
       "      <td>8.46</td>\n",
       "      <td>No</td>\n",
       "      <td>No</td>\n",
       "      <td>No</td>\n",
       "      <td>No major surgery</td>\n",
       "      <td>No</td>\n",
       "      <td>Ferrell, Ms.  Mary Evan</td>\n",
       "    </tr>\n",
       "    <tr>\n",
       "      <th>38</th>\n",
       "      <td>Id2297</td>\n",
       "      <td>2004</td>\n",
       "      <td>Nov</td>\n",
       "      <td>12</td>\n",
       "      <td>0</td>\n",
       "      <td>1121.87</td>\n",
       "      <td>tier - 3</td>\n",
       "      <td>tier - 1</td>\n",
       "      <td>R1013</td>\n",
       "      <td>23.21</td>\n",
       "      <td>4.37</td>\n",
       "      <td>No</td>\n",
       "      <td>yes</td>\n",
       "      <td>No</td>\n",
       "      <td>1</td>\n",
       "      <td>No</td>\n",
       "      <td>Ruiz-Tagle Barros, Mr.  Jose Tomas</td>\n",
       "    </tr>\n",
       "    <tr>\n",
       "      <th>39</th>\n",
       "      <td>Id2296</td>\n",
       "      <td>2004</td>\n",
       "      <td>Jun</td>\n",
       "      <td>14</td>\n",
       "      <td>0</td>\n",
       "      <td>1131.51</td>\n",
       "      <td>tier - 3</td>\n",
       "      <td>tier - 1</td>\n",
       "      <td>R1013</td>\n",
       "      <td>30.14</td>\n",
       "      <td>5.49</td>\n",
       "      <td>No</td>\n",
       "      <td>yes</td>\n",
       "      <td>No</td>\n",
       "      <td>1</td>\n",
       "      <td>No</td>\n",
       "      <td>Enke, Mr.  Jacob J</td>\n",
       "    </tr>\n",
       "    <tr>\n",
       "      <th>40</th>\n",
       "      <td>Id2295</td>\n",
       "      <td>2002</td>\n",
       "      <td>Jul</td>\n",
       "      <td>19</td>\n",
       "      <td>0</td>\n",
       "      <td>1132.00</td>\n",
       "      <td>tier - 3</td>\n",
       "      <td>tier - 1</td>\n",
       "      <td>R1013</td>\n",
       "      <td>16.87</td>\n",
       "      <td>9.13</td>\n",
       "      <td>No</td>\n",
       "      <td>No</td>\n",
       "      <td>No</td>\n",
       "      <td>No major surgery</td>\n",
       "      <td>No</td>\n",
       "      <td>Beisel, Mr.  Josh</td>\n",
       "    </tr>\n",
       "    <tr>\n",
       "      <th>41</th>\n",
       "      <td>Id2294</td>\n",
       "      <td>2004</td>\n",
       "      <td>Oct</td>\n",
       "      <td>6</td>\n",
       "      <td>0</td>\n",
       "      <td>1135.00</td>\n",
       "      <td>tier - 3</td>\n",
       "      <td>tier - 3</td>\n",
       "      <td>R1013</td>\n",
       "      <td>21.84</td>\n",
       "      <td>5.71</td>\n",
       "      <td>No</td>\n",
       "      <td>yes</td>\n",
       "      <td>No</td>\n",
       "      <td>1</td>\n",
       "      <td>No</td>\n",
       "      <td>Treece, Ms.  Hope</td>\n",
       "    </tr>\n",
       "    <tr>\n",
       "      <th>42</th>\n",
       "      <td>Id2293</td>\n",
       "      <td>2004</td>\n",
       "      <td>Jun</td>\n",
       "      <td>11</td>\n",
       "      <td>0</td>\n",
       "      <td>1135.94</td>\n",
       "      <td>tier - 3</td>\n",
       "      <td>tier - 3</td>\n",
       "      <td>R1013</td>\n",
       "      <td>33.33</td>\n",
       "      <td>6.08</td>\n",
       "      <td>No</td>\n",
       "      <td>yes</td>\n",
       "      <td>No</td>\n",
       "      <td>1</td>\n",
       "      <td>No</td>\n",
       "      <td>Regnier, Mr.  Ryan</td>\n",
       "    </tr>\n",
       "    <tr>\n",
       "      <th>43</th>\n",
       "      <td>Id2292</td>\n",
       "      <td>2004</td>\n",
       "      <td>Nov</td>\n",
       "      <td>28</td>\n",
       "      <td>0</td>\n",
       "      <td>1136.40</td>\n",
       "      <td>tier - 3</td>\n",
       "      <td>tier - 3</td>\n",
       "      <td>R1013</td>\n",
       "      <td>33.66</td>\n",
       "      <td>5.71</td>\n",
       "      <td>No</td>\n",
       "      <td>yes</td>\n",
       "      <td>No</td>\n",
       "      <td>1</td>\n",
       "      <td>No</td>\n",
       "      <td>Talhelm, Mr.  Alan F</td>\n",
       "    </tr>\n",
       "    <tr>\n",
       "      <th>44</th>\n",
       "      <td>Id2291</td>\n",
       "      <td>2002</td>\n",
       "      <td>Aug</td>\n",
       "      <td>11</td>\n",
       "      <td>0</td>\n",
       "      <td>1137.00</td>\n",
       "      <td>tier - 3</td>\n",
       "      <td>tier - 1</td>\n",
       "      <td>R1013</td>\n",
       "      <td>19.30</td>\n",
       "      <td>10.36</td>\n",
       "      <td>No</td>\n",
       "      <td>No</td>\n",
       "      <td>No</td>\n",
       "      <td>No major surgery</td>\n",
       "      <td>No</td>\n",
       "      <td>King, Ms.  Erin C.</td>\n",
       "    </tr>\n",
       "    <tr>\n",
       "      <th>45</th>\n",
       "      <td>Id2290</td>\n",
       "      <td>2004</td>\n",
       "      <td>Oct</td>\n",
       "      <td>15</td>\n",
       "      <td>0</td>\n",
       "      <td>1137.01</td>\n",
       "      <td>tier - 3</td>\n",
       "      <td>tier - 1</td>\n",
       "      <td>R1013</td>\n",
       "      <td>34.10</td>\n",
       "      <td>4.07</td>\n",
       "      <td>No</td>\n",
       "      <td>yes</td>\n",
       "      <td>No</td>\n",
       "      <td>1</td>\n",
       "      <td>No</td>\n",
       "      <td>April, Mr.  Lusapho</td>\n",
       "    </tr>\n",
       "    <tr>\n",
       "      <th>46</th>\n",
       "      <td>Id2289</td>\n",
       "      <td>2004</td>\n",
       "      <td>Nov</td>\n",
       "      <td>27</td>\n",
       "      <td>0</td>\n",
       "      <td>1137.47</td>\n",
       "      <td>tier - 3</td>\n",
       "      <td>tier - 2</td>\n",
       "      <td>R1013</td>\n",
       "      <td>34.43</td>\n",
       "      <td>4.27</td>\n",
       "      <td>No</td>\n",
       "      <td>yes</td>\n",
       "      <td>No</td>\n",
       "      <td>1</td>\n",
       "      <td>No</td>\n",
       "      <td>Fraioli, Mr.  Mario Jr.</td>\n",
       "    </tr>\n",
       "    <tr>\n",
       "      <th>47</th>\n",
       "      <td>Id2288</td>\n",
       "      <td>2001</td>\n",
       "      <td>Oct</td>\n",
       "      <td>25</td>\n",
       "      <td>0</td>\n",
       "      <td>1141.00</td>\n",
       "      <td>tier - 3</td>\n",
       "      <td>tier - 1</td>\n",
       "      <td>R1013</td>\n",
       "      <td>16.74</td>\n",
       "      <td>4.08</td>\n",
       "      <td>yes</td>\n",
       "      <td>No</td>\n",
       "      <td>No</td>\n",
       "      <td>No major surgery</td>\n",
       "      <td>No</td>\n",
       "      <td>Barger, Ms.  Desiree</td>\n",
       "    </tr>\n",
       "    <tr>\n",
       "      <th>48</th>\n",
       "      <td>Id2287</td>\n",
       "      <td>2004</td>\n",
       "      <td>Sep</td>\n",
       "      <td>12</td>\n",
       "      <td>0</td>\n",
       "      <td>1141.45</td>\n",
       "      <td>tier - 3</td>\n",
       "      <td>tier - 3</td>\n",
       "      <td>R1013</td>\n",
       "      <td>37.29</td>\n",
       "      <td>5.03</td>\n",
       "      <td>No</td>\n",
       "      <td>yes</td>\n",
       "      <td>No</td>\n",
       "      <td>1</td>\n",
       "      <td>No</td>\n",
       "      <td>Albertson, Mr.  Mark P.</td>\n",
       "    </tr>\n",
       "    <tr>\n",
       "      <th>49</th>\n",
       "      <td>Id2286</td>\n",
       "      <td>2002</td>\n",
       "      <td>Oct</td>\n",
       "      <td>1</td>\n",
       "      <td>0</td>\n",
       "      <td>1142.00</td>\n",
       "      <td>tier - 3</td>\n",
       "      <td>tier - 2</td>\n",
       "      <td>R1011</td>\n",
       "      <td>16.55</td>\n",
       "      <td>7.73</td>\n",
       "      <td>No</td>\n",
       "      <td>No</td>\n",
       "      <td>No</td>\n",
       "      <td>No major surgery</td>\n",
       "      <td>No</td>\n",
       "      <td>Bain, Ms.  Hope</td>\n",
       "    </tr>\n",
       "  </tbody>\n",
       "</table>\n",
       "</div>"
      ],
      "text/plain": [
       "   customer_id  year month  date  children  charges hospital_tier city_tier  \\\n",
       "0       Id2335  1992   Jul     9         0   563.84      tier - 2  tier - 3   \n",
       "1       Id2334  1992   Nov    30         0   570.62      tier - 2  tier - 1   \n",
       "2       Id2333  1993   Jun    30         0   600.00      tier - 2  tier - 1   \n",
       "3       Id2332  1992   Sep    13         0   604.54      tier - 3  tier - 3   \n",
       "4       Id2331  1998   Jul    27         0   637.26      tier - 3  tier - 3   \n",
       "5       Id2330  2001   Nov    20         0   646.14      tier - 3  tier - 3   \n",
       "6       Id2329  1993   Jun     1         0   650.00      tier - 3  tier - 3   \n",
       "7       Id2328  1995   Jul     4         0   650.00      tier - 3  tier - 3   \n",
       "8       Id2327  2002   Nov    29         0   668.00      tier - 3  tier - 2   \n",
       "9       Id2326  1997   Nov     9         0   670.00      tier - 3  tier - 3   \n",
       "10      Id2325  2001   Sep    12         0   687.54      tier - 3  tier - 2   \n",
       "11      Id2324  1999   Dec    26         0   700.00             ?  tier - 3   \n",
       "12      Id2323  1999   Dec    14         0   722.99      tier - 3  tier - 1   \n",
       "13      Id2322  2002     ?    19         0   750.00      tier - 3  tier - 1   \n",
       "14      Id2321  1993   Aug     9         0   760.00      tier - 3  tier - 1   \n",
       "15      Id2320  1996   Oct    22         0   760.00      tier - 3  tier - 3   \n",
       "16      Id2319  1993   Jun    28         0   770.00      tier - 3  tier - 3   \n",
       "17      Id2318  1996     ?    18         0   770.38      tier - 3         ?   \n",
       "18      Id2317  1995   Dec     7         0   773.54      tier - 3  tier - 2   \n",
       "19      Id2316  2004   Oct     7         0   830.52      tier - 3  tier - 2   \n",
       "20      Id2315  2000   Nov    18         0   865.41      tier - 3  tier - 1   \n",
       "21      Id2314  1993   Nov    27         0   896.21      tier - 3  tier - 1   \n",
       "22      Id2313  1994   Oct    30         0   915.07      tier - 3  tier - 1   \n",
       "23      Id2312  1995   Oct    28         0   928.59      tier - 3  tier - 1   \n",
       "24      Id2311  2001   Aug    19         0   964.71      tier - 3  tier - 2   \n",
       "25      Id2310  1994   Nov    22         0  1006.65      tier - 3  tier - 2   \n",
       "26      Id2309  2000   Oct     9         0  1012.00      tier - 3  tier - 2   \n",
       "27      Id2308  1999   Aug     5         0  1019.00      tier - 3  tier - 2   \n",
       "28      Id2307  1995   Oct     5         0  1033.74      tier - 3  tier - 1   \n",
       "29      Id2306  1994   Nov    17         0  1044.00      tier - 3  tier - 2   \n",
       "30      Id2305  2002   Jul    20         0  1047.00      tier - 3  tier - 1   \n",
       "31      Id2304  2002   Jul     1         0  1049.00      tier - 3  tier - 2   \n",
       "32      Id2303  1995   Jun     1         0  1056.00      tier - 3  tier - 2   \n",
       "33      Id2302  1993   Sep    28         0  1068.00      tier - 3  tier - 1   \n",
       "34      Id2301  2004   Aug    24         0  1070.00      tier - 3  tier - 3   \n",
       "35      Id2300  1997   Aug    13         0  1071.00      tier - 3  tier - 3   \n",
       "36      Id2299  1998   Dec    26         0  1082.00      tier - 3  tier - 2   \n",
       "37      Id2298  2002   Aug    13         0  1086.00      tier - 3  tier - 3   \n",
       "38      Id2297  2004   Nov    12         0  1121.87      tier - 3  tier - 1   \n",
       "39      Id2296  2004   Jun    14         0  1131.51      tier - 3  tier - 1   \n",
       "40      Id2295  2002   Jul    19         0  1132.00      tier - 3  tier - 1   \n",
       "41      Id2294  2004   Oct     6         0  1135.00      tier - 3  tier - 3   \n",
       "42      Id2293  2004   Jun    11         0  1135.94      tier - 3  tier - 3   \n",
       "43      Id2292  2004   Nov    28         0  1136.40      tier - 3  tier - 3   \n",
       "44      Id2291  2002   Aug    11         0  1137.00      tier - 3  tier - 1   \n",
       "45      Id2290  2004   Oct    15         0  1137.01      tier - 3  tier - 1   \n",
       "46      Id2289  2004   Nov    27         0  1137.47      tier - 3  tier - 2   \n",
       "47      Id2288  2001   Oct    25         0  1141.00      tier - 3  tier - 1   \n",
       "48      Id2287  2004   Sep    12         0  1141.45      tier - 3  tier - 3   \n",
       "49      Id2286  2002   Oct     1         0  1142.00      tier - 3  tier - 2   \n",
       "\n",
       "   state_id    bmi  hba1c heart_issues any_transplants cancer_history  \\\n",
       "0     R1013  17.58   4.51           No              No             No   \n",
       "1     R1013  17.60   4.39           No              No             No   \n",
       "2     R1013  16.47   6.35           No              No            Yes   \n",
       "3     R1013  17.70   6.28           No              No             No   \n",
       "4     R1013  22.34   5.57           No              No             No   \n",
       "5     R1012  22.24   4.29          yes              No             No   \n",
       "6     R1013  17.07   5.22           No              No            Yes   \n",
       "7     R1013  17.82   5.26          yes              No             No   \n",
       "8     R1012  21.77  10.67           No              No             No   \n",
       "9     R1013  20.10   5.60          yes              No            Yes   \n",
       "10    R1013  24.76   4.54          yes              No             No   \n",
       "11    R1013  22.24   5.04           No              No             No   \n",
       "12    R1013  23.35   5.94           No              No             No   \n",
       "13    R1012  21.38   8.01           No              No             No   \n",
       "14    R1013  17.86   5.43           No              No            Yes   \n",
       "15    R1013  19.21   5.53          yes              No             No   \n",
       "16    R1013  17.08   5.73           No              No            Yes   \n",
       "17    R1012  18.82   5.51          yes              No             No   \n",
       "18    R1013  20.47   5.81          yes              No             No   \n",
       "19    R1011  25.03   5.91           No             yes             No   \n",
       "20    R1013  24.14   5.29           No             yes             No   \n",
       "21    R1013  18.93   6.11           No              No            Yes   \n",
       "22    R1013  20.13   5.42           No              No             No   \n",
       "23    R1013  20.54   4.20          yes              No             No   \n",
       "24    R1013  25.19   5.64          yes              No             No   \n",
       "25    R1013  20.40   5.27           No              No             No   \n",
       "26    R1013  20.66   5.80           No             yes             No   \n",
       "27    R1013  15.88   4.36           No              No             No   \n",
       "28    R1013  20.85   4.45          yes              No             No   \n",
       "29    R1013  16.14   4.86           No              No             No   \n",
       "30    R1013  16.49   8.48           No              No             No   \n",
       "31    R1012  18.27  11.46           No              No             No   \n",
       "32    R1013  15.77   6.05          yes              No             No   \n",
       "33    R1013  16.40   5.40           No              No            Yes   \n",
       "34    R1013  21.64   5.50           No             yes             No   \n",
       "35    R1013  17.98   5.33          yes              No            Yes   \n",
       "36    R1013  15.61   5.28           No              No             No   \n",
       "37    R1013  17.17   8.46           No              No             No   \n",
       "38    R1013  23.21   4.37           No             yes             No   \n",
       "39    R1013  30.14   5.49           No             yes             No   \n",
       "40    R1013  16.87   9.13           No              No             No   \n",
       "41    R1013  21.84   5.71           No             yes             No   \n",
       "42    R1013  33.33   6.08           No             yes             No   \n",
       "43    R1013  33.66   5.71           No             yes             No   \n",
       "44    R1013  19.30  10.36           No              No             No   \n",
       "45    R1013  34.10   4.07           No             yes             No   \n",
       "46    R1013  34.43   4.27           No             yes             No   \n",
       "47    R1013  16.74   4.08          yes              No             No   \n",
       "48    R1013  37.29   5.03           No             yes             No   \n",
       "49    R1011  16.55   7.73           No              No             No   \n",
       "\n",
       "   numberofmajorsurgeries smoker                                name  \n",
       "0                       1     No                German, Mr.  Aaron K  \n",
       "1                       1     No              Rosendahl, Mr.  Evan P  \n",
       "2                       1     No                  Albano, Ms.  Julie  \n",
       "3                       1     No  Riveros Gonzalez, Mr.  Juan D. Sr.  \n",
       "4                       1     No               Brietzke, Mr.  Jordan  \n",
       "5        No major surgery     No                    Kohls, Ms.  Katy  \n",
       "6                       1     No              Bohinski, Ms.  Susan E  \n",
       "7                       1     No                  Avery, Ms.  Nicole  \n",
       "8        No major surgery     No                  Howell, Ms.  Laura  \n",
       "9                       1     No              Castro, Mr.  Sebastian  \n",
       "10       No major surgery     No                    Hines, Mr.  Fred  \n",
       "11       No major surgery     No                Duffy, Ms.  Meghan K  \n",
       "12       No major surgery     No                  Buss, Mr.  Matthew  \n",
       "13       No major surgery     No                  Street, Ms.  Holly  \n",
       "14                      1     No              Danielson, Mr.  Thomas  \n",
       "15       No major surgery     No         Graves - Rostro, Ms.  Lindy  \n",
       "16                      1     No         Petermann, Mr.  Theodore A.  \n",
       "17       No major surgery     No              Gagnon, Ms.  Candice M  \n",
       "18                      1     No                 Murakami, Mr.  Koji  \n",
       "19                      1     No               Williams, Mr.  John T  \n",
       "20                      1     No             O'Rourke, Ms.  Flannery  \n",
       "21                      1     No               Horbol, Ms.  Sarah E.  \n",
       "22       No major surgery     No                 Ditota, Mr.  Robert  \n",
       "23                      1     No                Wilbur, Ms.  Lindsey  \n",
       "24       No major surgery     No                Keys, Mrs.  Kathleen  \n",
       "25       No major surgery     No                 Lynch, Mr.  Matthew  \n",
       "26                      1     No              Pedersen, Ms.  Kristen  \n",
       "27       No major surgery     No                Tobin, Ms.  Kristina  \n",
       "28                      1     No                  Sweny, Ms.  Andrea  \n",
       "29       No major surgery     No                 Akiha, Mr.  Kenneth  \n",
       "30       No major surgery     No            Lindgren, Mr.  Matthew S  \n",
       "31       No major surgery     No                 Fullarton, Mr.  Jim  \n",
       "32                      1     No                Caron, Ms.  Evelyn L  \n",
       "33                      1     No               Ozahowski, Mr.  David  \n",
       "34                      1     No                Sulhanek, Mr.  Roman  \n",
       "35                      1     No               Jeffers, Mr.  Patrick  \n",
       "36                      1     No               Gates, Mr.  Justin K.  \n",
       "37       No major surgery     No             Ferrell, Ms.  Mary Evan  \n",
       "38                      1     No  Ruiz-Tagle Barros, Mr.  Jose Tomas  \n",
       "39                      1     No                  Enke, Mr.  Jacob J  \n",
       "40       No major surgery     No                   Beisel, Mr.  Josh  \n",
       "41                      1     No                   Treece, Ms.  Hope  \n",
       "42                      1     No                  Regnier, Mr.  Ryan  \n",
       "43                      1     No                Talhelm, Mr.  Alan F  \n",
       "44       No major surgery     No                  King, Ms.  Erin C.  \n",
       "45                      1     No                 April, Mr.  Lusapho  \n",
       "46                      1     No             Fraioli, Mr.  Mario Jr.  \n",
       "47       No major surgery     No                Barger, Ms.  Desiree  \n",
       "48                      1     No             Albertson, Mr.  Mark P.  \n",
       "49       No major surgery     No                     Bain, Ms.  Hope  "
      ]
     },
     "execution_count": 15,
     "metadata": {},
     "output_type": "execute_result"
    }
   ],
   "source": [
    "#Check for missing values in the dataset\n",
    "master_data[:50]"
   ]
  },
  {
   "cell_type": "code",
   "execution_count": 16,
   "id": "cf75980e",
   "metadata": {
    "execution": {
     "iopub.execute_input": "2025-03-07T19:08:36.442004Z",
     "iopub.status.busy": "2025-03-07T19:08:36.441621Z",
     "iopub.status.idle": "2025-03-07T19:08:36.450304Z",
     "shell.execute_reply": "2025-03-07T19:08:36.449436Z"
    },
    "papermill": {
     "duration": 0.030186,
     "end_time": "2025-03-07T19:08:36.451919",
     "exception": false,
     "start_time": "2025-03-07T19:08:36.421733",
     "status": "completed"
    },
    "tags": []
   },
   "outputs": [
    {
     "data": {
      "text/plain": [
       "customer_id               0\n",
       "year                      0\n",
       "month                     0\n",
       "date                      0\n",
       "children                  0\n",
       "charges                   0\n",
       "hospital_tier             0\n",
       "city_tier                 0\n",
       "state_id                  0\n",
       "bmi                       0\n",
       "hba1c                     0\n",
       "heart_issues              0\n",
       "any_transplants           0\n",
       "cancer_history            0\n",
       "numberofmajorsurgeries    0\n",
       "smoker                    0\n",
       "name                      0\n",
       "dtype: int64"
      ]
     },
     "execution_count": 16,
     "metadata": {},
     "output_type": "execute_result"
    }
   ],
   "source": [
    "#Check for missing data - Since no data is missing we don't need to perform any missing value imputation\n",
    "master_data.isnull().sum()"
   ]
  },
  {
   "cell_type": "code",
   "execution_count": 17,
   "id": "d3f5bedd",
   "metadata": {
    "execution": {
     "iopub.execute_input": "2025-03-07T19:08:36.491791Z",
     "iopub.status.busy": "2025-03-07T19:08:36.491386Z",
     "iopub.status.idle": "2025-03-07T19:08:36.501437Z",
     "shell.execute_reply": "2025-03-07T19:08:36.500393Z"
    },
    "papermill": {
     "duration": 0.032012,
     "end_time": "2025-03-07T19:08:36.503221",
     "exception": false,
     "start_time": "2025-03-07T19:08:36.471209",
     "status": "completed"
    },
    "tags": []
   },
   "outputs": [
    {
     "data": {
      "text/plain": [
       "customer_id               0\n",
       "year                      2\n",
       "month                     3\n",
       "date                      0\n",
       "children                  0\n",
       "charges                   0\n",
       "hospital_tier             1\n",
       "city_tier                 1\n",
       "state_id                  2\n",
       "bmi                       0\n",
       "hba1c                     0\n",
       "heart_issues              0\n",
       "any_transplants           0\n",
       "cancer_history            0\n",
       "numberofmajorsurgeries    0\n",
       "smoker                    2\n",
       "name                      0\n",
       "dtype: int64"
      ]
     },
     "execution_count": 17,
     "metadata": {},
     "output_type": "execute_result"
    }
   ],
   "source": [
    "#Find the percentage of rows that have trivial value and delete such rows if they do not contain significant information\n",
    "(master_data == '?').sum()"
   ]
  },
  {
   "cell_type": "code",
   "execution_count": 18,
   "id": "71852d5f",
   "metadata": {
    "execution": {
     "iopub.execute_input": "2025-03-07T19:08:36.543495Z",
     "iopub.status.busy": "2025-03-07T19:08:36.543122Z",
     "iopub.status.idle": "2025-03-07T19:08:36.554536Z",
     "shell.execute_reply": "2025-03-07T19:08:36.553726Z"
    },
    "papermill": {
     "duration": 0.033295,
     "end_time": "2025-03-07T19:08:36.556012",
     "exception": false,
     "start_time": "2025-03-07T19:08:36.522717",
     "status": "completed"
    },
    "tags": []
   },
   "outputs": [
    {
     "data": {
      "text/plain": [
       "0       0.000000\n",
       "1       0.000000\n",
       "2       0.000000\n",
       "3       0.000000\n",
       "4       0.000000\n",
       "          ...   \n",
       "2330    0.000000\n",
       "2331    0.000000\n",
       "2332    5.882353\n",
       "2333    0.000000\n",
       "2334    0.000000\n",
       "Length: 2335, dtype: float64"
      ]
     },
     "execution_count": 18,
     "metadata": {},
     "output_type": "execute_result"
    }
   ],
   "source": [
    "#Row wise percentage of special character data\n",
    "missing_percent = (master_data == '?').sum(axis=1)/master_data.shape[1]*100\n",
    "missing_percent"
   ]
  },
  {
   "cell_type": "code",
   "execution_count": 19,
   "id": "d60233d2",
   "metadata": {
    "execution": {
     "iopub.execute_input": "2025-03-07T19:08:36.595941Z",
     "iopub.status.busy": "2025-03-07T19:08:36.595422Z",
     "iopub.status.idle": "2025-03-07T19:08:36.602803Z",
     "shell.execute_reply": "2025-03-07T19:08:36.601895Z"
    },
    "papermill": {
     "duration": 0.029325,
     "end_time": "2025-03-07T19:08:36.604570",
     "exception": false,
     "start_time": "2025-03-07T19:08:36.575245",
     "status": "completed"
    },
    "tags": []
   },
   "outputs": [
    {
     "data": {
      "text/plain": [
       "11       5.882353\n",
       "13       5.882353\n",
       "17      11.764706\n",
       "542      5.882353\n",
       "1046     5.882353\n",
       "1049     5.882353\n",
       "1700     5.882353\n",
       "1775     5.882353\n",
       "2165     5.882353\n",
       "2332     5.882353\n",
       "dtype: float64"
      ]
     },
     "execution_count": 19,
     "metadata": {},
     "output_type": "execute_result"
    }
   ],
   "source": [
    "missing_percent[missing_percent > 0]"
   ]
  },
  {
   "cell_type": "code",
   "execution_count": 20,
   "id": "c1f2e5bf",
   "metadata": {
    "execution": {
     "iopub.execute_input": "2025-03-07T19:08:36.644951Z",
     "iopub.status.busy": "2025-03-07T19:08:36.644549Z",
     "iopub.status.idle": "2025-03-07T19:08:36.655524Z",
     "shell.execute_reply": "2025-03-07T19:08:36.654444Z"
    },
    "papermill": {
     "duration": 0.033018,
     "end_time": "2025-03-07T19:08:36.657136",
     "exception": false,
     "start_time": "2025-03-07T19:08:36.624118",
     "status": "completed"
    },
    "tags": []
   },
   "outputs": [
    {
     "data": {
      "text/plain": [
       "year             11.764706\n",
       "month            17.647059\n",
       "hospital_tier     5.882353\n",
       "city_tier         5.882353\n",
       "state_id         11.764706\n",
       "smoker           11.764706\n",
       "dtype: float64"
      ]
     },
     "execution_count": 20,
     "metadata": {},
     "output_type": "execute_result"
    }
   ],
   "source": [
    "#Column wise percentage of special character data\n",
    "missing_percent_col = (master_data == '?').sum(axis=0)/master_data.shape[1]*100\n",
    "missing_percent_col[missing_percent_col > 0]"
   ]
  },
  {
   "cell_type": "code",
   "execution_count": 21,
   "id": "3498460b",
   "metadata": {
    "execution": {
     "iopub.execute_input": "2025-03-07T19:08:36.751034Z",
     "iopub.status.busy": "2025-03-07T19:08:36.750705Z",
     "iopub.status.idle": "2025-03-07T19:08:36.756522Z",
     "shell.execute_reply": "2025-03-07T19:08:36.755734Z"
    },
    "papermill": {
     "duration": 0.028383,
     "end_time": "2025-03-07T19:08:36.758097",
     "exception": false,
     "start_time": "2025-03-07T19:08:36.729714",
     "status": "completed"
    },
    "tags": []
   },
   "outputs": [],
   "source": [
    "data = master_data.drop(index = missing_percent[missing_percent > 0].index)"
   ]
  },
  {
   "cell_type": "code",
   "execution_count": 22,
   "id": "d683713e",
   "metadata": {
    "execution": {
     "iopub.execute_input": "2025-03-07T19:08:36.798375Z",
     "iopub.status.busy": "2025-03-07T19:08:36.798018Z",
     "iopub.status.idle": "2025-03-07T19:08:36.803307Z",
     "shell.execute_reply": "2025-03-07T19:08:36.802503Z"
    },
    "papermill": {
     "duration": 0.027062,
     "end_time": "2025-03-07T19:08:36.804744",
     "exception": false,
     "start_time": "2025-03-07T19:08:36.777682",
     "status": "completed"
    },
    "tags": []
   },
   "outputs": [
    {
     "data": {
      "text/plain": [
       "(2325, 17)"
      ]
     },
     "execution_count": 22,
     "metadata": {},
     "output_type": "execute_result"
    }
   ],
   "source": [
    "data.shape"
   ]
  },
  {
   "cell_type": "code",
   "execution_count": 23,
   "id": "3d4568ba",
   "metadata": {
    "execution": {
     "iopub.execute_input": "2025-03-07T19:08:36.845209Z",
     "iopub.status.busy": "2025-03-07T19:08:36.844871Z",
     "iopub.status.idle": "2025-03-07T19:08:36.850439Z",
     "shell.execute_reply": "2025-03-07T19:08:36.849623Z"
    },
    "papermill": {
     "duration": 0.027392,
     "end_time": "2025-03-07T19:08:36.851837",
     "exception": false,
     "start_time": "2025-03-07T19:08:36.824445",
     "status": "completed"
    },
    "tags": []
   },
   "outputs": [
    {
     "data": {
      "text/plain": [
       "(2335, 17)"
      ]
     },
     "execution_count": 23,
     "metadata": {},
     "output_type": "execute_result"
    }
   ],
   "source": [
    "master_data.shape"
   ]
  },
  {
   "cell_type": "code",
   "execution_count": 24,
   "id": "6edaf80a",
   "metadata": {
    "execution": {
     "iopub.execute_input": "2025-03-07T19:08:36.893414Z",
     "iopub.status.busy": "2025-03-07T19:08:36.892993Z",
     "iopub.status.idle": "2025-03-07T19:08:36.911174Z",
     "shell.execute_reply": "2025-03-07T19:08:36.910110Z"
    },
    "papermill": {
     "duration": 0.041337,
     "end_time": "2025-03-07T19:08:36.912815",
     "exception": false,
     "start_time": "2025-03-07T19:08:36.871478",
     "status": "completed"
    },
    "tags": []
   },
   "outputs": [
    {
     "data": {
      "text/html": [
       "<div>\n",
       "<style scoped>\n",
       "    .dataframe tbody tr th:only-of-type {\n",
       "        vertical-align: middle;\n",
       "    }\n",
       "\n",
       "    .dataframe tbody tr th {\n",
       "        vertical-align: top;\n",
       "    }\n",
       "\n",
       "    .dataframe thead th {\n",
       "        text-align: right;\n",
       "    }\n",
       "</style>\n",
       "<table border=\"1\" class=\"dataframe\">\n",
       "  <thead>\n",
       "    <tr style=\"text-align: right;\">\n",
       "      <th></th>\n",
       "      <th>customer_id</th>\n",
       "      <th>year</th>\n",
       "      <th>month</th>\n",
       "      <th>date</th>\n",
       "      <th>children</th>\n",
       "      <th>charges</th>\n",
       "      <th>hospital_tier</th>\n",
       "      <th>city_tier</th>\n",
       "      <th>state_id</th>\n",
       "      <th>bmi</th>\n",
       "      <th>hba1c</th>\n",
       "      <th>heart_issues</th>\n",
       "      <th>any_transplants</th>\n",
       "      <th>cancer_history</th>\n",
       "      <th>numberofmajorsurgeries</th>\n",
       "      <th>smoker</th>\n",
       "      <th>name</th>\n",
       "    </tr>\n",
       "  </thead>\n",
       "  <tbody>\n",
       "    <tr>\n",
       "      <th>0</th>\n",
       "      <td>Id2335</td>\n",
       "      <td>1992</td>\n",
       "      <td>Jul</td>\n",
       "      <td>9</td>\n",
       "      <td>0</td>\n",
       "      <td>563.84</td>\n",
       "      <td>tier - 2</td>\n",
       "      <td>tier - 3</td>\n",
       "      <td>R1013</td>\n",
       "      <td>17.58</td>\n",
       "      <td>4.51</td>\n",
       "      <td>No</td>\n",
       "      <td>No</td>\n",
       "      <td>No</td>\n",
       "      <td>1</td>\n",
       "      <td>No</td>\n",
       "      <td>German, Mr.  Aaron K</td>\n",
       "    </tr>\n",
       "    <tr>\n",
       "      <th>1</th>\n",
       "      <td>Id2334</td>\n",
       "      <td>1992</td>\n",
       "      <td>Nov</td>\n",
       "      <td>30</td>\n",
       "      <td>0</td>\n",
       "      <td>570.62</td>\n",
       "      <td>tier - 2</td>\n",
       "      <td>tier - 1</td>\n",
       "      <td>R1013</td>\n",
       "      <td>17.60</td>\n",
       "      <td>4.39</td>\n",
       "      <td>No</td>\n",
       "      <td>No</td>\n",
       "      <td>No</td>\n",
       "      <td>1</td>\n",
       "      <td>No</td>\n",
       "      <td>Rosendahl, Mr.  Evan P</td>\n",
       "    </tr>\n",
       "    <tr>\n",
       "      <th>2</th>\n",
       "      <td>Id2333</td>\n",
       "      <td>1993</td>\n",
       "      <td>Jun</td>\n",
       "      <td>30</td>\n",
       "      <td>0</td>\n",
       "      <td>600.00</td>\n",
       "      <td>tier - 2</td>\n",
       "      <td>tier - 1</td>\n",
       "      <td>R1013</td>\n",
       "      <td>16.47</td>\n",
       "      <td>6.35</td>\n",
       "      <td>No</td>\n",
       "      <td>No</td>\n",
       "      <td>Yes</td>\n",
       "      <td>1</td>\n",
       "      <td>No</td>\n",
       "      <td>Albano, Ms.  Julie</td>\n",
       "    </tr>\n",
       "    <tr>\n",
       "      <th>3</th>\n",
       "      <td>Id2332</td>\n",
       "      <td>1992</td>\n",
       "      <td>Sep</td>\n",
       "      <td>13</td>\n",
       "      <td>0</td>\n",
       "      <td>604.54</td>\n",
       "      <td>tier - 3</td>\n",
       "      <td>tier - 3</td>\n",
       "      <td>R1013</td>\n",
       "      <td>17.70</td>\n",
       "      <td>6.28</td>\n",
       "      <td>No</td>\n",
       "      <td>No</td>\n",
       "      <td>No</td>\n",
       "      <td>1</td>\n",
       "      <td>No</td>\n",
       "      <td>Riveros Gonzalez, Mr.  Juan D. Sr.</td>\n",
       "    </tr>\n",
       "    <tr>\n",
       "      <th>4</th>\n",
       "      <td>Id2331</td>\n",
       "      <td>1998</td>\n",
       "      <td>Jul</td>\n",
       "      <td>27</td>\n",
       "      <td>0</td>\n",
       "      <td>637.26</td>\n",
       "      <td>tier - 3</td>\n",
       "      <td>tier - 3</td>\n",
       "      <td>R1013</td>\n",
       "      <td>22.34</td>\n",
       "      <td>5.57</td>\n",
       "      <td>No</td>\n",
       "      <td>No</td>\n",
       "      <td>No</td>\n",
       "      <td>1</td>\n",
       "      <td>No</td>\n",
       "      <td>Brietzke, Mr.  Jordan</td>\n",
       "    </tr>\n",
       "  </tbody>\n",
       "</table>\n",
       "</div>"
      ],
      "text/plain": [
       "  customer_id  year month  date  children  charges hospital_tier city_tier  \\\n",
       "0      Id2335  1992   Jul     9         0   563.84      tier - 2  tier - 3   \n",
       "1      Id2334  1992   Nov    30         0   570.62      tier - 2  tier - 1   \n",
       "2      Id2333  1993   Jun    30         0   600.00      tier - 2  tier - 1   \n",
       "3      Id2332  1992   Sep    13         0   604.54      tier - 3  tier - 3   \n",
       "4      Id2331  1998   Jul    27         0   637.26      tier - 3  tier - 3   \n",
       "\n",
       "  state_id    bmi  hba1c heart_issues any_transplants cancer_history  \\\n",
       "0    R1013  17.58   4.51           No              No             No   \n",
       "1    R1013  17.60   4.39           No              No             No   \n",
       "2    R1013  16.47   6.35           No              No            Yes   \n",
       "3    R1013  17.70   6.28           No              No             No   \n",
       "4    R1013  22.34   5.57           No              No             No   \n",
       "\n",
       "  numberofmajorsurgeries smoker                                name  \n",
       "0                      1     No                German, Mr.  Aaron K  \n",
       "1                      1     No              Rosendahl, Mr.  Evan P  \n",
       "2                      1     No                  Albano, Ms.  Julie  \n",
       "3                      1     No  Riveros Gonzalez, Mr.  Juan D. Sr.  \n",
       "4                      1     No               Brietzke, Mr.  Jordan  "
      ]
     },
     "execution_count": 24,
     "metadata": {},
     "output_type": "execute_result"
    }
   ],
   "source": [
    "master_data.head()"
   ]
  },
  {
   "cell_type": "code",
   "execution_count": 25,
   "id": "f5f30359",
   "metadata": {
    "execution": {
     "iopub.execute_input": "2025-03-07T19:08:36.955524Z",
     "iopub.status.busy": "2025-03-07T19:08:36.955083Z",
     "iopub.status.idle": "2025-03-07T19:08:36.984834Z",
     "shell.execute_reply": "2025-03-07T19:08:36.983730Z"
    },
    "papermill": {
     "duration": 0.052739,
     "end_time": "2025-03-07T19:08:36.986518",
     "exception": false,
     "start_time": "2025-03-07T19:08:36.933779",
     "status": "completed"
    },
    "tags": []
   },
   "outputs": [
    {
     "data": {
      "text/html": [
       "<div>\n",
       "<style scoped>\n",
       "    .dataframe tbody tr th:only-of-type {\n",
       "        vertical-align: middle;\n",
       "    }\n",
       "\n",
       "    .dataframe tbody tr th {\n",
       "        vertical-align: top;\n",
       "    }\n",
       "\n",
       "    .dataframe thead th {\n",
       "        text-align: right;\n",
       "    }\n",
       "</style>\n",
       "<table border=\"1\" class=\"dataframe\">\n",
       "  <thead>\n",
       "    <tr style=\"text-align: right;\">\n",
       "      <th></th>\n",
       "      <th>customer_id</th>\n",
       "      <th>year</th>\n",
       "      <th>month</th>\n",
       "      <th>date</th>\n",
       "      <th>children</th>\n",
       "      <th>charges</th>\n",
       "      <th>hospital_tier</th>\n",
       "      <th>city_tier</th>\n",
       "      <th>state_id</th>\n",
       "      <th>bmi</th>\n",
       "      <th>hba1c</th>\n",
       "      <th>heart_issues</th>\n",
       "      <th>any_transplants</th>\n",
       "      <th>cancer_history</th>\n",
       "      <th>numberofmajorsurgeries</th>\n",
       "      <th>smoker</th>\n",
       "      <th>name</th>\n",
       "    </tr>\n",
       "  </thead>\n",
       "  <tbody>\n",
       "    <tr>\n",
       "      <th>0</th>\n",
       "      <td>Id2335</td>\n",
       "      <td>1992</td>\n",
       "      <td>2</td>\n",
       "      <td>9</td>\n",
       "      <td>0</td>\n",
       "      <td>563.84</td>\n",
       "      <td>1</td>\n",
       "      <td>2</td>\n",
       "      <td>R1013</td>\n",
       "      <td>17.580</td>\n",
       "      <td>4.51</td>\n",
       "      <td>0</td>\n",
       "      <td>0</td>\n",
       "      <td>0</td>\n",
       "      <td>1</td>\n",
       "      <td>0</td>\n",
       "      <td>German, Mr.  Aaron K</td>\n",
       "    </tr>\n",
       "    <tr>\n",
       "      <th>1</th>\n",
       "      <td>Id2334</td>\n",
       "      <td>1992</td>\n",
       "      <td>4</td>\n",
       "      <td>30</td>\n",
       "      <td>0</td>\n",
       "      <td>570.62</td>\n",
       "      <td>1</td>\n",
       "      <td>0</td>\n",
       "      <td>R1013</td>\n",
       "      <td>17.600</td>\n",
       "      <td>4.39</td>\n",
       "      <td>0</td>\n",
       "      <td>0</td>\n",
       "      <td>0</td>\n",
       "      <td>1</td>\n",
       "      <td>0</td>\n",
       "      <td>Rosendahl, Mr.  Evan P</td>\n",
       "    </tr>\n",
       "    <tr>\n",
       "      <th>2</th>\n",
       "      <td>Id2333</td>\n",
       "      <td>1993</td>\n",
       "      <td>3</td>\n",
       "      <td>30</td>\n",
       "      <td>0</td>\n",
       "      <td>600.00</td>\n",
       "      <td>1</td>\n",
       "      <td>0</td>\n",
       "      <td>R1013</td>\n",
       "      <td>16.470</td>\n",
       "      <td>6.35</td>\n",
       "      <td>0</td>\n",
       "      <td>0</td>\n",
       "      <td>1</td>\n",
       "      <td>1</td>\n",
       "      <td>0</td>\n",
       "      <td>Albano, Ms.  Julie</td>\n",
       "    </tr>\n",
       "    <tr>\n",
       "      <th>3</th>\n",
       "      <td>Id2332</td>\n",
       "      <td>1992</td>\n",
       "      <td>6</td>\n",
       "      <td>13</td>\n",
       "      <td>0</td>\n",
       "      <td>604.54</td>\n",
       "      <td>2</td>\n",
       "      <td>2</td>\n",
       "      <td>R1013</td>\n",
       "      <td>17.700</td>\n",
       "      <td>6.28</td>\n",
       "      <td>0</td>\n",
       "      <td>0</td>\n",
       "      <td>0</td>\n",
       "      <td>1</td>\n",
       "      <td>0</td>\n",
       "      <td>Riveros Gonzalez, Mr.  Juan D. Sr.</td>\n",
       "    </tr>\n",
       "    <tr>\n",
       "      <th>4</th>\n",
       "      <td>Id2331</td>\n",
       "      <td>1998</td>\n",
       "      <td>2</td>\n",
       "      <td>27</td>\n",
       "      <td>0</td>\n",
       "      <td>637.26</td>\n",
       "      <td>2</td>\n",
       "      <td>2</td>\n",
       "      <td>R1013</td>\n",
       "      <td>22.340</td>\n",
       "      <td>5.57</td>\n",
       "      <td>0</td>\n",
       "      <td>0</td>\n",
       "      <td>0</td>\n",
       "      <td>1</td>\n",
       "      <td>0</td>\n",
       "      <td>Brietzke, Mr.  Jordan</td>\n",
       "    </tr>\n",
       "    <tr>\n",
       "      <th>...</th>\n",
       "      <td>...</td>\n",
       "      <td>...</td>\n",
       "      <td>...</td>\n",
       "      <td>...</td>\n",
       "      <td>...</td>\n",
       "      <td>...</td>\n",
       "      <td>...</td>\n",
       "      <td>...</td>\n",
       "      <td>...</td>\n",
       "      <td>...</td>\n",
       "      <td>...</td>\n",
       "      <td>...</td>\n",
       "      <td>...</td>\n",
       "      <td>...</td>\n",
       "      <td>...</td>\n",
       "      <td>...</td>\n",
       "      <td>...</td>\n",
       "    </tr>\n",
       "    <tr>\n",
       "      <th>2329</th>\n",
       "      <td>Id6</td>\n",
       "      <td>1962</td>\n",
       "      <td>0</td>\n",
       "      <td>4</td>\n",
       "      <td>0</td>\n",
       "      <td>52590.83</td>\n",
       "      <td>0</td>\n",
       "      <td>2</td>\n",
       "      <td>R1011</td>\n",
       "      <td>32.800</td>\n",
       "      <td>6.59</td>\n",
       "      <td>0</td>\n",
       "      <td>0</td>\n",
       "      <td>0</td>\n",
       "      <td>No major surgery</td>\n",
       "      <td>1</td>\n",
       "      <td>Baker, Mr.  Russell B.</td>\n",
       "    </tr>\n",
       "    <tr>\n",
       "      <th>2330</th>\n",
       "      <td>Id5</td>\n",
       "      <td>1989</td>\n",
       "      <td>3</td>\n",
       "      <td>19</td>\n",
       "      <td>0</td>\n",
       "      <td>55135.40</td>\n",
       "      <td>0</td>\n",
       "      <td>1</td>\n",
       "      <td>R1012</td>\n",
       "      <td>35.530</td>\n",
       "      <td>5.45</td>\n",
       "      <td>0</td>\n",
       "      <td>0</td>\n",
       "      <td>0</td>\n",
       "      <td>No major surgery</td>\n",
       "      <td>1</td>\n",
       "      <td>Kadala, Ms.  Kristyn</td>\n",
       "    </tr>\n",
       "    <tr>\n",
       "      <th>2331</th>\n",
       "      <td>Id4</td>\n",
       "      <td>1991</td>\n",
       "      <td>3</td>\n",
       "      <td>6</td>\n",
       "      <td>1</td>\n",
       "      <td>58571.07</td>\n",
       "      <td>0</td>\n",
       "      <td>2</td>\n",
       "      <td>R1024</td>\n",
       "      <td>38.095</td>\n",
       "      <td>6.05</td>\n",
       "      <td>0</td>\n",
       "      <td>0</td>\n",
       "      <td>0</td>\n",
       "      <td>No major surgery</td>\n",
       "      <td>1</td>\n",
       "      <td>Osborne, Ms.  Kelsey</td>\n",
       "    </tr>\n",
       "    <tr>\n",
       "      <th>2333</th>\n",
       "      <td>Id2</td>\n",
       "      <td>1977</td>\n",
       "      <td>3</td>\n",
       "      <td>8</td>\n",
       "      <td>0</td>\n",
       "      <td>62592.87</td>\n",
       "      <td>1</td>\n",
       "      <td>2</td>\n",
       "      <td>R1013</td>\n",
       "      <td>30.360</td>\n",
       "      <td>5.77</td>\n",
       "      <td>0</td>\n",
       "      <td>0</td>\n",
       "      <td>0</td>\n",
       "      <td>No major surgery</td>\n",
       "      <td>1</td>\n",
       "      <td>Lehner, Mr.  Matthew D</td>\n",
       "    </tr>\n",
       "    <tr>\n",
       "      <th>2334</th>\n",
       "      <td>Id1</td>\n",
       "      <td>1968</td>\n",
       "      <td>5</td>\n",
       "      <td>12</td>\n",
       "      <td>0</td>\n",
       "      <td>63770.43</td>\n",
       "      <td>0</td>\n",
       "      <td>2</td>\n",
       "      <td>R1013</td>\n",
       "      <td>47.410</td>\n",
       "      <td>7.47</td>\n",
       "      <td>0</td>\n",
       "      <td>0</td>\n",
       "      <td>0</td>\n",
       "      <td>No major surgery</td>\n",
       "      <td>1</td>\n",
       "      <td>Hawks, Ms.  Kelly</td>\n",
       "    </tr>\n",
       "  </tbody>\n",
       "</table>\n",
       "<p>2325 rows × 17 columns</p>\n",
       "</div>"
      ],
      "text/plain": [
       "     customer_id  year  month  date  children   charges  hospital_tier  \\\n",
       "0         Id2335  1992      2     9         0    563.84              1   \n",
       "1         Id2334  1992      4    30         0    570.62              1   \n",
       "2         Id2333  1993      3    30         0    600.00              1   \n",
       "3         Id2332  1992      6    13         0    604.54              2   \n",
       "4         Id2331  1998      2    27         0    637.26              2   \n",
       "...          ...   ...    ...   ...       ...       ...            ...   \n",
       "2329         Id6  1962      0     4         0  52590.83              0   \n",
       "2330         Id5  1989      3    19         0  55135.40              0   \n",
       "2331         Id4  1991      3     6         1  58571.07              0   \n",
       "2333         Id2  1977      3     8         0  62592.87              1   \n",
       "2334         Id1  1968      5    12         0  63770.43              0   \n",
       "\n",
       "      city_tier state_id     bmi  hba1c  heart_issues  any_transplants  \\\n",
       "0             2    R1013  17.580   4.51             0                0   \n",
       "1             0    R1013  17.600   4.39             0                0   \n",
       "2             0    R1013  16.470   6.35             0                0   \n",
       "3             2    R1013  17.700   6.28             0                0   \n",
       "4             2    R1013  22.340   5.57             0                0   \n",
       "...         ...      ...     ...    ...           ...              ...   \n",
       "2329          2    R1011  32.800   6.59             0                0   \n",
       "2330          1    R1012  35.530   5.45             0                0   \n",
       "2331          2    R1024  38.095   6.05             0                0   \n",
       "2333          2    R1013  30.360   5.77             0                0   \n",
       "2334          2    R1013  47.410   7.47             0                0   \n",
       "\n",
       "      cancer_history numberofmajorsurgeries  smoker  \\\n",
       "0                  0                      1       0   \n",
       "1                  0                      1       0   \n",
       "2                  1                      1       0   \n",
       "3                  0                      1       0   \n",
       "4                  0                      1       0   \n",
       "...              ...                    ...     ...   \n",
       "2329               0       No major surgery       1   \n",
       "2330               0       No major surgery       1   \n",
       "2331               0       No major surgery       1   \n",
       "2333               0       No major surgery       1   \n",
       "2334               0       No major surgery       1   \n",
       "\n",
       "                                    name  \n",
       "0                   German, Mr.  Aaron K  \n",
       "1                 Rosendahl, Mr.  Evan P  \n",
       "2                     Albano, Ms.  Julie  \n",
       "3     Riveros Gonzalez, Mr.  Juan D. Sr.  \n",
       "4                  Brietzke, Mr.  Jordan  \n",
       "...                                  ...  \n",
       "2329              Baker, Mr.  Russell B.  \n",
       "2330                Kadala, Ms.  Kristyn  \n",
       "2331                Osborne, Ms.  Kelsey  \n",
       "2333              Lehner, Mr.  Matthew D  \n",
       "2334                   Hawks, Ms.  Kelly  \n",
       "\n",
       "[2325 rows x 17 columns]"
      ]
     },
     "execution_count": 25,
     "metadata": {},
     "output_type": "execute_result"
    }
   ],
   "source": [
    "#Use the necessary transformation methods to deal with the nominal and ordinal categorical variables in the dataset\n",
    "#Ordinal Categorical = hospital_tier, city_tier\n",
    "label_encoder = LabelEncoder()\n",
    "data['hospital_tier']= label_encoder.fit_transform(data['hospital_tier'])\n",
    "data['city_tier']= label_encoder.fit_transform(data['city_tier'])\n",
    "data['month']= label_encoder.fit_transform(data['month'])\n",
    "data['heart_issues']= label_encoder.fit_transform(data['heart_issues'])\n",
    "data['any_transplants']= label_encoder.fit_transform(data['any_transplants'])\n",
    "data['cancer_history']= label_encoder.fit_transform(data['cancer_history'])\n",
    "data['smoker']= label_encoder.fit_transform(data['smoker'])\n",
    "encoded_data = data.copy()\n",
    "encoded_data"
   ]
  },
  {
   "cell_type": "code",
   "execution_count": 26,
   "id": "f57c9d64",
   "metadata": {
    "execution": {
     "iopub.execute_input": "2025-03-07T19:08:37.029658Z",
     "iopub.status.busy": "2025-03-07T19:08:37.029288Z",
     "iopub.status.idle": "2025-03-07T19:08:37.036726Z",
     "shell.execute_reply": "2025-03-07T19:08:37.035759Z"
    },
    "papermill": {
     "duration": 0.03071,
     "end_time": "2025-03-07T19:08:37.038287",
     "exception": false,
     "start_time": "2025-03-07T19:08:37.007577",
     "status": "completed"
    },
    "tags": []
   },
   "outputs": [
    {
     "data": {
      "text/plain": [
       "state_id\n",
       "R1013    609\n",
       "R1011    574\n",
       "R1012    572\n",
       "R1024    159\n",
       "R1026     84\n",
       "R1021     70\n",
       "R1016     64\n",
       "R1025     40\n",
       "R1023     38\n",
       "R1017     36\n",
       "R1019     26\n",
       "R1022     14\n",
       "R1014     13\n",
       "R1015     11\n",
       "R1018      9\n",
       "R1020      6\n",
       "Name: count, dtype: int64"
      ]
     },
     "execution_count": 26,
     "metadata": {},
     "output_type": "execute_result"
    }
   ],
   "source": [
    "#Design a suitable strategy to create dummy variables with restraints for state ids R1013, R1011, R1012\n",
    "encoded_data.state_id.value_counts()"
   ]
  },
  {
   "cell_type": "code",
   "execution_count": 27,
   "id": "e35b18c8",
   "metadata": {
    "execution": {
     "iopub.execute_input": "2025-03-07T19:08:37.080484Z",
     "iopub.status.busy": "2025-03-07T19:08:37.080064Z",
     "iopub.status.idle": "2025-03-07T19:08:37.086330Z",
     "shell.execute_reply": "2025-03-07T19:08:37.085287Z"
    },
    "papermill": {
     "duration": 0.029003,
     "end_time": "2025-03-07T19:08:37.087802",
     "exception": false,
     "start_time": "2025-03-07T19:08:37.058799",
     "status": "completed"
    },
    "tags": []
   },
   "outputs": [
    {
     "data": {
      "text/plain": [
       "16"
      ]
     },
     "execution_count": 27,
     "metadata": {},
     "output_type": "execute_result"
    }
   ],
   "source": [
    "encoded_data.state_id.nunique()"
   ]
  },
  {
   "cell_type": "code",
   "execution_count": 28,
   "id": "78b02251",
   "metadata": {
    "execution": {
     "iopub.execute_input": "2025-03-07T19:08:37.130692Z",
     "iopub.status.busy": "2025-03-07T19:08:37.130342Z",
     "iopub.status.idle": "2025-03-07T19:08:37.143695Z",
     "shell.execute_reply": "2025-03-07T19:08:37.142620Z"
    },
    "papermill": {
     "duration": 0.036586,
     "end_time": "2025-03-07T19:08:37.145347",
     "exception": false,
     "start_time": "2025-03-07T19:08:37.108761",
     "status": "completed"
    },
    "tags": []
   },
   "outputs": [
    {
     "data": {
      "text/html": [
       "<div>\n",
       "<style scoped>\n",
       "    .dataframe tbody tr th:only-of-type {\n",
       "        vertical-align: middle;\n",
       "    }\n",
       "\n",
       "    .dataframe tbody tr th {\n",
       "        vertical-align: top;\n",
       "    }\n",
       "\n",
       "    .dataframe thead th {\n",
       "        text-align: right;\n",
       "    }\n",
       "</style>\n",
       "<table border=\"1\" class=\"dataframe\">\n",
       "  <thead>\n",
       "    <tr style=\"text-align: right;\">\n",
       "      <th></th>\n",
       "      <th>state_id_R1011</th>\n",
       "      <th>state_id_R1012</th>\n",
       "      <th>state_id_R1013</th>\n",
       "    </tr>\n",
       "  </thead>\n",
       "  <tbody>\n",
       "    <tr>\n",
       "      <th>0</th>\n",
       "      <td>False</td>\n",
       "      <td>False</td>\n",
       "      <td>True</td>\n",
       "    </tr>\n",
       "    <tr>\n",
       "      <th>1</th>\n",
       "      <td>False</td>\n",
       "      <td>False</td>\n",
       "      <td>True</td>\n",
       "    </tr>\n",
       "    <tr>\n",
       "      <th>2</th>\n",
       "      <td>False</td>\n",
       "      <td>False</td>\n",
       "      <td>True</td>\n",
       "    </tr>\n",
       "    <tr>\n",
       "      <th>3</th>\n",
       "      <td>False</td>\n",
       "      <td>False</td>\n",
       "      <td>True</td>\n",
       "    </tr>\n",
       "    <tr>\n",
       "      <th>4</th>\n",
       "      <td>False</td>\n",
       "      <td>False</td>\n",
       "      <td>True</td>\n",
       "    </tr>\n",
       "    <tr>\n",
       "      <th>...</th>\n",
       "      <td>...</td>\n",
       "      <td>...</td>\n",
       "      <td>...</td>\n",
       "    </tr>\n",
       "    <tr>\n",
       "      <th>2329</th>\n",
       "      <td>True</td>\n",
       "      <td>False</td>\n",
       "      <td>False</td>\n",
       "    </tr>\n",
       "    <tr>\n",
       "      <th>2330</th>\n",
       "      <td>False</td>\n",
       "      <td>True</td>\n",
       "      <td>False</td>\n",
       "    </tr>\n",
       "    <tr>\n",
       "      <th>2331</th>\n",
       "      <td>False</td>\n",
       "      <td>False</td>\n",
       "      <td>False</td>\n",
       "    </tr>\n",
       "    <tr>\n",
       "      <th>2333</th>\n",
       "      <td>False</td>\n",
       "      <td>False</td>\n",
       "      <td>True</td>\n",
       "    </tr>\n",
       "    <tr>\n",
       "      <th>2334</th>\n",
       "      <td>False</td>\n",
       "      <td>False</td>\n",
       "      <td>True</td>\n",
       "    </tr>\n",
       "  </tbody>\n",
       "</table>\n",
       "<p>2325 rows × 3 columns</p>\n",
       "</div>"
      ],
      "text/plain": [
       "      state_id_R1011  state_id_R1012  state_id_R1013\n",
       "0              False           False            True\n",
       "1              False           False            True\n",
       "2              False           False            True\n",
       "3              False           False            True\n",
       "4              False           False            True\n",
       "...              ...             ...             ...\n",
       "2329            True           False           False\n",
       "2330           False            True           False\n",
       "2331           False           False           False\n",
       "2333           False           False            True\n",
       "2334           False           False            True\n",
       "\n",
       "[2325 rows x 3 columns]"
      ]
     },
     "execution_count": 28,
     "metadata": {},
     "output_type": "execute_result"
    }
   ],
   "source": [
    "dummies = pd.get_dummies(encoded_data['state_id'], prefix=\"state_id\")\n",
    "selected_states = dummies[['state_id_R1011', 'state_id_R1012','state_id_R1013']] \n",
    "selected_states"
   ]
  },
  {
   "cell_type": "code",
   "execution_count": 29,
   "id": "e04a5226",
   "metadata": {
    "execution": {
     "iopub.execute_input": "2025-03-07T19:08:37.189415Z",
     "iopub.status.busy": "2025-03-07T19:08:37.189080Z",
     "iopub.status.idle": "2025-03-07T19:08:37.207491Z",
     "shell.execute_reply": "2025-03-07T19:08:37.206472Z"
    },
    "papermill": {
     "duration": 0.042799,
     "end_time": "2025-03-07T19:08:37.209289",
     "exception": false,
     "start_time": "2025-03-07T19:08:37.166490",
     "status": "completed"
    },
    "tags": []
   },
   "outputs": [
    {
     "data": {
      "text/html": [
       "<div>\n",
       "<style scoped>\n",
       "    .dataframe tbody tr th:only-of-type {\n",
       "        vertical-align: middle;\n",
       "    }\n",
       "\n",
       "    .dataframe tbody tr th {\n",
       "        vertical-align: top;\n",
       "    }\n",
       "\n",
       "    .dataframe thead th {\n",
       "        text-align: right;\n",
       "    }\n",
       "</style>\n",
       "<table border=\"1\" class=\"dataframe\">\n",
       "  <thead>\n",
       "    <tr style=\"text-align: right;\">\n",
       "      <th></th>\n",
       "      <th>customer_id</th>\n",
       "      <th>year</th>\n",
       "      <th>month</th>\n",
       "      <th>date</th>\n",
       "      <th>children</th>\n",
       "      <th>charges</th>\n",
       "      <th>hospital_tier</th>\n",
       "      <th>city_tier</th>\n",
       "      <th>bmi</th>\n",
       "      <th>hba1c</th>\n",
       "      <th>heart_issues</th>\n",
       "      <th>any_transplants</th>\n",
       "      <th>cancer_history</th>\n",
       "      <th>numberofmajorsurgeries</th>\n",
       "      <th>smoker</th>\n",
       "      <th>name</th>\n",
       "      <th>state_id_R1011</th>\n",
       "      <th>state_id_R1012</th>\n",
       "      <th>state_id_R1013</th>\n",
       "    </tr>\n",
       "  </thead>\n",
       "  <tbody>\n",
       "    <tr>\n",
       "      <th>0</th>\n",
       "      <td>Id2335</td>\n",
       "      <td>1992</td>\n",
       "      <td>2</td>\n",
       "      <td>9</td>\n",
       "      <td>0</td>\n",
       "      <td>563.84</td>\n",
       "      <td>1</td>\n",
       "      <td>2</td>\n",
       "      <td>17.58</td>\n",
       "      <td>4.51</td>\n",
       "      <td>0</td>\n",
       "      <td>0</td>\n",
       "      <td>0</td>\n",
       "      <td>1</td>\n",
       "      <td>0</td>\n",
       "      <td>German, Mr.  Aaron K</td>\n",
       "      <td>False</td>\n",
       "      <td>False</td>\n",
       "      <td>True</td>\n",
       "    </tr>\n",
       "    <tr>\n",
       "      <th>1</th>\n",
       "      <td>Id2334</td>\n",
       "      <td>1992</td>\n",
       "      <td>4</td>\n",
       "      <td>30</td>\n",
       "      <td>0</td>\n",
       "      <td>570.62</td>\n",
       "      <td>1</td>\n",
       "      <td>0</td>\n",
       "      <td>17.60</td>\n",
       "      <td>4.39</td>\n",
       "      <td>0</td>\n",
       "      <td>0</td>\n",
       "      <td>0</td>\n",
       "      <td>1</td>\n",
       "      <td>0</td>\n",
       "      <td>Rosendahl, Mr.  Evan P</td>\n",
       "      <td>False</td>\n",
       "      <td>False</td>\n",
       "      <td>True</td>\n",
       "    </tr>\n",
       "    <tr>\n",
       "      <th>2</th>\n",
       "      <td>Id2333</td>\n",
       "      <td>1993</td>\n",
       "      <td>3</td>\n",
       "      <td>30</td>\n",
       "      <td>0</td>\n",
       "      <td>600.00</td>\n",
       "      <td>1</td>\n",
       "      <td>0</td>\n",
       "      <td>16.47</td>\n",
       "      <td>6.35</td>\n",
       "      <td>0</td>\n",
       "      <td>0</td>\n",
       "      <td>1</td>\n",
       "      <td>1</td>\n",
       "      <td>0</td>\n",
       "      <td>Albano, Ms.  Julie</td>\n",
       "      <td>False</td>\n",
       "      <td>False</td>\n",
       "      <td>True</td>\n",
       "    </tr>\n",
       "    <tr>\n",
       "      <th>3</th>\n",
       "      <td>Id2332</td>\n",
       "      <td>1992</td>\n",
       "      <td>6</td>\n",
       "      <td>13</td>\n",
       "      <td>0</td>\n",
       "      <td>604.54</td>\n",
       "      <td>2</td>\n",
       "      <td>2</td>\n",
       "      <td>17.70</td>\n",
       "      <td>6.28</td>\n",
       "      <td>0</td>\n",
       "      <td>0</td>\n",
       "      <td>0</td>\n",
       "      <td>1</td>\n",
       "      <td>0</td>\n",
       "      <td>Riveros Gonzalez, Mr.  Juan D. Sr.</td>\n",
       "      <td>False</td>\n",
       "      <td>False</td>\n",
       "      <td>True</td>\n",
       "    </tr>\n",
       "    <tr>\n",
       "      <th>4</th>\n",
       "      <td>Id2331</td>\n",
       "      <td>1998</td>\n",
       "      <td>2</td>\n",
       "      <td>27</td>\n",
       "      <td>0</td>\n",
       "      <td>637.26</td>\n",
       "      <td>2</td>\n",
       "      <td>2</td>\n",
       "      <td>22.34</td>\n",
       "      <td>5.57</td>\n",
       "      <td>0</td>\n",
       "      <td>0</td>\n",
       "      <td>0</td>\n",
       "      <td>1</td>\n",
       "      <td>0</td>\n",
       "      <td>Brietzke, Mr.  Jordan</td>\n",
       "      <td>False</td>\n",
       "      <td>False</td>\n",
       "      <td>True</td>\n",
       "    </tr>\n",
       "  </tbody>\n",
       "</table>\n",
       "</div>"
      ],
      "text/plain": [
       "  customer_id  year  month  date  children  charges  hospital_tier  city_tier  \\\n",
       "0      Id2335  1992      2     9         0   563.84              1          2   \n",
       "1      Id2334  1992      4    30         0   570.62              1          0   \n",
       "2      Id2333  1993      3    30         0   600.00              1          0   \n",
       "3      Id2332  1992      6    13         0   604.54              2          2   \n",
       "4      Id2331  1998      2    27         0   637.26              2          2   \n",
       "\n",
       "     bmi  hba1c  heart_issues  any_transplants  cancer_history  \\\n",
       "0  17.58   4.51             0                0               0   \n",
       "1  17.60   4.39             0                0               0   \n",
       "2  16.47   6.35             0                0               1   \n",
       "3  17.70   6.28             0                0               0   \n",
       "4  22.34   5.57             0                0               0   \n",
       "\n",
       "  numberofmajorsurgeries  smoker                                name  \\\n",
       "0                      1       0                German, Mr.  Aaron K   \n",
       "1                      1       0              Rosendahl, Mr.  Evan P   \n",
       "2                      1       0                  Albano, Ms.  Julie   \n",
       "3                      1       0  Riveros Gonzalez, Mr.  Juan D. Sr.   \n",
       "4                      1       0               Brietzke, Mr.  Jordan   \n",
       "\n",
       "   state_id_R1011  state_id_R1012  state_id_R1013  \n",
       "0           False           False            True  \n",
       "1           False           False            True  \n",
       "2           False           False            True  \n",
       "3           False           False            True  \n",
       "4           False           False            True  "
      ]
     },
     "execution_count": 29,
     "metadata": {},
     "output_type": "execute_result"
    }
   ],
   "source": [
    "#Nominal encoding of state_id\n",
    "merged_data = pd.concat([encoded_data, selected_states], axis=1) \n",
    "merged_data.drop('state_id', axis='columns', inplace=True) \n",
    "merged_data.head()"
   ]
  },
  {
   "cell_type": "code",
   "execution_count": 30,
   "id": "76adca31",
   "metadata": {
    "execution": {
     "iopub.execute_input": "2025-03-07T19:08:37.254521Z",
     "iopub.status.busy": "2025-03-07T19:08:37.254171Z",
     "iopub.status.idle": "2025-03-07T19:08:37.261295Z",
     "shell.execute_reply": "2025-03-07T19:08:37.260446Z"
    },
    "papermill": {
     "duration": 0.031517,
     "end_time": "2025-03-07T19:08:37.262804",
     "exception": false,
     "start_time": "2025-03-07T19:08:37.231287",
     "status": "completed"
    },
    "tags": []
   },
   "outputs": [
    {
     "data": {
      "text/plain": [
       "numberofmajorsurgeries\n",
       "No major surgery    1070\n",
       "1                    961\n",
       "2                    272\n",
       "3                     22\n",
       "Name: count, dtype: int64"
      ]
     },
     "execution_count": 30,
     "metadata": {},
     "output_type": "execute_result"
    }
   ],
   "source": [
    "#The variable NumberOfMajorSurgeries also appears to have string values.Apply a suitable method to clean up this variable.\n",
    "merged_data.numberofmajorsurgeries.value_counts()"
   ]
  },
  {
   "cell_type": "code",
   "execution_count": 31,
   "id": "b3b5e960",
   "metadata": {
    "execution": {
     "iopub.execute_input": "2025-03-07T19:08:37.306610Z",
     "iopub.status.busy": "2025-03-07T19:08:37.306232Z",
     "iopub.status.idle": "2025-03-07T19:08:37.312598Z",
     "shell.execute_reply": "2025-03-07T19:08:37.311521Z"
    },
    "papermill": {
     "duration": 0.03022,
     "end_time": "2025-03-07T19:08:37.314284",
     "exception": false,
     "start_time": "2025-03-07T19:08:37.284064",
     "status": "completed"
    },
    "tags": []
   },
   "outputs": [
    {
     "data": {
      "text/plain": [
       "array(['1', 'No major surgery', '2', '3'], dtype=object)"
      ]
     },
     "execution_count": 31,
     "metadata": {},
     "output_type": "execute_result"
    }
   ],
   "source": [
    "merged_data.numberofmajorsurgeries.unique()"
   ]
  },
  {
   "cell_type": "code",
   "execution_count": 32,
   "id": "ca41a12a",
   "metadata": {
    "execution": {
     "iopub.execute_input": "2025-03-07T19:08:37.358585Z",
     "iopub.status.busy": "2025-03-07T19:08:37.358240Z",
     "iopub.status.idle": "2025-03-07T19:08:37.363382Z",
     "shell.execute_reply": "2025-03-07T19:08:37.362413Z"
    },
    "papermill": {
     "duration": 0.028907,
     "end_time": "2025-03-07T19:08:37.364927",
     "exception": false,
     "start_time": "2025-03-07T19:08:37.336020",
     "status": "completed"
    },
    "tags": []
   },
   "outputs": [],
   "source": [
    "merged_data.numberofmajorsurgeries.replace('No major surgery', 0, inplace=True)"
   ]
  },
  {
   "cell_type": "code",
   "execution_count": 33,
   "id": "a0cd53ef",
   "metadata": {
    "execution": {
     "iopub.execute_input": "2025-03-07T19:08:37.408975Z",
     "iopub.status.busy": "2025-03-07T19:08:37.408588Z",
     "iopub.status.idle": "2025-03-07T19:08:37.415261Z",
     "shell.execute_reply": "2025-03-07T19:08:37.414020Z"
    },
    "papermill": {
     "duration": 0.03129,
     "end_time": "2025-03-07T19:08:37.417516",
     "exception": false,
     "start_time": "2025-03-07T19:08:37.386226",
     "status": "completed"
    },
    "tags": []
   },
   "outputs": [
    {
     "data": {
      "text/plain": [
       "0"
      ]
     },
     "execution_count": 33,
     "metadata": {},
     "output_type": "execute_result"
    }
   ],
   "source": [
    "merged_data.numberofmajorsurgeries.isnull().sum()"
   ]
  },
  {
   "cell_type": "code",
   "execution_count": 34,
   "id": "8fbd7265",
   "metadata": {
    "execution": {
     "iopub.execute_input": "2025-03-07T19:08:37.464571Z",
     "iopub.status.busy": "2025-03-07T19:08:37.464234Z",
     "iopub.status.idle": "2025-03-07T19:08:37.469412Z",
     "shell.execute_reply": "2025-03-07T19:08:37.468237Z"
    },
    "papermill": {
     "duration": 0.028854,
     "end_time": "2025-03-07T19:08:37.471043",
     "exception": false,
     "start_time": "2025-03-07T19:08:37.442189",
     "status": "completed"
    },
    "tags": []
   },
   "outputs": [],
   "source": [
    "# Handled missing values by replacing with a 0\n",
    "merged_data.numberofmajorsurgeries.replace(np.nan, 0, inplace=True)"
   ]
  },
  {
   "cell_type": "code",
   "execution_count": 35,
   "id": "c8900a99",
   "metadata": {
    "execution": {
     "iopub.execute_input": "2025-03-07T19:08:37.516459Z",
     "iopub.status.busy": "2025-03-07T19:08:37.516112Z",
     "iopub.status.idle": "2025-03-07T19:08:37.520912Z",
     "shell.execute_reply": "2025-03-07T19:08:37.520024Z"
    },
    "papermill": {
     "duration": 0.028598,
     "end_time": "2025-03-07T19:08:37.522458",
     "exception": false,
     "start_time": "2025-03-07T19:08:37.493860",
     "status": "completed"
    },
    "tags": []
   },
   "outputs": [],
   "source": [
    "merged_data.numberofmajorsurgeries = merged_data.numberofmajorsurgeries.astype(int)"
   ]
  },
  {
   "cell_type": "code",
   "execution_count": 36,
   "id": "4367d4e1",
   "metadata": {
    "execution": {
     "iopub.execute_input": "2025-03-07T19:08:37.566485Z",
     "iopub.status.busy": "2025-03-07T19:08:37.566149Z",
     "iopub.status.idle": "2025-03-07T19:08:37.573155Z",
     "shell.execute_reply": "2025-03-07T19:08:37.572125Z"
    },
    "papermill": {
     "duration": 0.030913,
     "end_time": "2025-03-07T19:08:37.574779",
     "exception": false,
     "start_time": "2025-03-07T19:08:37.543866",
     "status": "completed"
    },
    "tags": []
   },
   "outputs": [
    {
     "data": {
      "text/plain": [
       "customer_id                object\n",
       "year                       object\n",
       "month                       int64\n",
       "date                        int64\n",
       "children                    int64\n",
       "charges                   float64\n",
       "hospital_tier               int64\n",
       "city_tier                   int64\n",
       "bmi                       float64\n",
       "hba1c                     float64\n",
       "heart_issues                int64\n",
       "any_transplants             int64\n",
       "cancer_history              int64\n",
       "numberofmajorsurgeries      int64\n",
       "smoker                      int64\n",
       "name                       object\n",
       "state_id_R1011               bool\n",
       "state_id_R1012               bool\n",
       "state_id_R1013               bool\n",
       "dtype: object"
      ]
     },
     "execution_count": 36,
     "metadata": {},
     "output_type": "execute_result"
    }
   ],
   "source": [
    "merged_data.dtypes"
   ]
  },
  {
   "cell_type": "code",
   "execution_count": 37,
   "id": "be915f8c",
   "metadata": {
    "execution": {
     "iopub.execute_input": "2025-03-07T19:08:37.618996Z",
     "iopub.status.busy": "2025-03-07T19:08:37.618611Z",
     "iopub.status.idle": "2025-03-07T19:08:37.624360Z",
     "shell.execute_reply": "2025-03-07T19:08:37.623516Z"
    },
    "papermill": {
     "duration": 0.029616,
     "end_time": "2025-03-07T19:08:37.625940",
     "exception": false,
     "start_time": "2025-03-07T19:08:37.596324",
     "status": "completed"
    },
    "tags": []
   },
   "outputs": [],
   "source": [
    "merged_data.state_id_R1011 = merged_data.state_id_R1011.astype(int)\n",
    "merged_data.state_id_R1012 = merged_data.state_id_R1012.astype(int)\n",
    "merged_data.state_id_R1013 = merged_data.state_id_R1013.astype(int)"
   ]
  },
  {
   "cell_type": "code",
   "execution_count": 38,
   "id": "9a12c32f",
   "metadata": {
    "execution": {
     "iopub.execute_input": "2025-03-07T19:08:37.670437Z",
     "iopub.status.busy": "2025-03-07T19:08:37.670100Z",
     "iopub.status.idle": "2025-03-07T19:08:37.676671Z",
     "shell.execute_reply": "2025-03-07T19:08:37.675858Z"
    },
    "papermill": {
     "duration": 0.030449,
     "end_time": "2025-03-07T19:08:37.678043",
     "exception": false,
     "start_time": "2025-03-07T19:08:37.647594",
     "status": "completed"
    },
    "tags": []
   },
   "outputs": [
    {
     "data": {
      "text/plain": [
       "customer_id                object\n",
       "year                       object\n",
       "month                       int64\n",
       "date                        int64\n",
       "children                    int64\n",
       "charges                   float64\n",
       "hospital_tier               int64\n",
       "city_tier                   int64\n",
       "bmi                       float64\n",
       "hba1c                     float64\n",
       "heart_issues                int64\n",
       "any_transplants             int64\n",
       "cancer_history              int64\n",
       "numberofmajorsurgeries      int64\n",
       "smoker                      int64\n",
       "name                       object\n",
       "state_id_R1011              int64\n",
       "state_id_R1012              int64\n",
       "state_id_R1013              int64\n",
       "dtype: object"
      ]
     },
     "execution_count": 38,
     "metadata": {},
     "output_type": "execute_result"
    }
   ],
   "source": [
    "merged_data.dtypes"
   ]
  },
  {
   "cell_type": "code",
   "execution_count": 39,
   "id": "01f81c7b",
   "metadata": {
    "execution": {
     "iopub.execute_input": "2025-03-07T19:08:37.722341Z",
     "iopub.status.busy": "2025-03-07T19:08:37.722015Z",
     "iopub.status.idle": "2025-03-07T19:08:37.752859Z",
     "shell.execute_reply": "2025-03-07T19:08:37.751785Z"
    },
    "papermill": {
     "duration": 0.055238,
     "end_time": "2025-03-07T19:08:37.754947",
     "exception": false,
     "start_time": "2025-03-07T19:08:37.699709",
     "status": "completed"
    },
    "tags": []
   },
   "outputs": [
    {
     "data": {
      "text/html": [
       "<div>\n",
       "<style scoped>\n",
       "    .dataframe tbody tr th:only-of-type {\n",
       "        vertical-align: middle;\n",
       "    }\n",
       "\n",
       "    .dataframe tbody tr th {\n",
       "        vertical-align: top;\n",
       "    }\n",
       "\n",
       "    .dataframe thead th {\n",
       "        text-align: right;\n",
       "    }\n",
       "</style>\n",
       "<table border=\"1\" class=\"dataframe\">\n",
       "  <thead>\n",
       "    <tr style=\"text-align: right;\">\n",
       "      <th></th>\n",
       "      <th>customer_id</th>\n",
       "      <th>year</th>\n",
       "      <th>month</th>\n",
       "      <th>date</th>\n",
       "      <th>children</th>\n",
       "      <th>charges</th>\n",
       "      <th>hospital_tier</th>\n",
       "      <th>city_tier</th>\n",
       "      <th>bmi</th>\n",
       "      <th>hba1c</th>\n",
       "      <th>heart_issues</th>\n",
       "      <th>any_transplants</th>\n",
       "      <th>cancer_history</th>\n",
       "      <th>numberofmajorsurgeries</th>\n",
       "      <th>smoker</th>\n",
       "      <th>name</th>\n",
       "      <th>state_id_R1011</th>\n",
       "      <th>state_id_R1012</th>\n",
       "      <th>state_id_R1013</th>\n",
       "    </tr>\n",
       "  </thead>\n",
       "  <tbody>\n",
       "    <tr>\n",
       "      <th>0</th>\n",
       "      <td>Id2335</td>\n",
       "      <td>1992</td>\n",
       "      <td>2</td>\n",
       "      <td>9</td>\n",
       "      <td>0</td>\n",
       "      <td>563.84</td>\n",
       "      <td>1</td>\n",
       "      <td>2</td>\n",
       "      <td>17.58</td>\n",
       "      <td>4.51</td>\n",
       "      <td>0</td>\n",
       "      <td>0</td>\n",
       "      <td>0</td>\n",
       "      <td>1</td>\n",
       "      <td>0</td>\n",
       "      <td>German, Mr.  Aaron K</td>\n",
       "      <td>0</td>\n",
       "      <td>0</td>\n",
       "      <td>1</td>\n",
       "    </tr>\n",
       "    <tr>\n",
       "      <th>1</th>\n",
       "      <td>Id2334</td>\n",
       "      <td>1992</td>\n",
       "      <td>4</td>\n",
       "      <td>30</td>\n",
       "      <td>0</td>\n",
       "      <td>570.62</td>\n",
       "      <td>1</td>\n",
       "      <td>0</td>\n",
       "      <td>17.60</td>\n",
       "      <td>4.39</td>\n",
       "      <td>0</td>\n",
       "      <td>0</td>\n",
       "      <td>0</td>\n",
       "      <td>1</td>\n",
       "      <td>0</td>\n",
       "      <td>Rosendahl, Mr.  Evan P</td>\n",
       "      <td>0</td>\n",
       "      <td>0</td>\n",
       "      <td>1</td>\n",
       "    </tr>\n",
       "    <tr>\n",
       "      <th>2</th>\n",
       "      <td>Id2333</td>\n",
       "      <td>1993</td>\n",
       "      <td>3</td>\n",
       "      <td>30</td>\n",
       "      <td>0</td>\n",
       "      <td>600.00</td>\n",
       "      <td>1</td>\n",
       "      <td>0</td>\n",
       "      <td>16.47</td>\n",
       "      <td>6.35</td>\n",
       "      <td>0</td>\n",
       "      <td>0</td>\n",
       "      <td>1</td>\n",
       "      <td>1</td>\n",
       "      <td>0</td>\n",
       "      <td>Albano, Ms.  Julie</td>\n",
       "      <td>0</td>\n",
       "      <td>0</td>\n",
       "      <td>1</td>\n",
       "    </tr>\n",
       "    <tr>\n",
       "      <th>3</th>\n",
       "      <td>Id2332</td>\n",
       "      <td>1992</td>\n",
       "      <td>6</td>\n",
       "      <td>13</td>\n",
       "      <td>0</td>\n",
       "      <td>604.54</td>\n",
       "      <td>2</td>\n",
       "      <td>2</td>\n",
       "      <td>17.70</td>\n",
       "      <td>6.28</td>\n",
       "      <td>0</td>\n",
       "      <td>0</td>\n",
       "      <td>0</td>\n",
       "      <td>1</td>\n",
       "      <td>0</td>\n",
       "      <td>Riveros Gonzalez, Mr.  Juan D. Sr.</td>\n",
       "      <td>0</td>\n",
       "      <td>0</td>\n",
       "      <td>1</td>\n",
       "    </tr>\n",
       "    <tr>\n",
       "      <th>4</th>\n",
       "      <td>Id2331</td>\n",
       "      <td>1998</td>\n",
       "      <td>2</td>\n",
       "      <td>27</td>\n",
       "      <td>0</td>\n",
       "      <td>637.26</td>\n",
       "      <td>2</td>\n",
       "      <td>2</td>\n",
       "      <td>22.34</td>\n",
       "      <td>5.57</td>\n",
       "      <td>0</td>\n",
       "      <td>0</td>\n",
       "      <td>0</td>\n",
       "      <td>1</td>\n",
       "      <td>0</td>\n",
       "      <td>Brietzke, Mr.  Jordan</td>\n",
       "      <td>0</td>\n",
       "      <td>0</td>\n",
       "      <td>1</td>\n",
       "    </tr>\n",
       "    <tr>\n",
       "      <th>5</th>\n",
       "      <td>Id2330</td>\n",
       "      <td>2001</td>\n",
       "      <td>4</td>\n",
       "      <td>20</td>\n",
       "      <td>0</td>\n",
       "      <td>646.14</td>\n",
       "      <td>2</td>\n",
       "      <td>2</td>\n",
       "      <td>22.24</td>\n",
       "      <td>4.29</td>\n",
       "      <td>1</td>\n",
       "      <td>0</td>\n",
       "      <td>0</td>\n",
       "      <td>0</td>\n",
       "      <td>0</td>\n",
       "      <td>Kohls, Ms.  Katy</td>\n",
       "      <td>0</td>\n",
       "      <td>1</td>\n",
       "      <td>0</td>\n",
       "    </tr>\n",
       "    <tr>\n",
       "      <th>6</th>\n",
       "      <td>Id2329</td>\n",
       "      <td>1993</td>\n",
       "      <td>3</td>\n",
       "      <td>1</td>\n",
       "      <td>0</td>\n",
       "      <td>650.00</td>\n",
       "      <td>2</td>\n",
       "      <td>2</td>\n",
       "      <td>17.07</td>\n",
       "      <td>5.22</td>\n",
       "      <td>0</td>\n",
       "      <td>0</td>\n",
       "      <td>1</td>\n",
       "      <td>1</td>\n",
       "      <td>0</td>\n",
       "      <td>Bohinski, Ms.  Susan E</td>\n",
       "      <td>0</td>\n",
       "      <td>0</td>\n",
       "      <td>1</td>\n",
       "    </tr>\n",
       "    <tr>\n",
       "      <th>7</th>\n",
       "      <td>Id2328</td>\n",
       "      <td>1995</td>\n",
       "      <td>2</td>\n",
       "      <td>4</td>\n",
       "      <td>0</td>\n",
       "      <td>650.00</td>\n",
       "      <td>2</td>\n",
       "      <td>2</td>\n",
       "      <td>17.82</td>\n",
       "      <td>5.26</td>\n",
       "      <td>1</td>\n",
       "      <td>0</td>\n",
       "      <td>0</td>\n",
       "      <td>1</td>\n",
       "      <td>0</td>\n",
       "      <td>Avery, Ms.  Nicole</td>\n",
       "      <td>0</td>\n",
       "      <td>0</td>\n",
       "      <td>1</td>\n",
       "    </tr>\n",
       "    <tr>\n",
       "      <th>8</th>\n",
       "      <td>Id2327</td>\n",
       "      <td>2002</td>\n",
       "      <td>4</td>\n",
       "      <td>29</td>\n",
       "      <td>0</td>\n",
       "      <td>668.00</td>\n",
       "      <td>2</td>\n",
       "      <td>1</td>\n",
       "      <td>21.77</td>\n",
       "      <td>10.67</td>\n",
       "      <td>0</td>\n",
       "      <td>0</td>\n",
       "      <td>0</td>\n",
       "      <td>0</td>\n",
       "      <td>0</td>\n",
       "      <td>Howell, Ms.  Laura</td>\n",
       "      <td>0</td>\n",
       "      <td>1</td>\n",
       "      <td>0</td>\n",
       "    </tr>\n",
       "    <tr>\n",
       "      <th>9</th>\n",
       "      <td>Id2326</td>\n",
       "      <td>1997</td>\n",
       "      <td>4</td>\n",
       "      <td>9</td>\n",
       "      <td>0</td>\n",
       "      <td>670.00</td>\n",
       "      <td>2</td>\n",
       "      <td>2</td>\n",
       "      <td>20.10</td>\n",
       "      <td>5.60</td>\n",
       "      <td>1</td>\n",
       "      <td>0</td>\n",
       "      <td>1</td>\n",
       "      <td>1</td>\n",
       "      <td>0</td>\n",
       "      <td>Castro, Mr.  Sebastian</td>\n",
       "      <td>0</td>\n",
       "      <td>0</td>\n",
       "      <td>1</td>\n",
       "    </tr>\n",
       "    <tr>\n",
       "      <th>10</th>\n",
       "      <td>Id2325</td>\n",
       "      <td>2001</td>\n",
       "      <td>6</td>\n",
       "      <td>12</td>\n",
       "      <td>0</td>\n",
       "      <td>687.54</td>\n",
       "      <td>2</td>\n",
       "      <td>1</td>\n",
       "      <td>24.76</td>\n",
       "      <td>4.54</td>\n",
       "      <td>1</td>\n",
       "      <td>0</td>\n",
       "      <td>0</td>\n",
       "      <td>0</td>\n",
       "      <td>0</td>\n",
       "      <td>Hines, Mr.  Fred</td>\n",
       "      <td>0</td>\n",
       "      <td>0</td>\n",
       "      <td>1</td>\n",
       "    </tr>\n",
       "    <tr>\n",
       "      <th>12</th>\n",
       "      <td>Id2323</td>\n",
       "      <td>1999</td>\n",
       "      <td>1</td>\n",
       "      <td>14</td>\n",
       "      <td>0</td>\n",
       "      <td>722.99</td>\n",
       "      <td>2</td>\n",
       "      <td>0</td>\n",
       "      <td>23.35</td>\n",
       "      <td>5.94</td>\n",
       "      <td>0</td>\n",
       "      <td>0</td>\n",
       "      <td>0</td>\n",
       "      <td>0</td>\n",
       "      <td>0</td>\n",
       "      <td>Buss, Mr.  Matthew</td>\n",
       "      <td>0</td>\n",
       "      <td>0</td>\n",
       "      <td>1</td>\n",
       "    </tr>\n",
       "    <tr>\n",
       "      <th>14</th>\n",
       "      <td>Id2321</td>\n",
       "      <td>1993</td>\n",
       "      <td>0</td>\n",
       "      <td>9</td>\n",
       "      <td>0</td>\n",
       "      <td>760.00</td>\n",
       "      <td>2</td>\n",
       "      <td>0</td>\n",
       "      <td>17.86</td>\n",
       "      <td>5.43</td>\n",
       "      <td>0</td>\n",
       "      <td>0</td>\n",
       "      <td>1</td>\n",
       "      <td>1</td>\n",
       "      <td>0</td>\n",
       "      <td>Danielson, Mr.  Thomas</td>\n",
       "      <td>0</td>\n",
       "      <td>0</td>\n",
       "      <td>1</td>\n",
       "    </tr>\n",
       "    <tr>\n",
       "      <th>15</th>\n",
       "      <td>Id2320</td>\n",
       "      <td>1996</td>\n",
       "      <td>5</td>\n",
       "      <td>22</td>\n",
       "      <td>0</td>\n",
       "      <td>760.00</td>\n",
       "      <td>2</td>\n",
       "      <td>2</td>\n",
       "      <td>19.21</td>\n",
       "      <td>5.53</td>\n",
       "      <td>1</td>\n",
       "      <td>0</td>\n",
       "      <td>0</td>\n",
       "      <td>0</td>\n",
       "      <td>0</td>\n",
       "      <td>Graves - Rostro, Ms.  Lindy</td>\n",
       "      <td>0</td>\n",
       "      <td>0</td>\n",
       "      <td>1</td>\n",
       "    </tr>\n",
       "    <tr>\n",
       "      <th>16</th>\n",
       "      <td>Id2319</td>\n",
       "      <td>1993</td>\n",
       "      <td>3</td>\n",
       "      <td>28</td>\n",
       "      <td>0</td>\n",
       "      <td>770.00</td>\n",
       "      <td>2</td>\n",
       "      <td>2</td>\n",
       "      <td>17.08</td>\n",
       "      <td>5.73</td>\n",
       "      <td>0</td>\n",
       "      <td>0</td>\n",
       "      <td>1</td>\n",
       "      <td>1</td>\n",
       "      <td>0</td>\n",
       "      <td>Petermann, Mr.  Theodore A.</td>\n",
       "      <td>0</td>\n",
       "      <td>0</td>\n",
       "      <td>1</td>\n",
       "    </tr>\n",
       "    <tr>\n",
       "      <th>18</th>\n",
       "      <td>Id2317</td>\n",
       "      <td>1995</td>\n",
       "      <td>1</td>\n",
       "      <td>7</td>\n",
       "      <td>0</td>\n",
       "      <td>773.54</td>\n",
       "      <td>2</td>\n",
       "      <td>1</td>\n",
       "      <td>20.47</td>\n",
       "      <td>5.81</td>\n",
       "      <td>1</td>\n",
       "      <td>0</td>\n",
       "      <td>0</td>\n",
       "      <td>1</td>\n",
       "      <td>0</td>\n",
       "      <td>Murakami, Mr.  Koji</td>\n",
       "      <td>0</td>\n",
       "      <td>0</td>\n",
       "      <td>1</td>\n",
       "    </tr>\n",
       "    <tr>\n",
       "      <th>19</th>\n",
       "      <td>Id2316</td>\n",
       "      <td>2004</td>\n",
       "      <td>5</td>\n",
       "      <td>7</td>\n",
       "      <td>0</td>\n",
       "      <td>830.52</td>\n",
       "      <td>2</td>\n",
       "      <td>1</td>\n",
       "      <td>25.03</td>\n",
       "      <td>5.91</td>\n",
       "      <td>0</td>\n",
       "      <td>1</td>\n",
       "      <td>0</td>\n",
       "      <td>1</td>\n",
       "      <td>0</td>\n",
       "      <td>Williams, Mr.  John T</td>\n",
       "      <td>1</td>\n",
       "      <td>0</td>\n",
       "      <td>0</td>\n",
       "    </tr>\n",
       "    <tr>\n",
       "      <th>20</th>\n",
       "      <td>Id2315</td>\n",
       "      <td>2000</td>\n",
       "      <td>4</td>\n",
       "      <td>18</td>\n",
       "      <td>0</td>\n",
       "      <td>865.41</td>\n",
       "      <td>2</td>\n",
       "      <td>0</td>\n",
       "      <td>24.14</td>\n",
       "      <td>5.29</td>\n",
       "      <td>0</td>\n",
       "      <td>1</td>\n",
       "      <td>0</td>\n",
       "      <td>1</td>\n",
       "      <td>0</td>\n",
       "      <td>O'Rourke, Ms.  Flannery</td>\n",
       "      <td>0</td>\n",
       "      <td>0</td>\n",
       "      <td>1</td>\n",
       "    </tr>\n",
       "    <tr>\n",
       "      <th>21</th>\n",
       "      <td>Id2314</td>\n",
       "      <td>1993</td>\n",
       "      <td>4</td>\n",
       "      <td>27</td>\n",
       "      <td>0</td>\n",
       "      <td>896.21</td>\n",
       "      <td>2</td>\n",
       "      <td>0</td>\n",
       "      <td>18.93</td>\n",
       "      <td>6.11</td>\n",
       "      <td>0</td>\n",
       "      <td>0</td>\n",
       "      <td>1</td>\n",
       "      <td>1</td>\n",
       "      <td>0</td>\n",
       "      <td>Horbol, Ms.  Sarah E.</td>\n",
       "      <td>0</td>\n",
       "      <td>0</td>\n",
       "      <td>1</td>\n",
       "    </tr>\n",
       "    <tr>\n",
       "      <th>22</th>\n",
       "      <td>Id2313</td>\n",
       "      <td>1994</td>\n",
       "      <td>5</td>\n",
       "      <td>30</td>\n",
       "      <td>0</td>\n",
       "      <td>915.07</td>\n",
       "      <td>2</td>\n",
       "      <td>0</td>\n",
       "      <td>20.13</td>\n",
       "      <td>5.42</td>\n",
       "      <td>0</td>\n",
       "      <td>0</td>\n",
       "      <td>0</td>\n",
       "      <td>0</td>\n",
       "      <td>0</td>\n",
       "      <td>Ditota, Mr.  Robert</td>\n",
       "      <td>0</td>\n",
       "      <td>0</td>\n",
       "      <td>1</td>\n",
       "    </tr>\n",
       "    <tr>\n",
       "      <th>23</th>\n",
       "      <td>Id2312</td>\n",
       "      <td>1995</td>\n",
       "      <td>5</td>\n",
       "      <td>28</td>\n",
       "      <td>0</td>\n",
       "      <td>928.59</td>\n",
       "      <td>2</td>\n",
       "      <td>0</td>\n",
       "      <td>20.54</td>\n",
       "      <td>4.20</td>\n",
       "      <td>1</td>\n",
       "      <td>0</td>\n",
       "      <td>0</td>\n",
       "      <td>1</td>\n",
       "      <td>0</td>\n",
       "      <td>Wilbur, Ms.  Lindsey</td>\n",
       "      <td>0</td>\n",
       "      <td>0</td>\n",
       "      <td>1</td>\n",
       "    </tr>\n",
       "    <tr>\n",
       "      <th>24</th>\n",
       "      <td>Id2311</td>\n",
       "      <td>2001</td>\n",
       "      <td>0</td>\n",
       "      <td>19</td>\n",
       "      <td>0</td>\n",
       "      <td>964.71</td>\n",
       "      <td>2</td>\n",
       "      <td>1</td>\n",
       "      <td>25.19</td>\n",
       "      <td>5.64</td>\n",
       "      <td>1</td>\n",
       "      <td>0</td>\n",
       "      <td>0</td>\n",
       "      <td>0</td>\n",
       "      <td>0</td>\n",
       "      <td>Keys, Mrs.  Kathleen</td>\n",
       "      <td>0</td>\n",
       "      <td>0</td>\n",
       "      <td>1</td>\n",
       "    </tr>\n",
       "    <tr>\n",
       "      <th>25</th>\n",
       "      <td>Id2310</td>\n",
       "      <td>1994</td>\n",
       "      <td>4</td>\n",
       "      <td>22</td>\n",
       "      <td>0</td>\n",
       "      <td>1006.65</td>\n",
       "      <td>2</td>\n",
       "      <td>1</td>\n",
       "      <td>20.40</td>\n",
       "      <td>5.27</td>\n",
       "      <td>0</td>\n",
       "      <td>0</td>\n",
       "      <td>0</td>\n",
       "      <td>0</td>\n",
       "      <td>0</td>\n",
       "      <td>Lynch, Mr.  Matthew</td>\n",
       "      <td>0</td>\n",
       "      <td>0</td>\n",
       "      <td>1</td>\n",
       "    </tr>\n",
       "    <tr>\n",
       "      <th>26</th>\n",
       "      <td>Id2309</td>\n",
       "      <td>2000</td>\n",
       "      <td>5</td>\n",
       "      <td>9</td>\n",
       "      <td>0</td>\n",
       "      <td>1012.00</td>\n",
       "      <td>2</td>\n",
       "      <td>1</td>\n",
       "      <td>20.66</td>\n",
       "      <td>5.80</td>\n",
       "      <td>0</td>\n",
       "      <td>1</td>\n",
       "      <td>0</td>\n",
       "      <td>1</td>\n",
       "      <td>0</td>\n",
       "      <td>Pedersen, Ms.  Kristen</td>\n",
       "      <td>0</td>\n",
       "      <td>0</td>\n",
       "      <td>1</td>\n",
       "    </tr>\n",
       "    <tr>\n",
       "      <th>27</th>\n",
       "      <td>Id2308</td>\n",
       "      <td>1999</td>\n",
       "      <td>0</td>\n",
       "      <td>5</td>\n",
       "      <td>0</td>\n",
       "      <td>1019.00</td>\n",
       "      <td>2</td>\n",
       "      <td>1</td>\n",
       "      <td>15.88</td>\n",
       "      <td>4.36</td>\n",
       "      <td>0</td>\n",
       "      <td>0</td>\n",
       "      <td>0</td>\n",
       "      <td>0</td>\n",
       "      <td>0</td>\n",
       "      <td>Tobin, Ms.  Kristina</td>\n",
       "      <td>0</td>\n",
       "      <td>0</td>\n",
       "      <td>1</td>\n",
       "    </tr>\n",
       "    <tr>\n",
       "      <th>28</th>\n",
       "      <td>Id2307</td>\n",
       "      <td>1995</td>\n",
       "      <td>5</td>\n",
       "      <td>5</td>\n",
       "      <td>0</td>\n",
       "      <td>1033.74</td>\n",
       "      <td>2</td>\n",
       "      <td>0</td>\n",
       "      <td>20.85</td>\n",
       "      <td>4.45</td>\n",
       "      <td>1</td>\n",
       "      <td>0</td>\n",
       "      <td>0</td>\n",
       "      <td>1</td>\n",
       "      <td>0</td>\n",
       "      <td>Sweny, Ms.  Andrea</td>\n",
       "      <td>0</td>\n",
       "      <td>0</td>\n",
       "      <td>1</td>\n",
       "    </tr>\n",
       "    <tr>\n",
       "      <th>29</th>\n",
       "      <td>Id2306</td>\n",
       "      <td>1994</td>\n",
       "      <td>4</td>\n",
       "      <td>17</td>\n",
       "      <td>0</td>\n",
       "      <td>1044.00</td>\n",
       "      <td>2</td>\n",
       "      <td>1</td>\n",
       "      <td>16.14</td>\n",
       "      <td>4.86</td>\n",
       "      <td>0</td>\n",
       "      <td>0</td>\n",
       "      <td>0</td>\n",
       "      <td>0</td>\n",
       "      <td>0</td>\n",
       "      <td>Akiha, Mr.  Kenneth</td>\n",
       "      <td>0</td>\n",
       "      <td>0</td>\n",
       "      <td>1</td>\n",
       "    </tr>\n",
       "    <tr>\n",
       "      <th>30</th>\n",
       "      <td>Id2305</td>\n",
       "      <td>2002</td>\n",
       "      <td>2</td>\n",
       "      <td>20</td>\n",
       "      <td>0</td>\n",
       "      <td>1047.00</td>\n",
       "      <td>2</td>\n",
       "      <td>0</td>\n",
       "      <td>16.49</td>\n",
       "      <td>8.48</td>\n",
       "      <td>0</td>\n",
       "      <td>0</td>\n",
       "      <td>0</td>\n",
       "      <td>0</td>\n",
       "      <td>0</td>\n",
       "      <td>Lindgren, Mr.  Matthew S</td>\n",
       "      <td>0</td>\n",
       "      <td>0</td>\n",
       "      <td>1</td>\n",
       "    </tr>\n",
       "    <tr>\n",
       "      <th>31</th>\n",
       "      <td>Id2304</td>\n",
       "      <td>2002</td>\n",
       "      <td>2</td>\n",
       "      <td>1</td>\n",
       "      <td>0</td>\n",
       "      <td>1049.00</td>\n",
       "      <td>2</td>\n",
       "      <td>1</td>\n",
       "      <td>18.27</td>\n",
       "      <td>11.46</td>\n",
       "      <td>0</td>\n",
       "      <td>0</td>\n",
       "      <td>0</td>\n",
       "      <td>0</td>\n",
       "      <td>0</td>\n",
       "      <td>Fullarton, Mr.  Jim</td>\n",
       "      <td>0</td>\n",
       "      <td>1</td>\n",
       "      <td>0</td>\n",
       "    </tr>\n",
       "    <tr>\n",
       "      <th>32</th>\n",
       "      <td>Id2303</td>\n",
       "      <td>1995</td>\n",
       "      <td>3</td>\n",
       "      <td>1</td>\n",
       "      <td>0</td>\n",
       "      <td>1056.00</td>\n",
       "      <td>2</td>\n",
       "      <td>1</td>\n",
       "      <td>15.77</td>\n",
       "      <td>6.05</td>\n",
       "      <td>1</td>\n",
       "      <td>0</td>\n",
       "      <td>0</td>\n",
       "      <td>1</td>\n",
       "      <td>0</td>\n",
       "      <td>Caron, Ms.  Evelyn L</td>\n",
       "      <td>0</td>\n",
       "      <td>0</td>\n",
       "      <td>1</td>\n",
       "    </tr>\n",
       "    <tr>\n",
       "      <th>33</th>\n",
       "      <td>Id2302</td>\n",
       "      <td>1993</td>\n",
       "      <td>6</td>\n",
       "      <td>28</td>\n",
       "      <td>0</td>\n",
       "      <td>1068.00</td>\n",
       "      <td>2</td>\n",
       "      <td>0</td>\n",
       "      <td>16.40</td>\n",
       "      <td>5.40</td>\n",
       "      <td>0</td>\n",
       "      <td>0</td>\n",
       "      <td>1</td>\n",
       "      <td>1</td>\n",
       "      <td>0</td>\n",
       "      <td>Ozahowski, Mr.  David</td>\n",
       "      <td>0</td>\n",
       "      <td>0</td>\n",
       "      <td>1</td>\n",
       "    </tr>\n",
       "    <tr>\n",
       "      <th>34</th>\n",
       "      <td>Id2301</td>\n",
       "      <td>2004</td>\n",
       "      <td>0</td>\n",
       "      <td>24</td>\n",
       "      <td>0</td>\n",
       "      <td>1070.00</td>\n",
       "      <td>2</td>\n",
       "      <td>2</td>\n",
       "      <td>21.64</td>\n",
       "      <td>5.50</td>\n",
       "      <td>0</td>\n",
       "      <td>1</td>\n",
       "      <td>0</td>\n",
       "      <td>1</td>\n",
       "      <td>0</td>\n",
       "      <td>Sulhanek, Mr.  Roman</td>\n",
       "      <td>0</td>\n",
       "      <td>0</td>\n",
       "      <td>1</td>\n",
       "    </tr>\n",
       "    <tr>\n",
       "      <th>35</th>\n",
       "      <td>Id2300</td>\n",
       "      <td>1997</td>\n",
       "      <td>0</td>\n",
       "      <td>13</td>\n",
       "      <td>0</td>\n",
       "      <td>1071.00</td>\n",
       "      <td>2</td>\n",
       "      <td>2</td>\n",
       "      <td>17.98</td>\n",
       "      <td>5.33</td>\n",
       "      <td>1</td>\n",
       "      <td>0</td>\n",
       "      <td>1</td>\n",
       "      <td>1</td>\n",
       "      <td>0</td>\n",
       "      <td>Jeffers, Mr.  Patrick</td>\n",
       "      <td>0</td>\n",
       "      <td>0</td>\n",
       "      <td>1</td>\n",
       "    </tr>\n",
       "    <tr>\n",
       "      <th>36</th>\n",
       "      <td>Id2299</td>\n",
       "      <td>1998</td>\n",
       "      <td>1</td>\n",
       "      <td>26</td>\n",
       "      <td>0</td>\n",
       "      <td>1082.00</td>\n",
       "      <td>2</td>\n",
       "      <td>1</td>\n",
       "      <td>15.61</td>\n",
       "      <td>5.28</td>\n",
       "      <td>0</td>\n",
       "      <td>0</td>\n",
       "      <td>0</td>\n",
       "      <td>1</td>\n",
       "      <td>0</td>\n",
       "      <td>Gates, Mr.  Justin K.</td>\n",
       "      <td>0</td>\n",
       "      <td>0</td>\n",
       "      <td>1</td>\n",
       "    </tr>\n",
       "    <tr>\n",
       "      <th>37</th>\n",
       "      <td>Id2298</td>\n",
       "      <td>2002</td>\n",
       "      <td>0</td>\n",
       "      <td>13</td>\n",
       "      <td>0</td>\n",
       "      <td>1086.00</td>\n",
       "      <td>2</td>\n",
       "      <td>2</td>\n",
       "      <td>17.17</td>\n",
       "      <td>8.46</td>\n",
       "      <td>0</td>\n",
       "      <td>0</td>\n",
       "      <td>0</td>\n",
       "      <td>0</td>\n",
       "      <td>0</td>\n",
       "      <td>Ferrell, Ms.  Mary Evan</td>\n",
       "      <td>0</td>\n",
       "      <td>0</td>\n",
       "      <td>1</td>\n",
       "    </tr>\n",
       "    <tr>\n",
       "      <th>38</th>\n",
       "      <td>Id2297</td>\n",
       "      <td>2004</td>\n",
       "      <td>4</td>\n",
       "      <td>12</td>\n",
       "      <td>0</td>\n",
       "      <td>1121.87</td>\n",
       "      <td>2</td>\n",
       "      <td>0</td>\n",
       "      <td>23.21</td>\n",
       "      <td>4.37</td>\n",
       "      <td>0</td>\n",
       "      <td>1</td>\n",
       "      <td>0</td>\n",
       "      <td>1</td>\n",
       "      <td>0</td>\n",
       "      <td>Ruiz-Tagle Barros, Mr.  Jose Tomas</td>\n",
       "      <td>0</td>\n",
       "      <td>0</td>\n",
       "      <td>1</td>\n",
       "    </tr>\n",
       "    <tr>\n",
       "      <th>39</th>\n",
       "      <td>Id2296</td>\n",
       "      <td>2004</td>\n",
       "      <td>3</td>\n",
       "      <td>14</td>\n",
       "      <td>0</td>\n",
       "      <td>1131.51</td>\n",
       "      <td>2</td>\n",
       "      <td>0</td>\n",
       "      <td>30.14</td>\n",
       "      <td>5.49</td>\n",
       "      <td>0</td>\n",
       "      <td>1</td>\n",
       "      <td>0</td>\n",
       "      <td>1</td>\n",
       "      <td>0</td>\n",
       "      <td>Enke, Mr.  Jacob J</td>\n",
       "      <td>0</td>\n",
       "      <td>0</td>\n",
       "      <td>1</td>\n",
       "    </tr>\n",
       "    <tr>\n",
       "      <th>40</th>\n",
       "      <td>Id2295</td>\n",
       "      <td>2002</td>\n",
       "      <td>2</td>\n",
       "      <td>19</td>\n",
       "      <td>0</td>\n",
       "      <td>1132.00</td>\n",
       "      <td>2</td>\n",
       "      <td>0</td>\n",
       "      <td>16.87</td>\n",
       "      <td>9.13</td>\n",
       "      <td>0</td>\n",
       "      <td>0</td>\n",
       "      <td>0</td>\n",
       "      <td>0</td>\n",
       "      <td>0</td>\n",
       "      <td>Beisel, Mr.  Josh</td>\n",
       "      <td>0</td>\n",
       "      <td>0</td>\n",
       "      <td>1</td>\n",
       "    </tr>\n",
       "    <tr>\n",
       "      <th>41</th>\n",
       "      <td>Id2294</td>\n",
       "      <td>2004</td>\n",
       "      <td>5</td>\n",
       "      <td>6</td>\n",
       "      <td>0</td>\n",
       "      <td>1135.00</td>\n",
       "      <td>2</td>\n",
       "      <td>2</td>\n",
       "      <td>21.84</td>\n",
       "      <td>5.71</td>\n",
       "      <td>0</td>\n",
       "      <td>1</td>\n",
       "      <td>0</td>\n",
       "      <td>1</td>\n",
       "      <td>0</td>\n",
       "      <td>Treece, Ms.  Hope</td>\n",
       "      <td>0</td>\n",
       "      <td>0</td>\n",
       "      <td>1</td>\n",
       "    </tr>\n",
       "    <tr>\n",
       "      <th>42</th>\n",
       "      <td>Id2293</td>\n",
       "      <td>2004</td>\n",
       "      <td>3</td>\n",
       "      <td>11</td>\n",
       "      <td>0</td>\n",
       "      <td>1135.94</td>\n",
       "      <td>2</td>\n",
       "      <td>2</td>\n",
       "      <td>33.33</td>\n",
       "      <td>6.08</td>\n",
       "      <td>0</td>\n",
       "      <td>1</td>\n",
       "      <td>0</td>\n",
       "      <td>1</td>\n",
       "      <td>0</td>\n",
       "      <td>Regnier, Mr.  Ryan</td>\n",
       "      <td>0</td>\n",
       "      <td>0</td>\n",
       "      <td>1</td>\n",
       "    </tr>\n",
       "    <tr>\n",
       "      <th>43</th>\n",
       "      <td>Id2292</td>\n",
       "      <td>2004</td>\n",
       "      <td>4</td>\n",
       "      <td>28</td>\n",
       "      <td>0</td>\n",
       "      <td>1136.40</td>\n",
       "      <td>2</td>\n",
       "      <td>2</td>\n",
       "      <td>33.66</td>\n",
       "      <td>5.71</td>\n",
       "      <td>0</td>\n",
       "      <td>1</td>\n",
       "      <td>0</td>\n",
       "      <td>1</td>\n",
       "      <td>0</td>\n",
       "      <td>Talhelm, Mr.  Alan F</td>\n",
       "      <td>0</td>\n",
       "      <td>0</td>\n",
       "      <td>1</td>\n",
       "    </tr>\n",
       "    <tr>\n",
       "      <th>44</th>\n",
       "      <td>Id2291</td>\n",
       "      <td>2002</td>\n",
       "      <td>0</td>\n",
       "      <td>11</td>\n",
       "      <td>0</td>\n",
       "      <td>1137.00</td>\n",
       "      <td>2</td>\n",
       "      <td>0</td>\n",
       "      <td>19.30</td>\n",
       "      <td>10.36</td>\n",
       "      <td>0</td>\n",
       "      <td>0</td>\n",
       "      <td>0</td>\n",
       "      <td>0</td>\n",
       "      <td>0</td>\n",
       "      <td>King, Ms.  Erin C.</td>\n",
       "      <td>0</td>\n",
       "      <td>0</td>\n",
       "      <td>1</td>\n",
       "    </tr>\n",
       "    <tr>\n",
       "      <th>45</th>\n",
       "      <td>Id2290</td>\n",
       "      <td>2004</td>\n",
       "      <td>5</td>\n",
       "      <td>15</td>\n",
       "      <td>0</td>\n",
       "      <td>1137.01</td>\n",
       "      <td>2</td>\n",
       "      <td>0</td>\n",
       "      <td>34.10</td>\n",
       "      <td>4.07</td>\n",
       "      <td>0</td>\n",
       "      <td>1</td>\n",
       "      <td>0</td>\n",
       "      <td>1</td>\n",
       "      <td>0</td>\n",
       "      <td>April, Mr.  Lusapho</td>\n",
       "      <td>0</td>\n",
       "      <td>0</td>\n",
       "      <td>1</td>\n",
       "    </tr>\n",
       "    <tr>\n",
       "      <th>46</th>\n",
       "      <td>Id2289</td>\n",
       "      <td>2004</td>\n",
       "      <td>4</td>\n",
       "      <td>27</td>\n",
       "      <td>0</td>\n",
       "      <td>1137.47</td>\n",
       "      <td>2</td>\n",
       "      <td>1</td>\n",
       "      <td>34.43</td>\n",
       "      <td>4.27</td>\n",
       "      <td>0</td>\n",
       "      <td>1</td>\n",
       "      <td>0</td>\n",
       "      <td>1</td>\n",
       "      <td>0</td>\n",
       "      <td>Fraioli, Mr.  Mario Jr.</td>\n",
       "      <td>0</td>\n",
       "      <td>0</td>\n",
       "      <td>1</td>\n",
       "    </tr>\n",
       "    <tr>\n",
       "      <th>47</th>\n",
       "      <td>Id2288</td>\n",
       "      <td>2001</td>\n",
       "      <td>5</td>\n",
       "      <td>25</td>\n",
       "      <td>0</td>\n",
       "      <td>1141.00</td>\n",
       "      <td>2</td>\n",
       "      <td>0</td>\n",
       "      <td>16.74</td>\n",
       "      <td>4.08</td>\n",
       "      <td>1</td>\n",
       "      <td>0</td>\n",
       "      <td>0</td>\n",
       "      <td>0</td>\n",
       "      <td>0</td>\n",
       "      <td>Barger, Ms.  Desiree</td>\n",
       "      <td>0</td>\n",
       "      <td>0</td>\n",
       "      <td>1</td>\n",
       "    </tr>\n",
       "    <tr>\n",
       "      <th>48</th>\n",
       "      <td>Id2287</td>\n",
       "      <td>2004</td>\n",
       "      <td>6</td>\n",
       "      <td>12</td>\n",
       "      <td>0</td>\n",
       "      <td>1141.45</td>\n",
       "      <td>2</td>\n",
       "      <td>2</td>\n",
       "      <td>37.29</td>\n",
       "      <td>5.03</td>\n",
       "      <td>0</td>\n",
       "      <td>1</td>\n",
       "      <td>0</td>\n",
       "      <td>1</td>\n",
       "      <td>0</td>\n",
       "      <td>Albertson, Mr.  Mark P.</td>\n",
       "      <td>0</td>\n",
       "      <td>0</td>\n",
       "      <td>1</td>\n",
       "    </tr>\n",
       "    <tr>\n",
       "      <th>49</th>\n",
       "      <td>Id2286</td>\n",
       "      <td>2002</td>\n",
       "      <td>5</td>\n",
       "      <td>1</td>\n",
       "      <td>0</td>\n",
       "      <td>1142.00</td>\n",
       "      <td>2</td>\n",
       "      <td>1</td>\n",
       "      <td>16.55</td>\n",
       "      <td>7.73</td>\n",
       "      <td>0</td>\n",
       "      <td>0</td>\n",
       "      <td>0</td>\n",
       "      <td>0</td>\n",
       "      <td>0</td>\n",
       "      <td>Bain, Ms.  Hope</td>\n",
       "      <td>1</td>\n",
       "      <td>0</td>\n",
       "      <td>0</td>\n",
       "    </tr>\n",
       "    <tr>\n",
       "      <th>50</th>\n",
       "      <td>Id2285</td>\n",
       "      <td>2004</td>\n",
       "      <td>3</td>\n",
       "      <td>10</td>\n",
       "      <td>0</td>\n",
       "      <td>1146.80</td>\n",
       "      <td>1</td>\n",
       "      <td>1</td>\n",
       "      <td>41.14</td>\n",
       "      <td>6.02</td>\n",
       "      <td>0</td>\n",
       "      <td>1</td>\n",
       "      <td>0</td>\n",
       "      <td>1</td>\n",
       "      <td>0</td>\n",
       "      <td>Montoya, Mr.  Alvaro Sr.</td>\n",
       "      <td>0</td>\n",
       "      <td>0</td>\n",
       "      <td>1</td>\n",
       "    </tr>\n",
       "    <tr>\n",
       "      <th>51</th>\n",
       "      <td>Id2284</td>\n",
       "      <td>2003</td>\n",
       "      <td>3</td>\n",
       "      <td>12</td>\n",
       "      <td>0</td>\n",
       "      <td>1149.00</td>\n",
       "      <td>1</td>\n",
       "      <td>0</td>\n",
       "      <td>15.01</td>\n",
       "      <td>4.15</td>\n",
       "      <td>0</td>\n",
       "      <td>0</td>\n",
       "      <td>1</td>\n",
       "      <td>1</td>\n",
       "      <td>0</td>\n",
       "      <td>Fava, Ms.  Carla</td>\n",
       "      <td>0</td>\n",
       "      <td>1</td>\n",
       "      <td>0</td>\n",
       "    </tr>\n",
       "    <tr>\n",
       "      <th>52</th>\n",
       "      <td>Id2283</td>\n",
       "      <td>2004</td>\n",
       "      <td>2</td>\n",
       "      <td>18</td>\n",
       "      <td>0</td>\n",
       "      <td>1149.40</td>\n",
       "      <td>1</td>\n",
       "      <td>1</td>\n",
       "      <td>43.01</td>\n",
       "      <td>5.44</td>\n",
       "      <td>0</td>\n",
       "      <td>1</td>\n",
       "      <td>0</td>\n",
       "      <td>1</td>\n",
       "      <td>0</td>\n",
       "      <td>Luy, Mr.  David</td>\n",
       "      <td>0</td>\n",
       "      <td>0</td>\n",
       "      <td>1</td>\n",
       "    </tr>\n",
       "  </tbody>\n",
       "</table>\n",
       "</div>"
      ],
      "text/plain": [
       "   customer_id  year  month  date  children  charges  hospital_tier  \\\n",
       "0       Id2335  1992      2     9         0   563.84              1   \n",
       "1       Id2334  1992      4    30         0   570.62              1   \n",
       "2       Id2333  1993      3    30         0   600.00              1   \n",
       "3       Id2332  1992      6    13         0   604.54              2   \n",
       "4       Id2331  1998      2    27         0   637.26              2   \n",
       "5       Id2330  2001      4    20         0   646.14              2   \n",
       "6       Id2329  1993      3     1         0   650.00              2   \n",
       "7       Id2328  1995      2     4         0   650.00              2   \n",
       "8       Id2327  2002      4    29         0   668.00              2   \n",
       "9       Id2326  1997      4     9         0   670.00              2   \n",
       "10      Id2325  2001      6    12         0   687.54              2   \n",
       "12      Id2323  1999      1    14         0   722.99              2   \n",
       "14      Id2321  1993      0     9         0   760.00              2   \n",
       "15      Id2320  1996      5    22         0   760.00              2   \n",
       "16      Id2319  1993      3    28         0   770.00              2   \n",
       "18      Id2317  1995      1     7         0   773.54              2   \n",
       "19      Id2316  2004      5     7         0   830.52              2   \n",
       "20      Id2315  2000      4    18         0   865.41              2   \n",
       "21      Id2314  1993      4    27         0   896.21              2   \n",
       "22      Id2313  1994      5    30         0   915.07              2   \n",
       "23      Id2312  1995      5    28         0   928.59              2   \n",
       "24      Id2311  2001      0    19         0   964.71              2   \n",
       "25      Id2310  1994      4    22         0  1006.65              2   \n",
       "26      Id2309  2000      5     9         0  1012.00              2   \n",
       "27      Id2308  1999      0     5         0  1019.00              2   \n",
       "28      Id2307  1995      5     5         0  1033.74              2   \n",
       "29      Id2306  1994      4    17         0  1044.00              2   \n",
       "30      Id2305  2002      2    20         0  1047.00              2   \n",
       "31      Id2304  2002      2     1         0  1049.00              2   \n",
       "32      Id2303  1995      3     1         0  1056.00              2   \n",
       "33      Id2302  1993      6    28         0  1068.00              2   \n",
       "34      Id2301  2004      0    24         0  1070.00              2   \n",
       "35      Id2300  1997      0    13         0  1071.00              2   \n",
       "36      Id2299  1998      1    26         0  1082.00              2   \n",
       "37      Id2298  2002      0    13         0  1086.00              2   \n",
       "38      Id2297  2004      4    12         0  1121.87              2   \n",
       "39      Id2296  2004      3    14         0  1131.51              2   \n",
       "40      Id2295  2002      2    19         0  1132.00              2   \n",
       "41      Id2294  2004      5     6         0  1135.00              2   \n",
       "42      Id2293  2004      3    11         0  1135.94              2   \n",
       "43      Id2292  2004      4    28         0  1136.40              2   \n",
       "44      Id2291  2002      0    11         0  1137.00              2   \n",
       "45      Id2290  2004      5    15         0  1137.01              2   \n",
       "46      Id2289  2004      4    27         0  1137.47              2   \n",
       "47      Id2288  2001      5    25         0  1141.00              2   \n",
       "48      Id2287  2004      6    12         0  1141.45              2   \n",
       "49      Id2286  2002      5     1         0  1142.00              2   \n",
       "50      Id2285  2004      3    10         0  1146.80              1   \n",
       "51      Id2284  2003      3    12         0  1149.00              1   \n",
       "52      Id2283  2004      2    18         0  1149.40              1   \n",
       "\n",
       "    city_tier    bmi  hba1c  heart_issues  any_transplants  cancer_history  \\\n",
       "0           2  17.58   4.51             0                0               0   \n",
       "1           0  17.60   4.39             0                0               0   \n",
       "2           0  16.47   6.35             0                0               1   \n",
       "3           2  17.70   6.28             0                0               0   \n",
       "4           2  22.34   5.57             0                0               0   \n",
       "5           2  22.24   4.29             1                0               0   \n",
       "6           2  17.07   5.22             0                0               1   \n",
       "7           2  17.82   5.26             1                0               0   \n",
       "8           1  21.77  10.67             0                0               0   \n",
       "9           2  20.10   5.60             1                0               1   \n",
       "10          1  24.76   4.54             1                0               0   \n",
       "12          0  23.35   5.94             0                0               0   \n",
       "14          0  17.86   5.43             0                0               1   \n",
       "15          2  19.21   5.53             1                0               0   \n",
       "16          2  17.08   5.73             0                0               1   \n",
       "18          1  20.47   5.81             1                0               0   \n",
       "19          1  25.03   5.91             0                1               0   \n",
       "20          0  24.14   5.29             0                1               0   \n",
       "21          0  18.93   6.11             0                0               1   \n",
       "22          0  20.13   5.42             0                0               0   \n",
       "23          0  20.54   4.20             1                0               0   \n",
       "24          1  25.19   5.64             1                0               0   \n",
       "25          1  20.40   5.27             0                0               0   \n",
       "26          1  20.66   5.80             0                1               0   \n",
       "27          1  15.88   4.36             0                0               0   \n",
       "28          0  20.85   4.45             1                0               0   \n",
       "29          1  16.14   4.86             0                0               0   \n",
       "30          0  16.49   8.48             0                0               0   \n",
       "31          1  18.27  11.46             0                0               0   \n",
       "32          1  15.77   6.05             1                0               0   \n",
       "33          0  16.40   5.40             0                0               1   \n",
       "34          2  21.64   5.50             0                1               0   \n",
       "35          2  17.98   5.33             1                0               1   \n",
       "36          1  15.61   5.28             0                0               0   \n",
       "37          2  17.17   8.46             0                0               0   \n",
       "38          0  23.21   4.37             0                1               0   \n",
       "39          0  30.14   5.49             0                1               0   \n",
       "40          0  16.87   9.13             0                0               0   \n",
       "41          2  21.84   5.71             0                1               0   \n",
       "42          2  33.33   6.08             0                1               0   \n",
       "43          2  33.66   5.71             0                1               0   \n",
       "44          0  19.30  10.36             0                0               0   \n",
       "45          0  34.10   4.07             0                1               0   \n",
       "46          1  34.43   4.27             0                1               0   \n",
       "47          0  16.74   4.08             1                0               0   \n",
       "48          2  37.29   5.03             0                1               0   \n",
       "49          1  16.55   7.73             0                0               0   \n",
       "50          1  41.14   6.02             0                1               0   \n",
       "51          0  15.01   4.15             0                0               1   \n",
       "52          1  43.01   5.44             0                1               0   \n",
       "\n",
       "    numberofmajorsurgeries  smoker                                name  \\\n",
       "0                        1       0                German, Mr.  Aaron K   \n",
       "1                        1       0              Rosendahl, Mr.  Evan P   \n",
       "2                        1       0                  Albano, Ms.  Julie   \n",
       "3                        1       0  Riveros Gonzalez, Mr.  Juan D. Sr.   \n",
       "4                        1       0               Brietzke, Mr.  Jordan   \n",
       "5                        0       0                    Kohls, Ms.  Katy   \n",
       "6                        1       0              Bohinski, Ms.  Susan E   \n",
       "7                        1       0                  Avery, Ms.  Nicole   \n",
       "8                        0       0                  Howell, Ms.  Laura   \n",
       "9                        1       0              Castro, Mr.  Sebastian   \n",
       "10                       0       0                    Hines, Mr.  Fred   \n",
       "12                       0       0                  Buss, Mr.  Matthew   \n",
       "14                       1       0              Danielson, Mr.  Thomas   \n",
       "15                       0       0         Graves - Rostro, Ms.  Lindy   \n",
       "16                       1       0         Petermann, Mr.  Theodore A.   \n",
       "18                       1       0                 Murakami, Mr.  Koji   \n",
       "19                       1       0               Williams, Mr.  John T   \n",
       "20                       1       0             O'Rourke, Ms.  Flannery   \n",
       "21                       1       0               Horbol, Ms.  Sarah E.   \n",
       "22                       0       0                 Ditota, Mr.  Robert   \n",
       "23                       1       0                Wilbur, Ms.  Lindsey   \n",
       "24                       0       0                Keys, Mrs.  Kathleen   \n",
       "25                       0       0                 Lynch, Mr.  Matthew   \n",
       "26                       1       0              Pedersen, Ms.  Kristen   \n",
       "27                       0       0                Tobin, Ms.  Kristina   \n",
       "28                       1       0                  Sweny, Ms.  Andrea   \n",
       "29                       0       0                 Akiha, Mr.  Kenneth   \n",
       "30                       0       0            Lindgren, Mr.  Matthew S   \n",
       "31                       0       0                 Fullarton, Mr.  Jim   \n",
       "32                       1       0                Caron, Ms.  Evelyn L   \n",
       "33                       1       0               Ozahowski, Mr.  David   \n",
       "34                       1       0                Sulhanek, Mr.  Roman   \n",
       "35                       1       0               Jeffers, Mr.  Patrick   \n",
       "36                       1       0               Gates, Mr.  Justin K.   \n",
       "37                       0       0             Ferrell, Ms.  Mary Evan   \n",
       "38                       1       0  Ruiz-Tagle Barros, Mr.  Jose Tomas   \n",
       "39                       1       0                  Enke, Mr.  Jacob J   \n",
       "40                       0       0                   Beisel, Mr.  Josh   \n",
       "41                       1       0                   Treece, Ms.  Hope   \n",
       "42                       1       0                  Regnier, Mr.  Ryan   \n",
       "43                       1       0                Talhelm, Mr.  Alan F   \n",
       "44                       0       0                  King, Ms.  Erin C.   \n",
       "45                       1       0                 April, Mr.  Lusapho   \n",
       "46                       1       0             Fraioli, Mr.  Mario Jr.   \n",
       "47                       0       0                Barger, Ms.  Desiree   \n",
       "48                       1       0             Albertson, Mr.  Mark P.   \n",
       "49                       0       0                     Bain, Ms.  Hope   \n",
       "50                       1       0            Montoya, Mr.  Alvaro Sr.   \n",
       "51                       1       0                    Fava, Ms.  Carla   \n",
       "52                       1       0                     Luy, Mr.  David   \n",
       "\n",
       "    state_id_R1011  state_id_R1012  state_id_R1013  \n",
       "0                0               0               1  \n",
       "1                0               0               1  \n",
       "2                0               0               1  \n",
       "3                0               0               1  \n",
       "4                0               0               1  \n",
       "5                0               1               0  \n",
       "6                0               0               1  \n",
       "7                0               0               1  \n",
       "8                0               1               0  \n",
       "9                0               0               1  \n",
       "10               0               0               1  \n",
       "12               0               0               1  \n",
       "14               0               0               1  \n",
       "15               0               0               1  \n",
       "16               0               0               1  \n",
       "18               0               0               1  \n",
       "19               1               0               0  \n",
       "20               0               0               1  \n",
       "21               0               0               1  \n",
       "22               0               0               1  \n",
       "23               0               0               1  \n",
       "24               0               0               1  \n",
       "25               0               0               1  \n",
       "26               0               0               1  \n",
       "27               0               0               1  \n",
       "28               0               0               1  \n",
       "29               0               0               1  \n",
       "30               0               0               1  \n",
       "31               0               1               0  \n",
       "32               0               0               1  \n",
       "33               0               0               1  \n",
       "34               0               0               1  \n",
       "35               0               0               1  \n",
       "36               0               0               1  \n",
       "37               0               0               1  \n",
       "38               0               0               1  \n",
       "39               0               0               1  \n",
       "40               0               0               1  \n",
       "41               0               0               1  \n",
       "42               0               0               1  \n",
       "43               0               0               1  \n",
       "44               0               0               1  \n",
       "45               0               0               1  \n",
       "46               0               0               1  \n",
       "47               0               0               1  \n",
       "48               0               0               1  \n",
       "49               1               0               0  \n",
       "50               0               0               1  \n",
       "51               0               1               0  \n",
       "52               0               0               1  "
      ]
     },
     "execution_count": 39,
     "metadata": {},
     "output_type": "execute_result"
    }
   ],
   "source": [
    "merged_data[:50]"
   ]
  },
  {
   "cell_type": "code",
   "execution_count": 40,
   "id": "ee15e0b7",
   "metadata": {
    "execution": {
     "iopub.execute_input": "2025-03-07T19:08:37.804270Z",
     "iopub.status.busy": "2025-03-07T19:08:37.803930Z",
     "iopub.status.idle": "2025-03-07T19:08:37.810080Z",
     "shell.execute_reply": "2025-03-07T19:08:37.809248Z"
    },
    "papermill": {
     "duration": 0.032008,
     "end_time": "2025-03-07T19:08:37.811676",
     "exception": false,
     "start_time": "2025-03-07T19:08:37.779668",
     "status": "completed"
    },
    "tags": []
   },
   "outputs": [
    {
     "data": {
      "text/plain": [
       "0"
      ]
     },
     "execution_count": 40,
     "metadata": {},
     "output_type": "execute_result"
    }
   ],
   "source": [
    "#Age appears to be a significant factor in this analysis. Calculate the patients' ages based on their dates of birth.\n",
    "merged_data.year.isnull().sum()"
   ]
  },
  {
   "cell_type": "code",
   "execution_count": 41,
   "id": "f16cf829",
   "metadata": {
    "execution": {
     "iopub.execute_input": "2025-03-07T19:08:37.858740Z",
     "iopub.status.busy": "2025-03-07T19:08:37.858351Z",
     "iopub.status.idle": "2025-03-07T19:08:37.865143Z",
     "shell.execute_reply": "2025-03-07T19:08:37.863982Z"
    },
    "papermill": {
     "duration": 0.032264,
     "end_time": "2025-03-07T19:08:37.866819",
     "exception": false,
     "start_time": "2025-03-07T19:08:37.834555",
     "status": "completed"
    },
    "tags": []
   },
   "outputs": [],
   "source": [
    "merged_data.dropna(inplace=True)"
   ]
  },
  {
   "cell_type": "code",
   "execution_count": 42,
   "id": "bd4ac649",
   "metadata": {
    "execution": {
     "iopub.execute_input": "2025-03-07T19:08:37.914947Z",
     "iopub.status.busy": "2025-03-07T19:08:37.914533Z",
     "iopub.status.idle": "2025-03-07T19:08:37.922566Z",
     "shell.execute_reply": "2025-03-07T19:08:37.921686Z"
    },
    "papermill": {
     "duration": 0.033821,
     "end_time": "2025-03-07T19:08:37.924227",
     "exception": false,
     "start_time": "2025-03-07T19:08:37.890406",
     "status": "completed"
    },
    "tags": []
   },
   "outputs": [
    {
     "data": {
      "text/plain": [
       "customer_id               0\n",
       "year                      0\n",
       "month                     0\n",
       "date                      0\n",
       "children                  0\n",
       "charges                   0\n",
       "hospital_tier             0\n",
       "city_tier                 0\n",
       "bmi                       0\n",
       "hba1c                     0\n",
       "heart_issues              0\n",
       "any_transplants           0\n",
       "cancer_history            0\n",
       "numberofmajorsurgeries    0\n",
       "smoker                    0\n",
       "name                      0\n",
       "state_id_R1011            0\n",
       "state_id_R1012            0\n",
       "state_id_R1013            0\n",
       "dtype: int64"
      ]
     },
     "execution_count": 42,
     "metadata": {},
     "output_type": "execute_result"
    }
   ],
   "source": [
    "merged_data.isnull().sum()"
   ]
  },
  {
   "cell_type": "code",
   "execution_count": 43,
   "id": "a2fd0282",
   "metadata": {
    "execution": {
     "iopub.execute_input": "2025-03-07T19:08:37.973622Z",
     "iopub.status.busy": "2025-03-07T19:08:37.973264Z",
     "iopub.status.idle": "2025-03-07T19:08:37.988777Z",
     "shell.execute_reply": "2025-03-07T19:08:37.987737Z"
    },
    "papermill": {
     "duration": 0.042686,
     "end_time": "2025-03-07T19:08:37.990302",
     "exception": false,
     "start_time": "2025-03-07T19:08:37.947616",
     "status": "completed"
    },
    "tags": []
   },
   "outputs": [
    {
     "data": {
      "text/html": [
       "<div>\n",
       "<style scoped>\n",
       "    .dataframe tbody tr th:only-of-type {\n",
       "        vertical-align: middle;\n",
       "    }\n",
       "\n",
       "    .dataframe tbody tr th {\n",
       "        vertical-align: top;\n",
       "    }\n",
       "\n",
       "    .dataframe thead th {\n",
       "        text-align: right;\n",
       "    }\n",
       "</style>\n",
       "<table border=\"1\" class=\"dataframe\">\n",
       "  <thead>\n",
       "    <tr style=\"text-align: right;\">\n",
       "      <th></th>\n",
       "      <th>customer_id</th>\n",
       "      <th>year</th>\n",
       "      <th>month</th>\n",
       "      <th>date</th>\n",
       "      <th>children</th>\n",
       "      <th>charges</th>\n",
       "      <th>hospital_tier</th>\n",
       "      <th>city_tier</th>\n",
       "      <th>bmi</th>\n",
       "      <th>hba1c</th>\n",
       "      <th>heart_issues</th>\n",
       "      <th>any_transplants</th>\n",
       "      <th>cancer_history</th>\n",
       "      <th>numberofmajorsurgeries</th>\n",
       "      <th>smoker</th>\n",
       "      <th>name</th>\n",
       "      <th>state_id_R1011</th>\n",
       "      <th>state_id_R1012</th>\n",
       "      <th>state_id_R1013</th>\n",
       "    </tr>\n",
       "  </thead>\n",
       "  <tbody>\n",
       "    <tr>\n",
       "      <th>0</th>\n",
       "      <td>Id2335</td>\n",
       "      <td>1992</td>\n",
       "      <td>2</td>\n",
       "      <td>9</td>\n",
       "      <td>0</td>\n",
       "      <td>563.84</td>\n",
       "      <td>1</td>\n",
       "      <td>2</td>\n",
       "      <td>17.58</td>\n",
       "      <td>4.51</td>\n",
       "      <td>0</td>\n",
       "      <td>0</td>\n",
       "      <td>0</td>\n",
       "      <td>1</td>\n",
       "      <td>0</td>\n",
       "      <td>German, Mr.  Aaron K</td>\n",
       "      <td>0</td>\n",
       "      <td>0</td>\n",
       "      <td>1</td>\n",
       "    </tr>\n",
       "    <tr>\n",
       "      <th>1</th>\n",
       "      <td>Id2334</td>\n",
       "      <td>1992</td>\n",
       "      <td>4</td>\n",
       "      <td>30</td>\n",
       "      <td>0</td>\n",
       "      <td>570.62</td>\n",
       "      <td>1</td>\n",
       "      <td>0</td>\n",
       "      <td>17.60</td>\n",
       "      <td>4.39</td>\n",
       "      <td>0</td>\n",
       "      <td>0</td>\n",
       "      <td>0</td>\n",
       "      <td>1</td>\n",
       "      <td>0</td>\n",
       "      <td>Rosendahl, Mr.  Evan P</td>\n",
       "      <td>0</td>\n",
       "      <td>0</td>\n",
       "      <td>1</td>\n",
       "    </tr>\n",
       "    <tr>\n",
       "      <th>2</th>\n",
       "      <td>Id2333</td>\n",
       "      <td>1993</td>\n",
       "      <td>3</td>\n",
       "      <td>30</td>\n",
       "      <td>0</td>\n",
       "      <td>600.00</td>\n",
       "      <td>1</td>\n",
       "      <td>0</td>\n",
       "      <td>16.47</td>\n",
       "      <td>6.35</td>\n",
       "      <td>0</td>\n",
       "      <td>0</td>\n",
       "      <td>1</td>\n",
       "      <td>1</td>\n",
       "      <td>0</td>\n",
       "      <td>Albano, Ms.  Julie</td>\n",
       "      <td>0</td>\n",
       "      <td>0</td>\n",
       "      <td>1</td>\n",
       "    </tr>\n",
       "    <tr>\n",
       "      <th>3</th>\n",
       "      <td>Id2332</td>\n",
       "      <td>1992</td>\n",
       "      <td>6</td>\n",
       "      <td>13</td>\n",
       "      <td>0</td>\n",
       "      <td>604.54</td>\n",
       "      <td>2</td>\n",
       "      <td>2</td>\n",
       "      <td>17.70</td>\n",
       "      <td>6.28</td>\n",
       "      <td>0</td>\n",
       "      <td>0</td>\n",
       "      <td>0</td>\n",
       "      <td>1</td>\n",
       "      <td>0</td>\n",
       "      <td>Riveros Gonzalez, Mr.  Juan D. Sr.</td>\n",
       "      <td>0</td>\n",
       "      <td>0</td>\n",
       "      <td>1</td>\n",
       "    </tr>\n",
       "    <tr>\n",
       "      <th>4</th>\n",
       "      <td>Id2331</td>\n",
       "      <td>1998</td>\n",
       "      <td>2</td>\n",
       "      <td>27</td>\n",
       "      <td>0</td>\n",
       "      <td>637.26</td>\n",
       "      <td>2</td>\n",
       "      <td>2</td>\n",
       "      <td>22.34</td>\n",
       "      <td>5.57</td>\n",
       "      <td>0</td>\n",
       "      <td>0</td>\n",
       "      <td>0</td>\n",
       "      <td>1</td>\n",
       "      <td>0</td>\n",
       "      <td>Brietzke, Mr.  Jordan</td>\n",
       "      <td>0</td>\n",
       "      <td>0</td>\n",
       "      <td>1</td>\n",
       "    </tr>\n",
       "  </tbody>\n",
       "</table>\n",
       "</div>"
      ],
      "text/plain": [
       "  customer_id  year  month  date  children  charges  hospital_tier  city_tier  \\\n",
       "0      Id2335  1992      2     9         0   563.84              1          2   \n",
       "1      Id2334  1992      4    30         0   570.62              1          0   \n",
       "2      Id2333  1993      3    30         0   600.00              1          0   \n",
       "3      Id2332  1992      6    13         0   604.54              2          2   \n",
       "4      Id2331  1998      2    27         0   637.26              2          2   \n",
       "\n",
       "     bmi  hba1c  heart_issues  any_transplants  cancer_history  \\\n",
       "0  17.58   4.51             0                0               0   \n",
       "1  17.60   4.39             0                0               0   \n",
       "2  16.47   6.35             0                0               1   \n",
       "3  17.70   6.28             0                0               0   \n",
       "4  22.34   5.57             0                0               0   \n",
       "\n",
       "   numberofmajorsurgeries  smoker                                name  \\\n",
       "0                       1       0                German, Mr.  Aaron K   \n",
       "1                       1       0              Rosendahl, Mr.  Evan P   \n",
       "2                       1       0                  Albano, Ms.  Julie   \n",
       "3                       1       0  Riveros Gonzalez, Mr.  Juan D. Sr.   \n",
       "4                       1       0               Brietzke, Mr.  Jordan   \n",
       "\n",
       "   state_id_R1011  state_id_R1012  state_id_R1013  \n",
       "0               0               0               1  \n",
       "1               0               0               1  \n",
       "2               0               0               1  \n",
       "3               0               0               1  \n",
       "4               0               0               1  "
      ]
     },
     "execution_count": 43,
     "metadata": {},
     "output_type": "execute_result"
    }
   ],
   "source": [
    "merged_data.head()"
   ]
  },
  {
   "cell_type": "code",
   "execution_count": 44,
   "id": "5440e0d4",
   "metadata": {
    "execution": {
     "iopub.execute_input": "2025-03-07T19:08:38.039156Z",
     "iopub.status.busy": "2025-03-07T19:08:38.038822Z",
     "iopub.status.idle": "2025-03-07T19:08:38.043793Z",
     "shell.execute_reply": "2025-03-07T19:08:38.042844Z"
    },
    "papermill": {
     "duration": 0.031186,
     "end_time": "2025-03-07T19:08:38.045303",
     "exception": false,
     "start_time": "2025-03-07T19:08:38.014117",
     "status": "completed"
    },
    "tags": []
   },
   "outputs": [],
   "source": [
    "merged_data.year = merged_data.year.astype(int)"
   ]
  },
  {
   "cell_type": "code",
   "execution_count": 45,
   "id": "259f6f1a",
   "metadata": {
    "execution": {
     "iopub.execute_input": "2025-03-07T19:08:38.093628Z",
     "iopub.status.busy": "2025-03-07T19:08:38.093283Z",
     "iopub.status.idle": "2025-03-07T19:08:38.098608Z",
     "shell.execute_reply": "2025-03-07T19:08:38.097675Z"
    },
    "papermill": {
     "duration": 0.03101,
     "end_time": "2025-03-07T19:08:38.100018",
     "exception": false,
     "start_time": "2025-03-07T19:08:38.069008",
     "status": "completed"
    },
    "tags": []
   },
   "outputs": [
    {
     "data": {
      "text/plain": [
       "2025"
      ]
     },
     "execution_count": 45,
     "metadata": {},
     "output_type": "execute_result"
    }
   ],
   "source": [
    "current_year = datetime.date.today().year\n",
    "current_year"
   ]
  },
  {
   "cell_type": "code",
   "execution_count": 46,
   "id": "ad5759e7",
   "metadata": {
    "execution": {
     "iopub.execute_input": "2025-03-07T19:08:38.148608Z",
     "iopub.status.busy": "2025-03-07T19:08:38.148262Z",
     "iopub.status.idle": "2025-03-07T19:08:38.153357Z",
     "shell.execute_reply": "2025-03-07T19:08:38.152477Z"
    },
    "papermill": {
     "duration": 0.03139,
     "end_time": "2025-03-07T19:08:38.155110",
     "exception": false,
     "start_time": "2025-03-07T19:08:38.123720",
     "status": "completed"
    },
    "tags": []
   },
   "outputs": [],
   "source": [
    "merged_data[\"Age\"] = current_year - merged_data.year"
   ]
  },
  {
   "cell_type": "code",
   "execution_count": 47,
   "id": "3626e5aa",
   "metadata": {
    "execution": {
     "iopub.execute_input": "2025-03-07T19:08:38.206488Z",
     "iopub.status.busy": "2025-03-07T19:08:38.206149Z",
     "iopub.status.idle": "2025-03-07T19:08:38.221928Z",
     "shell.execute_reply": "2025-03-07T19:08:38.220861Z"
    },
    "papermill": {
     "duration": 0.043427,
     "end_time": "2025-03-07T19:08:38.223431",
     "exception": false,
     "start_time": "2025-03-07T19:08:38.180004",
     "status": "completed"
    },
    "tags": []
   },
   "outputs": [
    {
     "data": {
      "text/html": [
       "<div>\n",
       "<style scoped>\n",
       "    .dataframe tbody tr th:only-of-type {\n",
       "        vertical-align: middle;\n",
       "    }\n",
       "\n",
       "    .dataframe tbody tr th {\n",
       "        vertical-align: top;\n",
       "    }\n",
       "\n",
       "    .dataframe thead th {\n",
       "        text-align: right;\n",
       "    }\n",
       "</style>\n",
       "<table border=\"1\" class=\"dataframe\">\n",
       "  <thead>\n",
       "    <tr style=\"text-align: right;\">\n",
       "      <th></th>\n",
       "      <th>customer_id</th>\n",
       "      <th>year</th>\n",
       "      <th>month</th>\n",
       "      <th>date</th>\n",
       "      <th>children</th>\n",
       "      <th>charges</th>\n",
       "      <th>hospital_tier</th>\n",
       "      <th>city_tier</th>\n",
       "      <th>bmi</th>\n",
       "      <th>hba1c</th>\n",
       "      <th>heart_issues</th>\n",
       "      <th>any_transplants</th>\n",
       "      <th>cancer_history</th>\n",
       "      <th>numberofmajorsurgeries</th>\n",
       "      <th>smoker</th>\n",
       "      <th>name</th>\n",
       "      <th>state_id_R1011</th>\n",
       "      <th>state_id_R1012</th>\n",
       "      <th>state_id_R1013</th>\n",
       "      <th>Age</th>\n",
       "    </tr>\n",
       "  </thead>\n",
       "  <tbody>\n",
       "    <tr>\n",
       "      <th>0</th>\n",
       "      <td>Id2335</td>\n",
       "      <td>1992</td>\n",
       "      <td>2</td>\n",
       "      <td>9</td>\n",
       "      <td>0</td>\n",
       "      <td>563.84</td>\n",
       "      <td>1</td>\n",
       "      <td>2</td>\n",
       "      <td>17.58</td>\n",
       "      <td>4.51</td>\n",
       "      <td>0</td>\n",
       "      <td>0</td>\n",
       "      <td>0</td>\n",
       "      <td>1</td>\n",
       "      <td>0</td>\n",
       "      <td>German, Mr.  Aaron K</td>\n",
       "      <td>0</td>\n",
       "      <td>0</td>\n",
       "      <td>1</td>\n",
       "      <td>33</td>\n",
       "    </tr>\n",
       "    <tr>\n",
       "      <th>1</th>\n",
       "      <td>Id2334</td>\n",
       "      <td>1992</td>\n",
       "      <td>4</td>\n",
       "      <td>30</td>\n",
       "      <td>0</td>\n",
       "      <td>570.62</td>\n",
       "      <td>1</td>\n",
       "      <td>0</td>\n",
       "      <td>17.60</td>\n",
       "      <td>4.39</td>\n",
       "      <td>0</td>\n",
       "      <td>0</td>\n",
       "      <td>0</td>\n",
       "      <td>1</td>\n",
       "      <td>0</td>\n",
       "      <td>Rosendahl, Mr.  Evan P</td>\n",
       "      <td>0</td>\n",
       "      <td>0</td>\n",
       "      <td>1</td>\n",
       "      <td>33</td>\n",
       "    </tr>\n",
       "    <tr>\n",
       "      <th>2</th>\n",
       "      <td>Id2333</td>\n",
       "      <td>1993</td>\n",
       "      <td>3</td>\n",
       "      <td>30</td>\n",
       "      <td>0</td>\n",
       "      <td>600.00</td>\n",
       "      <td>1</td>\n",
       "      <td>0</td>\n",
       "      <td>16.47</td>\n",
       "      <td>6.35</td>\n",
       "      <td>0</td>\n",
       "      <td>0</td>\n",
       "      <td>1</td>\n",
       "      <td>1</td>\n",
       "      <td>0</td>\n",
       "      <td>Albano, Ms.  Julie</td>\n",
       "      <td>0</td>\n",
       "      <td>0</td>\n",
       "      <td>1</td>\n",
       "      <td>32</td>\n",
       "    </tr>\n",
       "    <tr>\n",
       "      <th>3</th>\n",
       "      <td>Id2332</td>\n",
       "      <td>1992</td>\n",
       "      <td>6</td>\n",
       "      <td>13</td>\n",
       "      <td>0</td>\n",
       "      <td>604.54</td>\n",
       "      <td>2</td>\n",
       "      <td>2</td>\n",
       "      <td>17.70</td>\n",
       "      <td>6.28</td>\n",
       "      <td>0</td>\n",
       "      <td>0</td>\n",
       "      <td>0</td>\n",
       "      <td>1</td>\n",
       "      <td>0</td>\n",
       "      <td>Riveros Gonzalez, Mr.  Juan D. Sr.</td>\n",
       "      <td>0</td>\n",
       "      <td>0</td>\n",
       "      <td>1</td>\n",
       "      <td>33</td>\n",
       "    </tr>\n",
       "    <tr>\n",
       "      <th>4</th>\n",
       "      <td>Id2331</td>\n",
       "      <td>1998</td>\n",
       "      <td>2</td>\n",
       "      <td>27</td>\n",
       "      <td>0</td>\n",
       "      <td>637.26</td>\n",
       "      <td>2</td>\n",
       "      <td>2</td>\n",
       "      <td>22.34</td>\n",
       "      <td>5.57</td>\n",
       "      <td>0</td>\n",
       "      <td>0</td>\n",
       "      <td>0</td>\n",
       "      <td>1</td>\n",
       "      <td>0</td>\n",
       "      <td>Brietzke, Mr.  Jordan</td>\n",
       "      <td>0</td>\n",
       "      <td>0</td>\n",
       "      <td>1</td>\n",
       "      <td>27</td>\n",
       "    </tr>\n",
       "  </tbody>\n",
       "</table>\n",
       "</div>"
      ],
      "text/plain": [
       "  customer_id  year  month  date  children  charges  hospital_tier  city_tier  \\\n",
       "0      Id2335  1992      2     9         0   563.84              1          2   \n",
       "1      Id2334  1992      4    30         0   570.62              1          0   \n",
       "2      Id2333  1993      3    30         0   600.00              1          0   \n",
       "3      Id2332  1992      6    13         0   604.54              2          2   \n",
       "4      Id2331  1998      2    27         0   637.26              2          2   \n",
       "\n",
       "     bmi  hba1c  heart_issues  any_transplants  cancer_history  \\\n",
       "0  17.58   4.51             0                0               0   \n",
       "1  17.60   4.39             0                0               0   \n",
       "2  16.47   6.35             0                0               1   \n",
       "3  17.70   6.28             0                0               0   \n",
       "4  22.34   5.57             0                0               0   \n",
       "\n",
       "   numberofmajorsurgeries  smoker                                name  \\\n",
       "0                       1       0                German, Mr.  Aaron K   \n",
       "1                       1       0              Rosendahl, Mr.  Evan P   \n",
       "2                       1       0                  Albano, Ms.  Julie   \n",
       "3                       1       0  Riveros Gonzalez, Mr.  Juan D. Sr.   \n",
       "4                       1       0               Brietzke, Mr.  Jordan   \n",
       "\n",
       "   state_id_R1011  state_id_R1012  state_id_R1013  Age  \n",
       "0               0               0               1   33  \n",
       "1               0               0               1   33  \n",
       "2               0               0               1   32  \n",
       "3               0               0               1   33  \n",
       "4               0               0               1   27  "
      ]
     },
     "execution_count": 47,
     "metadata": {},
     "output_type": "execute_result"
    }
   ],
   "source": [
    "merged_data.head()"
   ]
  },
  {
   "cell_type": "code",
   "execution_count": 48,
   "id": "31e4ad08",
   "metadata": {
    "execution": {
     "iopub.execute_input": "2025-03-07T19:08:38.272099Z",
     "iopub.status.busy": "2025-03-07T19:08:38.271778Z",
     "iopub.status.idle": "2025-03-07T19:08:38.278312Z",
     "shell.execute_reply": "2025-03-07T19:08:38.277485Z"
    },
    "papermill": {
     "duration": 0.032574,
     "end_time": "2025-03-07T19:08:38.279779",
     "exception": false,
     "start_time": "2025-03-07T19:08:38.247205",
     "status": "completed"
    },
    "tags": []
   },
   "outputs": [
    {
     "data": {
      "text/plain": [
       "0                     German, Mr.  Aaron K\n",
       "1                   Rosendahl, Mr.  Evan P\n",
       "2                       Albano, Ms.  Julie\n",
       "3       Riveros Gonzalez, Mr.  Juan D. Sr.\n",
       "4                    Brietzke, Mr.  Jordan\n",
       "                       ...                \n",
       "2329                Baker, Mr.  Russell B.\n",
       "2330                  Kadala, Ms.  Kristyn\n",
       "2331                  Osborne, Ms.  Kelsey\n",
       "2333                Lehner, Mr.  Matthew D\n",
       "2334                     Hawks, Ms.  Kelly\n",
       "Name: name, Length: 2325, dtype: object"
      ]
     },
     "execution_count": 48,
     "metadata": {},
     "output_type": "execute_result"
    }
   ],
   "source": [
    "#Calculate the gender of the patient based on the salutation used in the name␣ ↪column\n",
    "merged_data.name"
   ]
  },
  {
   "cell_type": "code",
   "execution_count": 49,
   "id": "cc4717ea",
   "metadata": {
    "execution": {
     "iopub.execute_input": "2025-03-07T19:08:38.330001Z",
     "iopub.status.busy": "2025-03-07T19:08:38.329614Z",
     "iopub.status.idle": "2025-03-07T19:08:38.340571Z",
     "shell.execute_reply": "2025-03-07T19:08:38.339620Z"
    },
    "papermill": {
     "duration": 0.038108,
     "end_time": "2025-03-07T19:08:38.342102",
     "exception": false,
     "start_time": "2025-03-07T19:08:38.303994",
     "status": "completed"
    },
    "tags": []
   },
   "outputs": [],
   "source": [
    "merged_data['title'] = merged_data.name.str.split('[,.]'). str[1].str.strip()"
   ]
  },
  {
   "cell_type": "code",
   "execution_count": 50,
   "id": "5a8c675d",
   "metadata": {
    "execution": {
     "iopub.execute_input": "2025-03-07T19:08:38.393228Z",
     "iopub.status.busy": "2025-03-07T19:08:38.392882Z",
     "iopub.status.idle": "2025-03-07T19:08:38.399226Z",
     "shell.execute_reply": "2025-03-07T19:08:38.398278Z"
    },
    "papermill": {
     "duration": 0.034909,
     "end_time": "2025-03-07T19:08:38.400853",
     "exception": false,
     "start_time": "2025-03-07T19:08:38.365944",
     "status": "completed"
    },
    "tags": []
   },
   "outputs": [
    {
     "data": {
      "text/plain": [
       "0"
      ]
     },
     "execution_count": 50,
     "metadata": {},
     "output_type": "execute_result"
    }
   ],
   "source": [
    "merged_data['title'].isnull().sum()"
   ]
  },
  {
   "cell_type": "code",
   "execution_count": 51,
   "id": "09c69d61",
   "metadata": {
    "execution": {
     "iopub.execute_input": "2025-03-07T19:08:38.449891Z",
     "iopub.status.busy": "2025-03-07T19:08:38.449540Z",
     "iopub.status.idle": "2025-03-07T19:08:38.456624Z",
     "shell.execute_reply": "2025-03-07T19:08:38.455836Z"
    },
    "papermill": {
     "duration": 0.033361,
     "end_time": "2025-03-07T19:08:38.458090",
     "exception": false,
     "start_time": "2025-03-07T19:08:38.424729",
     "status": "completed"
    },
    "tags": []
   },
   "outputs": [
    {
     "data": {
      "text/plain": [
       "title\n",
       "Mr     1160\n",
       "Ms     1023\n",
       "Mrs     142\n",
       "Name: count, dtype: int64"
      ]
     },
     "execution_count": 51,
     "metadata": {},
     "output_type": "execute_result"
    }
   ],
   "source": [
    "merged_data['title'].value_counts()"
   ]
  },
  {
   "cell_type": "code",
   "execution_count": 52,
   "id": "d2a45b55",
   "metadata": {
    "execution": {
     "iopub.execute_input": "2025-03-07T19:08:38.508122Z",
     "iopub.status.busy": "2025-03-07T19:08:38.507774Z",
     "iopub.status.idle": "2025-03-07T19:08:38.520476Z",
     "shell.execute_reply": "2025-03-07T19:08:38.519310Z"
    },
    "papermill": {
     "duration": 0.039638,
     "end_time": "2025-03-07T19:08:38.522112",
     "exception": false,
     "start_time": "2025-03-07T19:08:38.482474",
     "status": "completed"
    },
    "tags": []
   },
   "outputs": [
    {
     "name": "stdout",
     "output_type": "stream",
     "text": [
      "<class 'pandas.core.frame.DataFrame'>\n",
      "Index: 2325 entries, 0 to 2334\n",
      "Data columns (total 21 columns):\n",
      " #   Column                  Non-Null Count  Dtype  \n",
      "---  ------                  --------------  -----  \n",
      " 0   customer_id             2325 non-null   object \n",
      " 1   year                    2325 non-null   int64  \n",
      " 2   month                   2325 non-null   int64  \n",
      " 3   date                    2325 non-null   int64  \n",
      " 4   children                2325 non-null   int64  \n",
      " 5   charges                 2325 non-null   float64\n",
      " 6   hospital_tier           2325 non-null   int64  \n",
      " 7   city_tier               2325 non-null   int64  \n",
      " 8   bmi                     2325 non-null   float64\n",
      " 9   hba1c                   2325 non-null   float64\n",
      " 10  heart_issues            2325 non-null   int64  \n",
      " 11  any_transplants         2325 non-null   int64  \n",
      " 12  cancer_history          2325 non-null   int64  \n",
      " 13  numberofmajorsurgeries  2325 non-null   int64  \n",
      " 14  smoker                  2325 non-null   int64  \n",
      " 15  name                    2325 non-null   object \n",
      " 16  state_id_R1011          2325 non-null   int64  \n",
      " 17  state_id_R1012          2325 non-null   int64  \n",
      " 18  state_id_R1013          2325 non-null   int64  \n",
      " 19  Age                     2325 non-null   int64  \n",
      " 20  title                   2325 non-null   object \n",
      "dtypes: float64(3), int64(15), object(3)\n",
      "memory usage: 399.6+ KB\n"
     ]
    }
   ],
   "source": [
    "merged_data.info()"
   ]
  },
  {
   "cell_type": "code",
   "execution_count": 53,
   "id": "43982128",
   "metadata": {
    "execution": {
     "iopub.execute_input": "2025-03-07T19:08:38.571923Z",
     "iopub.status.busy": "2025-03-07T19:08:38.571534Z",
     "iopub.status.idle": "2025-03-07T19:08:38.577947Z",
     "shell.execute_reply": "2025-03-07T19:08:38.576865Z"
    },
    "papermill": {
     "duration": 0.032998,
     "end_time": "2025-03-07T19:08:38.579734",
     "exception": false,
     "start_time": "2025-03-07T19:08:38.546736",
     "status": "completed"
    },
    "tags": []
   },
   "outputs": [],
   "source": [
    "merged_data['title'] = np.where(merged_data['title'].str.strip() == 'Mr', 'M', 'F')"
   ]
  },
  {
   "cell_type": "code",
   "execution_count": 54,
   "id": "66b3660d",
   "metadata": {
    "execution": {
     "iopub.execute_input": "2025-03-07T19:08:38.629853Z",
     "iopub.status.busy": "2025-03-07T19:08:38.629466Z",
     "iopub.status.idle": "2025-03-07T19:08:38.636879Z",
     "shell.execute_reply": "2025-03-07T19:08:38.635895Z"
    },
    "papermill": {
     "duration": 0.034198,
     "end_time": "2025-03-07T19:08:38.638413",
     "exception": false,
     "start_time": "2025-03-07T19:08:38.604215",
     "status": "completed"
    },
    "tags": []
   },
   "outputs": [
    {
     "data": {
      "text/plain": [
       "title\n",
       "F    1165\n",
       "M    1160\n",
       "Name: count, dtype: int64"
      ]
     },
     "execution_count": 54,
     "metadata": {},
     "output_type": "execute_result"
    }
   ],
   "source": [
    "merged_data[\"title\"].value_counts()"
   ]
  },
  {
   "cell_type": "code",
   "execution_count": 55,
   "id": "161cf9e8",
   "metadata": {
    "execution": {
     "iopub.execute_input": "2025-03-07T19:08:38.688117Z",
     "iopub.status.busy": "2025-03-07T19:08:38.687787Z",
     "iopub.status.idle": "2025-03-07T19:08:38.692449Z",
     "shell.execute_reply": "2025-03-07T19:08:38.691509Z"
    },
    "papermill": {
     "duration": 0.031476,
     "end_time": "2025-03-07T19:08:38.694281",
     "exception": false,
     "start_time": "2025-03-07T19:08:38.662805",
     "status": "completed"
    },
    "tags": []
   },
   "outputs": [],
   "source": [
    "merged_data.rename(columns = {'title':'Gender'}, inplace = True)"
   ]
  },
  {
   "cell_type": "code",
   "execution_count": 56,
   "id": "d9473444",
   "metadata": {
    "execution": {
     "iopub.execute_input": "2025-03-07T19:08:38.746412Z",
     "iopub.status.busy": "2025-03-07T19:08:38.746072Z",
     "iopub.status.idle": "2025-03-07T19:08:38.753830Z",
     "shell.execute_reply": "2025-03-07T19:08:38.752757Z"
    },
    "papermill": {
     "duration": 0.035557,
     "end_time": "2025-03-07T19:08:38.755459",
     "exception": false,
     "start_time": "2025-03-07T19:08:38.719902",
     "status": "completed"
    },
    "tags": []
   },
   "outputs": [
    {
     "data": {
      "text/plain": [
       "Gender\n",
       "F    1165\n",
       "M    1160\n",
       "Name: count, dtype: int64"
      ]
     },
     "execution_count": 56,
     "metadata": {},
     "output_type": "execute_result"
    }
   ],
   "source": [
    "merged_data[\"Gender\"].value_counts()"
   ]
  },
  {
   "cell_type": "code",
   "execution_count": 57,
   "id": "c77922bd",
   "metadata": {
    "execution": {
     "iopub.execute_input": "2025-03-07T19:08:38.806735Z",
     "iopub.status.busy": "2025-03-07T19:08:38.806322Z",
     "iopub.status.idle": "2025-03-07T19:08:38.816799Z",
     "shell.execute_reply": "2025-03-07T19:08:38.815768Z"
    },
    "papermill": {
     "duration": 0.037894,
     "end_time": "2025-03-07T19:08:38.818463",
     "exception": false,
     "start_time": "2025-03-07T19:08:38.780569",
     "status": "completed"
    },
    "tags": []
   },
   "outputs": [
    {
     "data": {
      "text/plain": [
       "2         600.00\n",
       "5         646.14\n",
       "6         650.00\n",
       "7         650.00\n",
       "8         668.00\n",
       "          ...   \n",
       "2324    48824.45\n",
       "2325    48885.14\n",
       "2330    55135.40\n",
       "2331    58571.07\n",
       "2334    63770.43\n",
       "Name: charges, Length: 1165, dtype: float64"
      ]
     },
     "execution_count": 57,
     "metadata": {},
     "output_type": "execute_result"
    }
   ],
   "source": [
    "male_data = merged_data[merged_data.Gender == 'M']\n",
    "male_data.shape\n",
    "female_data = merged_data[merged_data.Gender == 'F']\n",
    "female_data.charges"
   ]
  },
  {
   "cell_type": "code",
   "execution_count": 58,
   "id": "6f1bcb5b",
   "metadata": {
    "execution": {
     "iopub.execute_input": "2025-03-07T19:08:38.869403Z",
     "iopub.status.busy": "2025-03-07T19:08:38.869057Z",
     "iopub.status.idle": "2025-03-07T19:08:39.224962Z",
     "shell.execute_reply": "2025-03-07T19:08:39.223882Z"
    },
    "papermill": {
     "duration": 0.383485,
     "end_time": "2025-03-07T19:08:39.226692",
     "exception": false,
     "start_time": "2025-03-07T19:08:38.843207",
     "status": "completed"
    },
    "tags": []
   },
   "outputs": [
    {
     "data": {
      "image/png": "[encoded data removed]",
      "text/plain": [
       "<Figure size 640x480 with 1 Axes>"
      ]
     },
     "metadata": {},
     "output_type": "display_data"
    }
   ],
   "source": [
    "#Visualize the distribution of costs using a histogram, box and whisker plot, and swarm plot.\n",
    "#State how the distribution is different across gender and tiers of hospitals\n",
    "#Histogram\n",
    "male_data = merged_data[merged_data.Gender == 'M']\n",
    "female_data = merged_data[merged_data.Gender == 'F']\n",
    "plt.hist([male_data.charges, female_data.charges], bins=20, stacked=True, color=['cyan', 'Purple'], edgecolor='black')\n",
    "\n",
    "# Adding labels and title\n",
    "plt.xlabel('Cost of hospitalisation')\n",
    "plt.ylabel('Frequency')\n",
    "plt.title('Cost of hospitalisation by gender')\n",
    "plt.legend(['Male', 'Female'])\n",
    "\n",
    "# Display the plot\n",
    "plt.show()"
   ]
  },
  {
   "cell_type": "code",
   "execution_count": 59,
   "id": "a1b8e2a8",
   "metadata": {
    "execution": {
     "iopub.execute_input": "2025-03-07T19:08:39.277843Z",
     "iopub.status.busy": "2025-03-07T19:08:39.277457Z",
     "iopub.status.idle": "2025-03-07T19:08:39.577882Z",
     "shell.execute_reply": "2025-03-07T19:08:39.576867Z"
    },
    "papermill": {
     "duration": 0.327545,
     "end_time": "2025-03-07T19:08:39.579392",
     "exception": false,
     "start_time": "2025-03-07T19:08:39.251847",
     "status": "completed"
    },
    "tags": []
   },
   "outputs": [
    {
     "data": {
      "text/plain": [
       "<Axes: xlabel='hospital_tier', ylabel='charges'>"
      ]
     },
     "execution_count": 59,
     "metadata": {},
     "output_type": "execute_result"
    },
    {
     "data": {
      "image/png": "[encoded data removed]",
      "text/plain": [
       "<Figure size 640x480 with 1 Axes>"
      ]
     },
     "metadata": {},
     "output_type": "display_data"
    }
   ],
   "source": [
    "#Gender based hospital charges based on hospital tier\n",
    "#box and whisker plot\n",
    "sns.set(style=\"whitegrid\")\n",
    "sns.boxplot(x=merged_data.hospital_tier, y=merged_data.charges,\n",
    "    hue=merged_data.Gender,\n",
    "data=merged_data, palette=\"Set2\", dodge=True)"
   ]
  },
  {
   "cell_type": "code",
   "execution_count": 60,
   "id": "003298b9",
   "metadata": {
    "execution": {
     "iopub.execute_input": "2025-03-07T19:08:39.633110Z",
     "iopub.status.busy": "2025-03-07T19:08:39.632753Z",
     "iopub.status.idle": "2025-03-07T19:09:01.900382Z",
     "shell.execute_reply": "2025-03-07T19:09:01.899279Z"
    },
    "papermill": {
     "duration": 22.297145,
     "end_time": "2025-03-07T19:09:01.903079",
     "exception": false,
     "start_time": "2025-03-07T19:08:39.605934",
     "status": "completed"
    },
    "tags": []
   },
   "outputs": [
    {
     "data": {
      "image/png": "[encoded data removed]",
      "text/plain": [
       "<Figure size 640x480 with 1 Axes>"
      ]
     },
     "metadata": {},
     "output_type": "display_data"
    }
   ],
   "source": [
    "#Swarm plot showing the distribution of hospitalization costs for each hospital tier for each gender\n",
    "sns.swarmplot(x=merged_data.hospital_tier,\n",
    "                  y=merged_data.charges,\n",
    "              hue=merged_data.Gender,\n",
    "              data=merged_data)\n",
    "plt.show()"
   ]
  },
  {
   "cell_type": "code",
   "execution_count": 61,
   "id": "cb818c2c",
   "metadata": {
    "execution": {
     "iopub.execute_input": "2025-03-07T19:09:01.963831Z",
     "iopub.status.busy": "2025-03-07T19:09:01.963403Z",
     "iopub.status.idle": "2025-03-07T19:09:03.784256Z",
     "shell.execute_reply": "2025-03-07T19:09:03.783308Z"
    },
    "papermill": {
     "duration": 1.853077,
     "end_time": "2025-03-07T19:09:03.786119",
     "exception": false,
     "start_time": "2025-03-07T19:09:01.933042",
     "status": "completed"
    },
    "tags": []
   },
   "outputs": [
    {
     "data": {
      "text/html": [
       "<html>\n",
       "<head><meta charset=\"utf-8\" /></head>\n",
       "<body>\n",
       "    <div>            <script src=\"https://cdnjs.cloudflare.com/ajax/libs/mathjax/2.7.5/MathJax.js?config=TeX-AMS-MML_SVG\"></script><script type=\"text/javascript\">if (window.MathJax && window.MathJax.Hub && window.MathJax.Hub.Config) {window.MathJax.Hub.Config({SVG: {font: \"STIX-Web\"}});}</script>                <script type=\"text/javascript\">window.PlotlyConfig = {MathJaxConfig: 'local'};</script>\n",
       "        <script charset=\"utf-8\" src=\"https://cdn.plot.ly/plotly-2.35.2.min.js\"></script>                <div id=\"dd6152d1-dd6b-492f-b535-4f382df9da27\" class=\"plotly-graph-div\" style=\"height:525px; width:100%;\"></div>            <script type=\"text/javascript\">                                    window.PLOTLYENV=window.PLOTLYENV || {};                                    if (document.getElementById(\"dd6152d1-dd6b-492f-b535-4f382df9da27\")) {                    Plotly.newPlot(                        \"dd6152d1-dd6b-492f-b535-4f382df9da27\",                        [{\"hovertemplate\":\"r=%{r}\\u003cbr\\u003etheta=%{theta}\\u003cextra\\u003e\\u003c\\u002fextra\\u003e\",\"legendgroup\":\"\",\"line\":{\"color\":\"#636efa\",\"dash\":\"solid\"},\"marker\":{\"symbol\":\"circle\"},\"mode\":\"lines\",\"name\":\"\",\"r\":[32097.434999999998,7168.76,10676.83,32097.434999999998],\"showlegend\":false,\"subplot\":\"polar\",\"theta\":[\"Tier 0 hospital\",\"Tier 1 hospital\",\"Tier 2 hospital\",\"Tier 0 hospital\"],\"type\":\"scatterpolar\"}],                        {\"template\":{\"data\":{\"histogram2dcontour\":[{\"type\":\"histogram2dcontour\",\"colorbar\":{\"outlinewidth\":0,\"ticks\":\"\"},\"colorscale\":[[0.0,\"#0d0887\"],[0.1111111111111111,\"#46039f\"],[0.2222222222222222,\"#7201a8\"],[0.3333333333333333,\"#9c179e\"],[0.4444444444444444,\"#bd3786\"],[0.5555555555555556,\"#d8576b\"],[0.6666666666666666,\"#ed7953\"],[0.7777777777777778,\"#fb9f3a\"],[0.8888888888888888,\"#fdca26\"],[1.0,\"#f0f921\"]]}],\"choropleth\":[{\"type\":\"choropleth\",\"colorbar\":{\"outlinewidth\":0,\"ticks\":\"\"}}],\"histogram2d\":[{\"type\":\"histogram2d\",\"colorbar\":{\"outlinewidth\":0,\"ticks\":\"\"},\"colorscale\":[[0.0,\"#0d0887\"],[0.1111111111111111,\"#46039f\"],[0.2222222222222222,\"#7201a8\"],[0.3333333333333333,\"#9c179e\"],[0.4444444444444444,\"#bd3786\"],[0.5555555555555556,\"#d8576b\"],[0.6666666666666666,\"#ed7953\"],[0.7777777777777778,\"#fb9f3a\"],[0.8888888888888888,\"#fdca26\"],[1.0,\"#f0f921\"]]}],\"heatmap\":[{\"type\":\"heatmap\",\"colorbar\":{\"outlinewidth\":0,\"ticks\":\"\"},\"colorscale\":[[0.0,\"#0d0887\"],[0.1111111111111111,\"#46039f\"],[0.2222222222222222,\"#7201a8\"],[0.3333333333333333,\"#9c179e\"],[0.4444444444444444,\"#bd3786\"],[0.5555555555555556,\"#d8576b\"],[0.6666666666666666,\"#ed7953\"],[0.7777777777777778,\"#fb9f3a\"],[0.8888888888888888,\"#fdca26\"],[1.0,\"#f0f921\"]]}],\"heatmapgl\":[{\"type\":\"heatmapgl\",\"colorbar\":{\"outlinewidth\":0,\"ticks\":\"\"},\"colorscale\":[[0.0,\"#0d0887\"],[0.1111111111111111,\"#46039f\"],[0.2222222222222222,\"#7201a8\"],[0.3333333333333333,\"#9c179e\"],[0.4444444444444444,\"#bd3786\"],[0.5555555555555556,\"#d8576b\"],[0.6666666666666666,\"#ed7953\"],[0.7777777777777778,\"#fb9f3a\"],[0.8888888888888888,\"#fdca26\"],[1.0,\"#f0f921\"]]}],\"contourcarpet\":[{\"type\":\"contourcarpet\",\"colorbar\":{\"outlinewidth\":0,\"ticks\":\"\"}}],\"contour\":[{\"type\":\"contour\",\"colorbar\":{\"outlinewidth\":0,\"ticks\":\"\"},\"colorscale\":[[0.0,\"#0d0887\"],[0.1111111111111111,\"#46039f\"],[0.2222222222222222,\"#7201a8\"],[0.3333333333333333,\"#9c179e\"],[0.4444444444444444,\"#bd3786\"],[0.5555555555555556,\"#d8576b\"],[0.6666666666666666,\"#ed7953\"],[0.7777777777777778,\"#fb9f3a\"],[0.8888888888888888,\"#fdca26\"],[1.0,\"#f0f921\"]]}],\"surface\":[{\"type\":\"surface\",\"colorbar\":{\"outlinewidth\":0,\"ticks\":\"\"},\"colorscale\":[[0.0,\"#0d0887\"],[0.1111111111111111,\"#46039f\"],[0.2222222222222222,\"#7201a8\"],[0.3333333333333333,\"#9c179e\"],[0.4444444444444444,\"#bd3786\"],[0.5555555555555556,\"#d8576b\"],[0.6666666666666666,\"#ed7953\"],[0.7777777777777778,\"#fb9f3a\"],[0.8888888888888888,\"#fdca26\"],[1.0,\"#f0f921\"]]}],\"mesh3d\":[{\"type\":\"mesh3d\",\"colorbar\":{\"outlinewidth\":0,\"ticks\":\"\"}}],\"scatter\":[{\"fillpattern\":{\"fillmode\":\"overlay\",\"size\":10,\"solidity\":0.2},\"type\":\"scatter\"}],\"parcoords\":[{\"type\":\"parcoords\",\"line\":{\"colorbar\":{\"outlinewidth\":0,\"ticks\":\"\"}}}],\"scatterpolargl\":[{\"type\":\"scatterpolargl\",\"marker\":{\"colorbar\":{\"outlinewidth\":0,\"ticks\":\"\"}}}],\"bar\":[{\"error_x\":{\"color\":\"#2a3f5f\"},\"error_y\":{\"color\":\"#2a3f5f\"},\"marker\":{\"line\":{\"color\":\"#E5ECF6\",\"width\":0.5},\"pattern\":{\"fillmode\":\"overlay\",\"size\":10,\"solidity\":0.2}},\"type\":\"bar\"}],\"scattergeo\":[{\"type\":\"scattergeo\",\"marker\":{\"colorbar\":{\"outlinewidth\":0,\"ticks\":\"\"}}}],\"scatterpolar\":[{\"type\":\"scatterpolar\",\"marker\":{\"colorbar\":{\"outlinewidth\":0,\"ticks\":\"\"}}}],\"histogram\":[{\"marker\":{\"pattern\":{\"fillmode\":\"overlay\",\"size\":10,\"solidity\":0.2}},\"type\":\"histogram\"}],\"scattergl\":[{\"type\":\"scattergl\",\"marker\":{\"colorbar\":{\"outlinewidth\":0,\"ticks\":\"\"}}}],\"scatter3d\":[{\"type\":\"scatter3d\",\"line\":{\"colorbar\":{\"outlinewidth\":0,\"ticks\":\"\"}},\"marker\":{\"colorbar\":{\"outlinewidth\":0,\"ticks\":\"\"}}}],\"scattermapbox\":[{\"type\":\"scattermapbox\",\"marker\":{\"colorbar\":{\"outlinewidth\":0,\"ticks\":\"\"}}}],\"scatterternary\":[{\"type\":\"scatterternary\",\"marker\":{\"colorbar\":{\"outlinewidth\":0,\"ticks\":\"\"}}}],\"scattercarpet\":[{\"type\":\"scattercarpet\",\"marker\":{\"colorbar\":{\"outlinewidth\":0,\"ticks\":\"\"}}}],\"carpet\":[{\"aaxis\":{\"endlinecolor\":\"#2a3f5f\",\"gridcolor\":\"white\",\"linecolor\":\"white\",\"minorgridcolor\":\"white\",\"startlinecolor\":\"#2a3f5f\"},\"baxis\":{\"endlinecolor\":\"#2a3f5f\",\"gridcolor\":\"white\",\"linecolor\":\"white\",\"minorgridcolor\":\"white\",\"startlinecolor\":\"#2a3f5f\"},\"type\":\"carpet\"}],\"table\":[{\"cells\":{\"fill\":{\"color\":\"#EBF0F8\"},\"line\":{\"color\":\"white\"}},\"header\":{\"fill\":{\"color\":\"#C8D4E3\"},\"line\":{\"color\":\"white\"}},\"type\":\"table\"}],\"barpolar\":[{\"marker\":{\"line\":{\"color\":\"#E5ECF6\",\"width\":0.5},\"pattern\":{\"fillmode\":\"overlay\",\"size\":10,\"solidity\":0.2}},\"type\":\"barpolar\"}],\"pie\":[{\"automargin\":true,\"type\":\"pie\"}]},\"layout\":{\"autotypenumbers\":\"strict\",\"colorway\":[\"#636efa\",\"#EF553B\",\"#00cc96\",\"#ab63fa\",\"#FFA15A\",\"#19d3f3\",\"#FF6692\",\"#B6E880\",\"#FF97FF\",\"#FECB52\"],\"font\":{\"color\":\"#2a3f5f\"},\"hovermode\":\"closest\",\"hoverlabel\":{\"align\":\"left\"},\"paper_bgcolor\":\"white\",\"plot_bgcolor\":\"#E5ECF6\",\"polar\":{\"bgcolor\":\"#E5ECF6\",\"angularaxis\":{\"gridcolor\":\"white\",\"linecolor\":\"white\",\"ticks\":\"\"},\"radialaxis\":{\"gridcolor\":\"white\",\"linecolor\":\"white\",\"ticks\":\"\"}},\"ternary\":{\"bgcolor\":\"#E5ECF6\",\"aaxis\":{\"gridcolor\":\"white\",\"linecolor\":\"white\",\"ticks\":\"\"},\"baxis\":{\"gridcolor\":\"white\",\"linecolor\":\"white\",\"ticks\":\"\"},\"caxis\":{\"gridcolor\":\"white\",\"linecolor\":\"white\",\"ticks\":\"\"}},\"coloraxis\":{\"colorbar\":{\"outlinewidth\":0,\"ticks\":\"\"}},\"colorscale\":{\"sequential\":[[0.0,\"#0d0887\"],[0.1111111111111111,\"#46039f\"],[0.2222222222222222,\"#7201a8\"],[0.3333333333333333,\"#9c179e\"],[0.4444444444444444,\"#bd3786\"],[0.5555555555555556,\"#d8576b\"],[0.6666666666666666,\"#ed7953\"],[0.7777777777777778,\"#fb9f3a\"],[0.8888888888888888,\"#fdca26\"],[1.0,\"#f0f921\"]],\"sequentialminus\":[[0.0,\"#0d0887\"],[0.1111111111111111,\"#46039f\"],[0.2222222222222222,\"#7201a8\"],[0.3333333333333333,\"#9c179e\"],[0.4444444444444444,\"#bd3786\"],[0.5555555555555556,\"#d8576b\"],[0.6666666666666666,\"#ed7953\"],[0.7777777777777778,\"#fb9f3a\"],[0.8888888888888888,\"#fdca26\"],[1.0,\"#f0f921\"]],\"diverging\":[[0,\"#8e0152\"],[0.1,\"#c51b7d\"],[0.2,\"#de77ae\"],[0.3,\"#f1b6da\"],[0.4,\"#fde0ef\"],[0.5,\"#f7f7f7\"],[0.6,\"#e6f5d0\"],[0.7,\"#b8e186\"],[0.8,\"#7fbc41\"],[0.9,\"#4d9221\"],[1,\"#276419\"]]},\"xaxis\":{\"gridcolor\":\"white\",\"linecolor\":\"white\",\"ticks\":\"\",\"title\":{\"standoff\":15},\"zerolinecolor\":\"white\",\"automargin\":true,\"zerolinewidth\":2},\"yaxis\":{\"gridcolor\":\"white\",\"linecolor\":\"white\",\"ticks\":\"\",\"title\":{\"standoff\":15},\"zerolinecolor\":\"white\",\"automargin\":true,\"zerolinewidth\":2},\"scene\":{\"xaxis\":{\"backgroundcolor\":\"#E5ECF6\",\"gridcolor\":\"white\",\"linecolor\":\"white\",\"showbackground\":true,\"ticks\":\"\",\"zerolinecolor\":\"white\",\"gridwidth\":2},\"yaxis\":{\"backgroundcolor\":\"#E5ECF6\",\"gridcolor\":\"white\",\"linecolor\":\"white\",\"showbackground\":true,\"ticks\":\"\",\"zerolinecolor\":\"white\",\"gridwidth\":2},\"zaxis\":{\"backgroundcolor\":\"#E5ECF6\",\"gridcolor\":\"white\",\"linecolor\":\"white\",\"showbackground\":true,\"ticks\":\"\",\"zerolinecolor\":\"white\",\"gridwidth\":2}},\"shapedefaults\":{\"line\":{\"color\":\"#2a3f5f\"}},\"annotationdefaults\":{\"arrowcolor\":\"#2a3f5f\",\"arrowhead\":0,\"arrowwidth\":1},\"geo\":{\"bgcolor\":\"white\",\"landcolor\":\"#E5ECF6\",\"subunitcolor\":\"white\",\"showland\":true,\"showlakes\":true,\"lakecolor\":\"white\"},\"title\":{\"x\":0.05},\"mapbox\":{\"style\":\"light\"}}},\"polar\":{\"domain\":{\"x\":[0.0,1.0],\"y\":[0.0,1.0]},\"angularaxis\":{\"direction\":\"clockwise\",\"rotation\":90}},\"legend\":{\"tracegroupgap\":0},\"margin\":{\"t\":60}},                        {\"responsive\": true}                    ).then(function(){\n",
       "                            \n",
       "var gd = document.getElementById('dd6152d1-dd6b-492f-b535-4f382df9da27');\n",
       "var x = new MutationObserver(function (mutations, observer) {{\n",
       "        var display = window.getComputedStyle(gd).display;\n",
       "        if (!display || display === 'none') {{\n",
       "            console.log([gd, 'removed!']);\n",
       "            Plotly.purge(gd);\n",
       "            observer.disconnect();\n",
       "        }}\n",
       "}});\n",
       "\n",
       "// Listen for the removal of the full notebook cells\n",
       "var notebookContainer = gd.closest('#notebook-container');\n",
       "if (notebookContainer) {{\n",
       "    x.observe(notebookContainer, {childList: true});\n",
       "}}\n",
       "\n",
       "// Listen for the clearing of the current output cell\n",
       "var outputEl = gd.closest('.output');\n",
       "if (outputEl) {{\n",
       "    x.observe(outputEl, {childList: true});\n",
       "}}\n",
       "\n",
       "                        })                };                            </script>        </div>\n",
       "</body>\n",
       "</html>"
      ]
     },
     "metadata": {},
     "output_type": "display_data"
    }
   ],
   "source": [
    "#Radar chart to showcase the median hospitalization cost for each tier of hospitals\n",
    "r1 = merged_data[merged_data['hospital_tier'] == 0].charges.median()\n",
    "r2 = merged_data[merged_data['hospital_tier'] == 1].charges.median()\n",
    "r3 = merged_data[merged_data['hospital_tier'] == 2].charges.median()\n",
    "radar_df = pd.DataFrame(dict(r=[r1, r2, r3], theta=['Tier 0 hospital', 'Tier 1 hospital', 'Tier 2 hospital']))\n",
    "fig = px.line_polar(radar_df, r= 'r', theta = 'theta', line_close=True) \n",
    "fig.show()"
   ]
  },
  {
   "cell_type": "code",
   "execution_count": 62,
   "id": "1ec83a28",
   "metadata": {
    "execution": {
     "iopub.execute_input": "2025-03-07T19:09:03.846812Z",
     "iopub.status.busy": "2025-03-07T19:09:03.846419Z",
     "iopub.status.idle": "2025-03-07T19:09:03.873821Z",
     "shell.execute_reply": "2025-03-07T19:09:03.872772Z"
    },
    "papermill": {
     "duration": 0.059424,
     "end_time": "2025-03-07T19:09:03.875474",
     "exception": false,
     "start_time": "2025-03-07T19:09:03.816050",
     "status": "completed"
    },
    "tags": []
   },
   "outputs": [
    {
     "data": {
      "text/html": [
       "<div>\n",
       "<style scoped>\n",
       "    .dataframe tbody tr th:only-of-type {\n",
       "        vertical-align: middle;\n",
       "    }\n",
       "\n",
       "    .dataframe tbody tr th {\n",
       "        vertical-align: top;\n",
       "    }\n",
       "\n",
       "    .dataframe thead th {\n",
       "        text-align: right;\n",
       "    }\n",
       "</style>\n",
       "<table border=\"1\" class=\"dataframe\">\n",
       "  <thead>\n",
       "    <tr style=\"text-align: right;\">\n",
       "      <th>hospital_tier</th>\n",
       "      <th>0</th>\n",
       "      <th>1</th>\n",
       "      <th>2</th>\n",
       "    </tr>\n",
       "    <tr>\n",
       "      <th>city_tier</th>\n",
       "      <th></th>\n",
       "      <th></th>\n",
       "      <th></th>\n",
       "    </tr>\n",
       "  </thead>\n",
       "  <tbody>\n",
       "    <tr>\n",
       "      <th>0</th>\n",
       "      <td>85</td>\n",
       "      <td>403</td>\n",
       "      <td>241</td>\n",
       "    </tr>\n",
       "    <tr>\n",
       "      <th>1</th>\n",
       "      <td>106</td>\n",
       "      <td>479</td>\n",
       "      <td>222</td>\n",
       "    </tr>\n",
       "    <tr>\n",
       "      <th>2</th>\n",
       "      <td>109</td>\n",
       "      <td>452</td>\n",
       "      <td>228</td>\n",
       "    </tr>\n",
       "  </tbody>\n",
       "</table>\n",
       "</div>"
      ],
      "text/plain": [
       "hospital_tier    0    1    2\n",
       "city_tier                   \n",
       "0               85  403  241\n",
       "1              106  479  222\n",
       "2              109  452  228"
      ]
     },
     "execution_count": 62,
     "metadata": {},
     "output_type": "execute_result"
    }
   ],
   "source": [
    "#Frequency table and a stacked bar chart to visualize the count of people in the different tiers of cities and hospitals\n",
    "#Frequency Table\n",
    "pd.crosstab(merged_data.city_tier, merged_data.hospital_tier)"
   ]
  },
  {
   "cell_type": "code",
   "execution_count": 63,
   "id": "68d42d17",
   "metadata": {
    "execution": {
     "iopub.execute_input": "2025-03-07T19:09:03.940752Z",
     "iopub.status.busy": "2025-03-07T19:09:03.940364Z",
     "iopub.status.idle": "2025-03-07T19:09:03.950178Z",
     "shell.execute_reply": "2025-03-07T19:09:03.949262Z"
    },
    "papermill": {
     "duration": 0.046508,
     "end_time": "2025-03-07T19:09:03.951945",
     "exception": false,
     "start_time": "2025-03-07T19:09:03.905437",
     "status": "completed"
    },
    "tags": []
   },
   "outputs": [],
   "source": [
    "#No. of patients in each tier by city\n",
    "for c in merged_data.city_tier.unique():\n",
    "    city_data= len(merged_data[merged_data.city_tier == c])\n",
    "\n",
    "#No. of patients in each tier by hospital\n",
    "for c in merged_data.hospital_tier.unique():\n",
    "    hospital_data= len(merged_data[merged_data.hospital_tier == c])"
   ]
  },
  {
   "cell_type": "code",
   "execution_count": 64,
   "id": "7a2abf33",
   "metadata": {
    "execution": {
     "iopub.execute_input": "2025-03-07T19:09:04.013211Z",
     "iopub.status.busy": "2025-03-07T19:09:04.012871Z",
     "iopub.status.idle": "2025-03-07T19:09:10.964810Z",
     "shell.execute_reply": "2025-03-07T19:09:10.963727Z"
    },
    "papermill": {
     "duration": 6.984644,
     "end_time": "2025-03-07T19:09:10.966422",
     "exception": false,
     "start_time": "2025-03-07T19:09:03.981778",
     "status": "completed"
    },
    "tags": []
   },
   "outputs": [
    {
     "data": {
      "image/png": "[encoded data removed]",
      "text/plain": [
       "<Figure size 1000x700 with 1 Axes>"
      ]
     },
     "metadata": {},
     "output_type": "display_data"
    }
   ],
   "source": [
    "#No. of patients in each tier by city and by hospital\n",
    "label = merged_data.hospital_tier\n",
    "fig = plt.figure(figsize = (10, 7))\n",
    "city_tier = np.array(city_data)\n",
    "hospital_tier = np.array(hospital_data)\n",
    "plt.xticks(np.arange(3), ('Tier-1', 'Tier-2', 'Tier-3'))\n",
    "plt.bar(label, city_tier, color='g', width=0.3)\n",
    "plt.bar(label, hospital_tier, bottom=city_tier, color='y', width=0.3)\n",
    "plt.xlabel(\"Tiers\")\n",
    "plt.ylabel(\"No. of patients\")\n",
    "plt.title(\"No. of patients in each city and hospital tiers\")\n",
    "plt.show()"
   ]
  },
  {
   "cell_type": "code",
   "execution_count": 65,
   "id": "f9817a35",
   "metadata": {
    "execution": {
     "iopub.execute_input": "2025-03-07T19:09:11.029934Z",
     "iopub.status.busy": "2025-03-07T19:09:11.029562Z",
     "iopub.status.idle": "2025-03-07T19:09:11.037090Z",
     "shell.execute_reply": "2025-03-07T19:09:11.036014Z"
    },
    "papermill": {
     "duration": 0.041817,
     "end_time": "2025-03-07T19:09:11.038729",
     "exception": false,
     "start_time": "2025-03-07T19:09:10.996912",
     "status": "completed"
    },
    "tags": []
   },
   "outputs": [
    {
     "name": "stdout",
     "output_type": "stream",
     "text": [
      "stat=3019.832, p=0.000\n",
      "Hospitalization costs vary based on the tier of the hospital\n"
     ]
    }
   ],
   "source": [
    "#Null Hypothesis testing\n",
    "#The average hospitalization costs for the three types of hospitals are not␣ ↪significantly different.\n",
    "#ANNOVA - pick charges, hospital tier\n",
    "#H0 - Cost is not different\n",
    "#HA - Cost is different for each tier\n",
    "#Check p value for testing the hypothesis\n",
    "anova_data = [merged_data['charges'], merged_data['hospital_tier']] \n",
    "stat, p = f_oneway(*anova_data)\n",
    "print(\"stat=%.3f, p=%.3f\" % (stat, p)) \n",
    "if p > 0.05:\n",
    "    print('Hospitalization costs are independent on the tier of the hospital') \n",
    "else:\n",
    "    print('Hospitalization costs vary based on the tier of the hospital')\n",
    "\n",
    "#Since p<0.05, we can REJECT the null hypothesis that the average hospitalization costs for the three types of hospitals are not significantly different."
   ]
  },
  {
   "cell_type": "code",
   "execution_count": 66,
   "id": "97380a3e",
   "metadata": {
    "execution": {
     "iopub.execute_input": "2025-03-07T19:09:11.102588Z",
     "iopub.status.busy": "2025-03-07T19:09:11.102214Z",
     "iopub.status.idle": "2025-03-07T19:09:11.110219Z",
     "shell.execute_reply": "2025-03-07T19:09:11.109202Z"
    },
    "papermill": {
     "duration": 0.040586,
     "end_time": "2025-03-07T19:09:11.111555",
     "exception": false,
     "start_time": "2025-03-07T19:09:11.070969",
     "status": "completed"
    },
    "tags": []
   },
   "outputs": [
    {
     "name": "stdout",
     "output_type": "stream",
     "text": [
      "stat=3019.896, p=0.000\n",
      "Hospitalization costs vary based on the tier of the city\n"
     ]
    }
   ],
   "source": [
    "#The average hospitalization costs for the three types of cities are not significantly different.\n",
    "#ANNOVA - pick charges, city tier\n",
    "#H0 - Cost is not different\n",
    "#HA - Cost is different for each tier\n",
    "#Check p value for testing the hypothesis\n",
    "anova_data = [merged_data['charges'], merged_data['city_tier']] \n",
    "stat, p = f_oneway(*anova_data)\n",
    "print(\"stat=%.3f, p=%.3f\" % (stat, p)) \n",
    "if p > 0.05:\n",
    "    print('Hospitalization costs are independent on the tier of the city') \n",
    "else:\n",
    "    print('Hospitalization costs vary based on the tier of the city') \n",
    "    #Since p<0.05, we can REJECT the null hypothesis that the average hospitalization costs for the three types of cities are not significantly different."
   ]
  },
  {
   "cell_type": "code",
   "execution_count": 67,
   "id": "1ef97823",
   "metadata": {
    "execution": {
     "iopub.execute_input": "2025-03-07T19:09:11.173606Z",
     "iopub.status.busy": "2025-03-07T19:09:11.173236Z",
     "iopub.status.idle": "2025-03-07T19:09:11.184029Z",
     "shell.execute_reply": "2025-03-07T19:09:11.182777Z"
    },
    "papermill": {
     "duration": 0.043801,
     "end_time": "2025-03-07T19:09:11.185516",
     "exception": false,
     "start_time": "2025-03-07T19:09:11.141715",
     "status": "completed"
    },
    "tags": []
   },
   "outputs": [
    {
     "name": "stdout",
     "output_type": "stream",
     "text": [
      "stat=1.000, p=0.317\n",
      "Hospitalization costs are independent of the smoking status\n"
     ]
    }
   ],
   "source": [
    "non_smoker_data = merged_data[merged_data['smoker'] == 0].charges.median()\n",
    "smoker_data = merged_data[merged_data['smoker'] == 1].charges.median()\n",
    "smoker_data, non_smoker_data\n",
    "stat, p = kruskal(smoker_data, non_smoker_data)\n",
    "print(\"stat=%.3f, p=%.3f\" % (stat, p)) \n",
    "if p > 0.05:\n",
    "    print('Hospitalization costs are independent of the smoking status') \n",
    "else:\n",
    "    print('Hospitalization costs vary based on the smoking status')"
   ]
  },
  {
   "cell_type": "code",
   "execution_count": 68,
   "id": "aa34812a",
   "metadata": {
    "execution": {
     "iopub.execute_input": "2025-03-07T19:09:11.248004Z",
     "iopub.status.busy": "2025-03-07T19:09:11.247572Z",
     "iopub.status.idle": "2025-03-07T19:09:11.255880Z",
     "shell.execute_reply": "2025-03-07T19:09:11.254886Z"
    },
    "papermill": {
     "duration": 0.040973,
     "end_time": "2025-03-07T19:09:11.257282",
     "exception": false,
     "start_time": "2025-03-07T19:09:11.216309",
     "status": "completed"
    },
    "tags": []
   },
   "outputs": [
    {
     "name": "stdout",
     "output_type": "stream",
     "text": [
      "stat=191.145, p=0.000\n",
      "Smoking and heart issues are dependent\n"
     ]
    }
   ],
   "source": [
    "#Smoking and heart issues are independent.\n",
    "#Perform Chi-squared test\n",
    "#H0 - Smoking and heart issues are independent\n",
    "#HA - Smoking and heart issues are dependent\n",
    "chi_sq_data = [[merged_data['smoker'].value_counts(), merged_data['heart_issues'].value_counts()]]\n",
    "stat, p, dof, expected = chi2_contingency(chi_sq_data) \n",
    "alpha = 0.05\n",
    "print(\"stat=%.3f, p=%.3f\" % (stat, p))\n",
    "if p > 0.05:\n",
    "    print('Smoking and heart issues are independent') \n",
    "else:\n",
    "    print('Smoking and heart issues are dependent')\n",
    "#Since p>0.05, we ACCEPT the null hypothesis that Smoking and heart issues are independent"
   ]
  },
  {
   "cell_type": "code",
   "execution_count": 69,
   "id": "f476df5a",
   "metadata": {
    "execution": {
     "iopub.execute_input": "2025-03-07T19:09:11.319556Z",
     "iopub.status.busy": "2025-03-07T19:09:11.319189Z",
     "iopub.status.idle": "2025-03-07T19:09:11.324425Z",
     "shell.execute_reply": "2025-03-07T19:09:11.323370Z"
    },
    "papermill": {
     "duration": 0.038298,
     "end_time": "2025-03-07T19:09:11.326148",
     "exception": false,
     "start_time": "2025-03-07T19:09:11.287850",
     "status": "completed"
    },
    "tags": []
   },
   "outputs": [],
   "source": [
    "#Encoding the Gender column\n",
    "merged_data['Gender'] = label_encoder.fit_transform(merged_data['Gender'])"
   ]
  },
  {
   "cell_type": "code",
   "execution_count": 70,
   "id": "030ae4f7",
   "metadata": {
    "execution": {
     "iopub.execute_input": "2025-03-07T19:09:11.388461Z",
     "iopub.status.busy": "2025-03-07T19:09:11.388101Z",
     "iopub.status.idle": "2025-03-07T19:09:11.404762Z",
     "shell.execute_reply": "2025-03-07T19:09:11.403734Z"
    },
    "papermill": {
     "duration": 0.049616,
     "end_time": "2025-03-07T19:09:11.406305",
     "exception": false,
     "start_time": "2025-03-07T19:09:11.356689",
     "status": "completed"
    },
    "tags": []
   },
   "outputs": [
    {
     "data": {
      "text/html": [
       "<div>\n",
       "<style scoped>\n",
       "    .dataframe tbody tr th:only-of-type {\n",
       "        vertical-align: middle;\n",
       "    }\n",
       "\n",
       "    .dataframe tbody tr th {\n",
       "        vertical-align: top;\n",
       "    }\n",
       "\n",
       "    .dataframe thead th {\n",
       "        text-align: right;\n",
       "    }\n",
       "</style>\n",
       "<table border=\"1\" class=\"dataframe\">\n",
       "  <thead>\n",
       "    <tr style=\"text-align: right;\">\n",
       "      <th></th>\n",
       "      <th>children</th>\n",
       "      <th>charges</th>\n",
       "      <th>hospital_tier</th>\n",
       "      <th>city_tier</th>\n",
       "      <th>bmi</th>\n",
       "      <th>hba1c</th>\n",
       "      <th>heart_issues</th>\n",
       "      <th>any_transplants</th>\n",
       "      <th>cancer_history</th>\n",
       "      <th>numberofmajorsurgeries</th>\n",
       "      <th>smoker</th>\n",
       "      <th>state_id_R1011</th>\n",
       "      <th>state_id_R1012</th>\n",
       "      <th>state_id_R1013</th>\n",
       "      <th>Age</th>\n",
       "      <th>Gender</th>\n",
       "    </tr>\n",
       "  </thead>\n",
       "  <tbody>\n",
       "    <tr>\n",
       "      <th>0</th>\n",
       "      <td>0</td>\n",
       "      <td>563.84</td>\n",
       "      <td>1</td>\n",
       "      <td>2</td>\n",
       "      <td>17.58</td>\n",
       "      <td>4.51</td>\n",
       "      <td>0</td>\n",
       "      <td>0</td>\n",
       "      <td>0</td>\n",
       "      <td>1</td>\n",
       "      <td>0</td>\n",
       "      <td>0</td>\n",
       "      <td>0</td>\n",
       "      <td>1</td>\n",
       "      <td>33</td>\n",
       "      <td>1</td>\n",
       "    </tr>\n",
       "    <tr>\n",
       "      <th>1</th>\n",
       "      <td>0</td>\n",
       "      <td>570.62</td>\n",
       "      <td>1</td>\n",
       "      <td>0</td>\n",
       "      <td>17.60</td>\n",
       "      <td>4.39</td>\n",
       "      <td>0</td>\n",
       "      <td>0</td>\n",
       "      <td>0</td>\n",
       "      <td>1</td>\n",
       "      <td>0</td>\n",
       "      <td>0</td>\n",
       "      <td>0</td>\n",
       "      <td>1</td>\n",
       "      <td>33</td>\n",
       "      <td>1</td>\n",
       "    </tr>\n",
       "    <tr>\n",
       "      <th>2</th>\n",
       "      <td>0</td>\n",
       "      <td>600.00</td>\n",
       "      <td>1</td>\n",
       "      <td>0</td>\n",
       "      <td>16.47</td>\n",
       "      <td>6.35</td>\n",
       "      <td>0</td>\n",
       "      <td>0</td>\n",
       "      <td>1</td>\n",
       "      <td>1</td>\n",
       "      <td>0</td>\n",
       "      <td>0</td>\n",
       "      <td>0</td>\n",
       "      <td>1</td>\n",
       "      <td>32</td>\n",
       "      <td>0</td>\n",
       "    </tr>\n",
       "    <tr>\n",
       "      <th>3</th>\n",
       "      <td>0</td>\n",
       "      <td>604.54</td>\n",
       "      <td>2</td>\n",
       "      <td>2</td>\n",
       "      <td>17.70</td>\n",
       "      <td>6.28</td>\n",
       "      <td>0</td>\n",
       "      <td>0</td>\n",
       "      <td>0</td>\n",
       "      <td>1</td>\n",
       "      <td>0</td>\n",
       "      <td>0</td>\n",
       "      <td>0</td>\n",
       "      <td>1</td>\n",
       "      <td>33</td>\n",
       "      <td>1</td>\n",
       "    </tr>\n",
       "    <tr>\n",
       "      <th>4</th>\n",
       "      <td>0</td>\n",
       "      <td>637.26</td>\n",
       "      <td>2</td>\n",
       "      <td>2</td>\n",
       "      <td>22.34</td>\n",
       "      <td>5.57</td>\n",
       "      <td>0</td>\n",
       "      <td>0</td>\n",
       "      <td>0</td>\n",
       "      <td>1</td>\n",
       "      <td>0</td>\n",
       "      <td>0</td>\n",
       "      <td>0</td>\n",
       "      <td>1</td>\n",
       "      <td>27</td>\n",
       "      <td>1</td>\n",
       "    </tr>\n",
       "  </tbody>\n",
       "</table>\n",
       "</div>"
      ],
      "text/plain": [
       "   children  charges  hospital_tier  city_tier    bmi  hba1c  heart_issues  \\\n",
       "0         0   563.84              1          2  17.58   4.51             0   \n",
       "1         0   570.62              1          0  17.60   4.39             0   \n",
       "2         0   600.00              1          0  16.47   6.35             0   \n",
       "3         0   604.54              2          2  17.70   6.28             0   \n",
       "4         0   637.26              2          2  22.34   5.57             0   \n",
       "\n",
       "   any_transplants  cancer_history  numberofmajorsurgeries  smoker  \\\n",
       "0                0               0                       1       0   \n",
       "1                0               0                       1       0   \n",
       "2                0               1                       1       0   \n",
       "3                0               0                       1       0   \n",
       "4                0               0                       1       0   \n",
       "\n",
       "   state_id_R1011  state_id_R1012  state_id_R1013  Age  Gender  \n",
       "0               0               0               1   33       1  \n",
       "1               0               0               1   33       1  \n",
       "2               0               0               1   32       0  \n",
       "3               0               0               1   33       1  \n",
       "4               0               0               1   27       1  "
      ]
     },
     "execution_count": 70,
     "metadata": {},
     "output_type": "execute_result"
    }
   ],
   "source": [
    "#Examine the correlation between predictors to identify highly correlated␣ ↪predictors\n",
    "corr_data = merged_data.copy()\n",
    "corr_data.drop(['year', 'date', 'month', 'name', 'customer_id'], axis=1, inplace=True) \n",
    "corr_data.head()"
   ]
  },
  {
   "cell_type": "code",
   "execution_count": 71,
   "id": "460ed775",
   "metadata": {
    "execution": {
     "iopub.execute_input": "2025-03-07T19:09:11.469275Z",
     "iopub.status.busy": "2025-03-07T19:09:11.468923Z",
     "iopub.status.idle": "2025-03-07T19:09:13.069107Z",
     "shell.execute_reply": "2025-03-07T19:09:13.068123Z"
    },
    "papermill": {
     "duration": 1.638382,
     "end_time": "2025-03-07T19:09:13.075734",
     "exception": false,
     "start_time": "2025-03-07T19:09:11.437352",
     "status": "completed"
    },
    "tags": []
   },
   "outputs": [
    {
     "data": {
      "image/png": "[encoded data removed]",
      "text/plain": [
       "<Figure size 3000x2000 with 2 Axes>"
      ]
     },
     "metadata": {},
     "output_type": "display_data"
    }
   ],
   "source": [
    "fig = plt.figure(figsize = (30, 20))\n",
    "sns.heatmap(corr_data.corr(), cmap='YlGnBu', linewidths=2, linecolor='white', annot=True, cbar=True)\n",
    "plt.show()\n",
    "#Age and any transplants, hba1c are highly correlated\n",
    "# Heart issues and number of majoir surgeries are correlated\n",
    "#Since Gender and smoker data has very correlation with any of the other factors, we can remove them\n",
    "#corr_data.drop(['Gender_F', 'Gender_M', 'smoker_yes', 'smoker_No'], axis=1, ␣ ↪inplace=True)\n",
    "#corr_data.drop(['bmi'], axis=1,  inplace=True)"
   ]
  },
  {
   "cell_type": "code",
   "execution_count": 72,
   "id": "fbbbb105",
   "metadata": {
    "execution": {
     "iopub.execute_input": "2025-03-07T19:09:13.157137Z",
     "iopub.status.busy": "2025-03-07T19:09:13.156793Z",
     "iopub.status.idle": "2025-03-07T19:09:13.167561Z",
     "shell.execute_reply": "2025-03-07T19:09:13.166683Z"
    },
    "papermill": {
     "duration": 0.052715,
     "end_time": "2025-03-07T19:09:13.169159",
     "exception": false,
     "start_time": "2025-03-07T19:09:13.116444",
     "status": "completed"
    },
    "tags": []
   },
   "outputs": [
    {
     "data": {
      "text/plain": [
       "((1860, 15), (465, 15))"
      ]
     },
     "execution_count": 72,
     "metadata": {},
     "output_type": "execute_result"
    }
   ],
   "source": [
    "#ML model creation\n",
    "ml_data = merged_data.copy()\n",
    "ml_data.drop(['name', 'customer_id', 'year', 'date', 'month'], axis=1, inplace=True)\n",
    "X = ml_data.drop('charges', axis=1) \n",
    "y = ml_data['charges']\n",
    "\n",
    "#Train test split for model building\n",
    "X_train, X_test, y_train, y_test = train_test_split(X, y, test_size = 0.20, random_state = 42)\n",
    "X_train.shape, X_test.shape"
   ]
  },
  {
   "cell_type": "code",
   "execution_count": 73,
   "id": "d97498a1",
   "metadata": {
    "execution": {
     "iopub.execute_input": "2025-03-07T19:09:13.248127Z",
     "iopub.status.busy": "2025-03-07T19:09:13.247779Z",
     "iopub.status.idle": "2025-03-07T19:09:13.252931Z",
     "shell.execute_reply": "2025-03-07T19:09:13.252019Z"
    },
    "papermill": {
     "duration": 0.045945,
     "end_time": "2025-03-07T19:09:13.254358",
     "exception": false,
     "start_time": "2025-03-07T19:09:13.208413",
     "status": "completed"
    },
    "tags": []
   },
   "outputs": [],
   "source": [
    "#Incorporate sklearn-pipelines to streamline the workflow\n",
    "n_splits = 5\n",
    "pipeline = Pipeline(steps=[('scaler', StandardScaler()), ('regressor', Ridge())])\n",
    "\n",
    "#parameter for hyperparameter tuning\n",
    "parameters = {'regressor__alpha':[0.001, 0.01,0.1,1,10,100]} \n",
    "\n",
    "#kfold\n",
    "kfold = KFold(n_splits = n_splits, shuffle=True, random_state=42) \n",
    "\n",
    "#Grid search\n",
    "model_ridge = GridSearchCV(pipeline, parameters, cv=kfold, scoring=\"neg_mean_absolute_error\", verbose=True, refit=True, return_train_score=True)"
   ]
  },
  {
   "cell_type": "code",
   "execution_count": 74,
   "id": "603188ce",
   "metadata": {
    "execution": {
     "iopub.execute_input": "2025-03-07T19:09:13.332010Z",
     "iopub.status.busy": "2025-03-07T19:09:13.331620Z",
     "iopub.status.idle": "2025-03-07T19:09:13.677723Z",
     "shell.execute_reply": "2025-03-07T19:09:13.676696Z"
    },
    "papermill": {
     "duration": 0.386928,
     "end_time": "2025-03-07T19:09:13.679355",
     "exception": false,
     "start_time": "2025-03-07T19:09:13.292427",
     "status": "completed"
    },
    "tags": []
   },
   "outputs": [
    {
     "name": "stdout",
     "output_type": "stream",
     "text": [
      "Fitting 5 folds for each of 6 candidates, totalling 30 fits\n"
     ]
    },
    {
     "data": {
      "text/html": [
       "<style>#sk-container-id-1 {color: black;background-color: white;}#sk-container-id-1 pre{padding: 0;}#sk-container-id-1 div.sk-toggleable {background-color: white;}#sk-container-id-1 label.sk-toggleable__label {cursor: pointer;display: block;width: 100%;margin-bottom: 0;padding: 0.3em;box-sizing: border-box;text-align: center;}#sk-container-id-1 label.sk-toggleable__label-arrow:before {content: \"▸\";float: left;margin-right: 0.25em;color: #696969;}#sk-container-id-1 label.sk-toggleable__label-arrow:hover:before {color: black;}#sk-container-id-1 div.sk-estimator:hover label.sk-toggleable__label-arrow:before {color: black;}#sk-container-id-1 div.sk-toggleable__content {max-height: 0;max-width: 0;overflow: hidden;text-align: left;background-color: #f0f8ff;}#sk-container-id-1 div.sk-toggleable__content pre {margin: 0.2em;color: black;border-radius: 0.25em;background-color: #f0f8ff;}#sk-container-id-1 input.sk-toggleable__control:checked~div.sk-toggleable__content {max-height: 200px;max-width: 100%;overflow: auto;}#sk-container-id-1 input.sk-toggleable__control:checked~label.sk-toggleable__label-arrow:before {content: \"▾\";}#sk-container-id-1 div.sk-estimator input.sk-toggleable__control:checked~label.sk-toggleable__label {background-color: #d4ebff;}#sk-container-id-1 div.sk-label input.sk-toggleable__control:checked~label.sk-toggleable__label {background-color: #d4ebff;}#sk-container-id-1 input.sk-hidden--visually {border: 0;clip: rect(1px 1px 1px 1px);clip: rect(1px, 1px, 1px, 1px);height: 1px;margin: -1px;overflow: hidden;padding: 0;position: absolute;width: 1px;}#sk-container-id-1 div.sk-estimator {font-family: monospace;background-color: #f0f8ff;border: 1px dotted black;border-radius: 0.25em;box-sizing: border-box;margin-bottom: 0.5em;}#sk-container-id-1 div.sk-estimator:hover {background-color: #d4ebff;}#sk-container-id-1 div.sk-parallel-item::after {content: \"\";width: 100%;border-bottom: 1px solid gray;flex-grow: 1;}#sk-container-id-1 div.sk-label:hover label.sk-toggleable__label {background-color: #d4ebff;}#sk-container-id-1 div.sk-serial::before {content: \"\";position: absolute;border-left: 1px solid gray;box-sizing: border-box;top: 0;bottom: 0;left: 50%;z-index: 0;}#sk-container-id-1 div.sk-serial {display: flex;flex-direction: column;align-items: center;background-color: white;padding-right: 0.2em;padding-left: 0.2em;position: relative;}#sk-container-id-1 div.sk-item {position: relative;z-index: 1;}#sk-container-id-1 div.sk-parallel {display: flex;align-items: stretch;justify-content: center;background-color: white;position: relative;}#sk-container-id-1 div.sk-item::before, #sk-container-id-1 div.sk-parallel-item::before {content: \"\";position: absolute;border-left: 1px solid gray;box-sizing: border-box;top: 0;bottom: 0;left: 50%;z-index: -1;}#sk-container-id-1 div.sk-parallel-item {display: flex;flex-direction: column;z-index: 1;position: relative;background-color: white;}#sk-container-id-1 div.sk-parallel-item:first-child::after {align-self: flex-end;width: 50%;}#sk-container-id-1 div.sk-parallel-item:last-child::after {align-self: flex-start;width: 50%;}#sk-container-id-1 div.sk-parallel-item:only-child::after {width: 0;}#sk-container-id-1 div.sk-dashed-wrapped {border: 1px dashed gray;margin: 0 0.4em 0.5em 0.4em;box-sizing: border-box;padding-bottom: 0.4em;background-color: white;}#sk-container-id-1 div.sk-label label {font-family: monospace;font-weight: bold;display: inline-block;line-height: 1.2em;}#sk-container-id-1 div.sk-label-container {text-align: center;}#sk-container-id-1 div.sk-container {/* jupyter's `normalize.less` sets `[hidden] { display: none; }` but bootstrap.min.css set `[hidden] { display: none !important; }` so we also need the `!important` here to be able to override the default hidden behavior on the sphinx rendered scikit-learn.org. See: https://github.com/scikit-learn/scikit-learn/issues/21755 */display: inline-block !important;position: relative;}#sk-container-id-1 div.sk-text-repr-fallback {display: none;}</style><div id=\"sk-container-id-1\" class=\"sk-top-container\"><div class=\"sk-text-repr-fallback\"><pre>GridSearchCV(cv=KFold(n_splits=5, random_state=42, shuffle=True),\n",
       "             estimator=Pipeline(steps=[(&#x27;scaler&#x27;, StandardScaler()),\n",
       "                                       (&#x27;regressor&#x27;, Ridge())]),\n",
       "             param_grid={&#x27;regressor__alpha&#x27;: [0.001, 0.01, 0.1, 1, 10, 100]},\n",
       "             return_train_score=True, scoring=&#x27;neg_mean_absolute_error&#x27;,\n",
       "             verbose=True)</pre><b>In a Jupyter environment, please rerun this cell to show the HTML representation or trust the notebook. <br />On GitHub, the HTML representation is unable to render, please try loading this page with nbviewer.org.</b></div><div class=\"sk-container\" hidden><div class=\"sk-item sk-dashed-wrapped\"><div class=\"sk-label-container\"><div class=\"sk-label sk-toggleable\"><input class=\"sk-toggleable__control sk-hidden--visually\" id=\"sk-estimator-id-1\" type=\"checkbox\" ><label for=\"sk-estimator-id-1\" class=\"sk-toggleable__label sk-toggleable__label-arrow\">GridSearchCV</label><div class=\"sk-toggleable__content\"><pre>GridSearchCV(cv=KFold(n_splits=5, random_state=42, shuffle=True),\n",
       "             estimator=Pipeline(steps=[(&#x27;scaler&#x27;, StandardScaler()),\n",
       "                                       (&#x27;regressor&#x27;, Ridge())]),\n",
       "             param_grid={&#x27;regressor__alpha&#x27;: [0.001, 0.01, 0.1, 1, 10, 100]},\n",
       "             return_train_score=True, scoring=&#x27;neg_mean_absolute_error&#x27;,\n",
       "             verbose=True)</pre></div></div></div><div class=\"sk-parallel\"><div class=\"sk-parallel-item\"><div class=\"sk-item\"><div class=\"sk-label-container\"><div class=\"sk-label sk-toggleable\"><input class=\"sk-toggleable__control sk-hidden--visually\" id=\"sk-estimator-id-2\" type=\"checkbox\" ><label for=\"sk-estimator-id-2\" class=\"sk-toggleable__label sk-toggleable__label-arrow\">estimator: Pipeline</label><div class=\"sk-toggleable__content\"><pre>Pipeline(steps=[(&#x27;scaler&#x27;, StandardScaler()), (&#x27;regressor&#x27;, Ridge())])</pre></div></div></div><div class=\"sk-serial\"><div class=\"sk-item\"><div class=\"sk-serial\"><div class=\"sk-item\"><div class=\"sk-estimator sk-toggleable\"><input class=\"sk-toggleable__control sk-hidden--visually\" id=\"sk-estimator-id-3\" type=\"checkbox\" ><label for=\"sk-estimator-id-3\" class=\"sk-toggleable__label sk-toggleable__label-arrow\">StandardScaler</label><div class=\"sk-toggleable__content\"><pre>StandardScaler()</pre></div></div></div><div class=\"sk-item\"><div class=\"sk-estimator sk-toggleable\"><input class=\"sk-toggleable__control sk-hidden--visually\" id=\"sk-estimator-id-4\" type=\"checkbox\" ><label for=\"sk-estimator-id-4\" class=\"sk-toggleable__label sk-toggleable__label-arrow\">Ridge</label><div class=\"sk-toggleable__content\"><pre>Ridge()</pre></div></div></div></div></div></div></div></div></div></div></div></div>"
      ],
      "text/plain": [
       "GridSearchCV(cv=KFold(n_splits=5, random_state=42, shuffle=True),\n",
       "             estimator=Pipeline(steps=[('scaler', StandardScaler()),\n",
       "                                       ('regressor', Ridge())]),\n",
       "             param_grid={'regressor__alpha': [0.001, 0.01, 0.1, 1, 10, 100]},\n",
       "             return_train_score=True, scoring='neg_mean_absolute_error',\n",
       "             verbose=True)"
      ]
     },
     "execution_count": 74,
     "metadata": {},
     "output_type": "execute_result"
    }
   ],
   "source": [
    "model_ridge.fit(X_train,y_train) \n"
   ]
  },
  {
   "cell_type": "code",
   "execution_count": 75,
   "id": "2b90e2d1",
   "metadata": {
    "execution": {
     "iopub.execute_input": "2025-03-07T19:09:13.757522Z",
     "iopub.status.busy": "2025-03-07T19:09:13.757185Z",
     "iopub.status.idle": "2025-03-07T19:09:13.762927Z",
     "shell.execute_reply": "2025-03-07T19:09:13.761980Z"
    },
    "papermill": {
     "duration": 0.046668,
     "end_time": "2025-03-07T19:09:13.764527",
     "exception": false,
     "start_time": "2025-03-07T19:09:13.717859",
     "status": "completed"
    },
    "tags": []
   },
   "outputs": [
    {
     "data": {
      "text/plain": [
       "{'regressor__alpha': 0.001}"
      ]
     },
     "execution_count": 75,
     "metadata": {},
     "output_type": "execute_result"
    }
   ],
   "source": [
    "model_ridge.best_params_"
   ]
  },
  {
   "cell_type": "code",
   "execution_count": 76,
   "id": "a8584360",
   "metadata": {
    "execution": {
     "iopub.execute_input": "2025-03-07T19:09:13.844220Z",
     "iopub.status.busy": "2025-03-07T19:09:13.843891Z",
     "iopub.status.idle": "2025-03-07T19:09:13.852538Z",
     "shell.execute_reply": "2025-03-07T19:09:13.851668Z"
    },
    "papermill": {
     "duration": 0.04989,
     "end_time": "2025-03-07T19:09:13.854158",
     "exception": false,
     "start_time": "2025-03-07T19:09:13.804268",
     "status": "completed"
    },
    "tags": []
   },
   "outputs": [
    {
     "data": {
      "text/html": [
       "<style>#sk-container-id-2 {color: black;background-color: white;}#sk-container-id-2 pre{padding: 0;}#sk-container-id-2 div.sk-toggleable {background-color: white;}#sk-container-id-2 label.sk-toggleable__label {cursor: pointer;display: block;width: 100%;margin-bottom: 0;padding: 0.3em;box-sizing: border-box;text-align: center;}#sk-container-id-2 label.sk-toggleable__label-arrow:before {content: \"▸\";float: left;margin-right: 0.25em;color: #696969;}#sk-container-id-2 label.sk-toggleable__label-arrow:hover:before {color: black;}#sk-container-id-2 div.sk-estimator:hover label.sk-toggleable__label-arrow:before {color: black;}#sk-container-id-2 div.sk-toggleable__content {max-height: 0;max-width: 0;overflow: hidden;text-align: left;background-color: #f0f8ff;}#sk-container-id-2 div.sk-toggleable__content pre {margin: 0.2em;color: black;border-radius: 0.25em;background-color: #f0f8ff;}#sk-container-id-2 input.sk-toggleable__control:checked~div.sk-toggleable__content {max-height: 200px;max-width: 100%;overflow: auto;}#sk-container-id-2 input.sk-toggleable__control:checked~label.sk-toggleable__label-arrow:before {content: \"▾\";}#sk-container-id-2 div.sk-estimator input.sk-toggleable__control:checked~label.sk-toggleable__label {background-color: #d4ebff;}#sk-container-id-2 div.sk-label input.sk-toggleable__control:checked~label.sk-toggleable__label {background-color: #d4ebff;}#sk-container-id-2 input.sk-hidden--visually {border: 0;clip: rect(1px 1px 1px 1px);clip: rect(1px, 1px, 1px, 1px);height: 1px;margin: -1px;overflow: hidden;padding: 0;position: absolute;width: 1px;}#sk-container-id-2 div.sk-estimator {font-family: monospace;background-color: #f0f8ff;border: 1px dotted black;border-radius: 0.25em;box-sizing: border-box;margin-bottom: 0.5em;}#sk-container-id-2 div.sk-estimator:hover {background-color: #d4ebff;}#sk-container-id-2 div.sk-parallel-item::after {content: \"\";width: 100%;border-bottom: 1px solid gray;flex-grow: 1;}#sk-container-id-2 div.sk-label:hover label.sk-toggleable__label {background-color: #d4ebff;}#sk-container-id-2 div.sk-serial::before {content: \"\";position: absolute;border-left: 1px solid gray;box-sizing: border-box;top: 0;bottom: 0;left: 50%;z-index: 0;}#sk-container-id-2 div.sk-serial {display: flex;flex-direction: column;align-items: center;background-color: white;padding-right: 0.2em;padding-left: 0.2em;position: relative;}#sk-container-id-2 div.sk-item {position: relative;z-index: 1;}#sk-container-id-2 div.sk-parallel {display: flex;align-items: stretch;justify-content: center;background-color: white;position: relative;}#sk-container-id-2 div.sk-item::before, #sk-container-id-2 div.sk-parallel-item::before {content: \"\";position: absolute;border-left: 1px solid gray;box-sizing: border-box;top: 0;bottom: 0;left: 50%;z-index: -1;}#sk-container-id-2 div.sk-parallel-item {display: flex;flex-direction: column;z-index: 1;position: relative;background-color: white;}#sk-container-id-2 div.sk-parallel-item:first-child::after {align-self: flex-end;width: 50%;}#sk-container-id-2 div.sk-parallel-item:last-child::after {align-self: flex-start;width: 50%;}#sk-container-id-2 div.sk-parallel-item:only-child::after {width: 0;}#sk-container-id-2 div.sk-dashed-wrapped {border: 1px dashed gray;margin: 0 0.4em 0.5em 0.4em;box-sizing: border-box;padding-bottom: 0.4em;background-color: white;}#sk-container-id-2 div.sk-label label {font-family: monospace;font-weight: bold;display: inline-block;line-height: 1.2em;}#sk-container-id-2 div.sk-label-container {text-align: center;}#sk-container-id-2 div.sk-container {/* jupyter's `normalize.less` sets `[hidden] { display: none; }` but bootstrap.min.css set `[hidden] { display: none !important; }` so we also need the `!important` here to be able to override the default hidden behavior on the sphinx rendered scikit-learn.org. See: https://github.com/scikit-learn/scikit-learn/issues/21755 */display: inline-block !important;position: relative;}#sk-container-id-2 div.sk-text-repr-fallback {display: none;}</style><div id=\"sk-container-id-2\" class=\"sk-top-container\"><div class=\"sk-text-repr-fallback\"><pre>Pipeline(steps=[(&#x27;scaler&#x27;, StandardScaler()),\n",
       "                (&#x27;regressor&#x27;, Ridge(alpha=0.001))])</pre><b>In a Jupyter environment, please rerun this cell to show the HTML representation or trust the notebook. <br />On GitHub, the HTML representation is unable to render, please try loading this page with nbviewer.org.</b></div><div class=\"sk-container\" hidden><div class=\"sk-item sk-dashed-wrapped\"><div class=\"sk-label-container\"><div class=\"sk-label sk-toggleable\"><input class=\"sk-toggleable__control sk-hidden--visually\" id=\"sk-estimator-id-5\" type=\"checkbox\" ><label for=\"sk-estimator-id-5\" class=\"sk-toggleable__label sk-toggleable__label-arrow\">Pipeline</label><div class=\"sk-toggleable__content\"><pre>Pipeline(steps=[(&#x27;scaler&#x27;, StandardScaler()),\n",
       "                (&#x27;regressor&#x27;, Ridge(alpha=0.001))])</pre></div></div></div><div class=\"sk-serial\"><div class=\"sk-item\"><div class=\"sk-estimator sk-toggleable\"><input class=\"sk-toggleable__control sk-hidden--visually\" id=\"sk-estimator-id-6\" type=\"checkbox\" ><label for=\"sk-estimator-id-6\" class=\"sk-toggleable__label sk-toggleable__label-arrow\">StandardScaler</label><div class=\"sk-toggleable__content\"><pre>StandardScaler()</pre></div></div></div><div class=\"sk-item\"><div class=\"sk-estimator sk-toggleable\"><input class=\"sk-toggleable__control sk-hidden--visually\" id=\"sk-estimator-id-7\" type=\"checkbox\" ><label for=\"sk-estimator-id-7\" class=\"sk-toggleable__label sk-toggleable__label-arrow\">Ridge</label><div class=\"sk-toggleable__content\"><pre>Ridge(alpha=0.001)</pre></div></div></div></div></div></div></div>"
      ],
      "text/plain": [
       "Pipeline(steps=[('scaler', StandardScaler()),\n",
       "                ('regressor', Ridge(alpha=0.001))])"
      ]
     },
     "execution_count": 76,
     "metadata": {},
     "output_type": "execute_result"
    }
   ],
   "source": [
    "model_ridge.best_estimator_"
   ]
  },
  {
   "cell_type": "code",
   "execution_count": 77,
   "id": "314cf435",
   "metadata": {
    "execution": {
     "iopub.execute_input": "2025-03-07T19:09:13.935264Z",
     "iopub.status.busy": "2025-03-07T19:09:13.934923Z",
     "iopub.status.idle": "2025-03-07T19:09:13.940717Z",
     "shell.execute_reply": "2025-03-07T19:09:13.939656Z"
    },
    "papermill": {
     "duration": 0.049356,
     "end_time": "2025-03-07T19:09:13.942217",
     "exception": false,
     "start_time": "2025-03-07T19:09:13.892861",
     "status": "completed"
    },
    "tags": []
   },
   "outputs": [
    {
     "data": {
      "text/plain": [
       "-2671.315169355183"
      ]
     },
     "execution_count": 77,
     "metadata": {},
     "output_type": "execute_result"
    }
   ],
   "source": [
    "model_ridge.best_score_"
   ]
  },
  {
   "cell_type": "code",
   "execution_count": 78,
   "id": "da081782",
   "metadata": {
    "execution": {
     "iopub.execute_input": "2025-03-07T19:09:14.021301Z",
     "iopub.status.busy": "2025-03-07T19:09:14.020923Z",
     "iopub.status.idle": "2025-03-07T19:09:14.026759Z",
     "shell.execute_reply": "2025-03-07T19:09:14.025828Z"
    },
    "papermill": {
     "duration": 0.047226,
     "end_time": "2025-03-07T19:09:14.028372",
     "exception": false,
     "start_time": "2025-03-07T19:09:13.981146",
     "status": "completed"
    },
    "tags": []
   },
   "outputs": [
    {
     "data": {
      "text/plain": [
       "array(['children', 'hospital_tier', 'city_tier', 'bmi', 'hba1c',\n",
       "       'heart_issues', 'any_transplants', 'cancer_history',\n",
       "       'numberofmajorsurgeries', 'smoker', 'state_id_R1011',\n",
       "       'state_id_R1012', 'state_id_R1013', 'Age', 'Gender'], dtype=object)"
      ]
     },
     "execution_count": 78,
     "metadata": {},
     "output_type": "execute_result"
    }
   ],
   "source": [
    "model_ridge.feature_names_in_"
   ]
  },
  {
   "cell_type": "code",
   "execution_count": 79,
   "id": "b790c3c6",
   "metadata": {
    "execution": {
     "iopub.execute_input": "2025-03-07T19:09:14.135136Z",
     "iopub.status.busy": "2025-03-07T19:09:14.134794Z",
     "iopub.status.idle": "2025-03-07T19:09:14.144937Z",
     "shell.execute_reply": "2025-03-07T19:09:14.143856Z"
    },
    "papermill": {
     "duration": 0.064899,
     "end_time": "2025-03-07T19:09:14.146575",
     "exception": false,
     "start_time": "2025-03-07T19:09:14.081676",
     "status": "completed"
    },
    "tags": []
   },
   "outputs": [
    {
     "data": {
      "text/html": [
       "<style>#sk-container-id-3 {color: black;background-color: white;}#sk-container-id-3 pre{padding: 0;}#sk-container-id-3 div.sk-toggleable {background-color: white;}#sk-container-id-3 label.sk-toggleable__label {cursor: pointer;display: block;width: 100%;margin-bottom: 0;padding: 0.3em;box-sizing: border-box;text-align: center;}#sk-container-id-3 label.sk-toggleable__label-arrow:before {content: \"▸\";float: left;margin-right: 0.25em;color: #696969;}#sk-container-id-3 label.sk-toggleable__label-arrow:hover:before {color: black;}#sk-container-id-3 div.sk-estimator:hover label.sk-toggleable__label-arrow:before {color: black;}#sk-container-id-3 div.sk-toggleable__content {max-height: 0;max-width: 0;overflow: hidden;text-align: left;background-color: #f0f8ff;}#sk-container-id-3 div.sk-toggleable__content pre {margin: 0.2em;color: black;border-radius: 0.25em;background-color: #f0f8ff;}#sk-container-id-3 input.sk-toggleable__control:checked~div.sk-toggleable__content {max-height: 200px;max-width: 100%;overflow: auto;}#sk-container-id-3 input.sk-toggleable__control:checked~label.sk-toggleable__label-arrow:before {content: \"▾\";}#sk-container-id-3 div.sk-estimator input.sk-toggleable__control:checked~label.sk-toggleable__label {background-color: #d4ebff;}#sk-container-id-3 div.sk-label input.sk-toggleable__control:checked~label.sk-toggleable__label {background-color: #d4ebff;}#sk-container-id-3 input.sk-hidden--visually {border: 0;clip: rect(1px 1px 1px 1px);clip: rect(1px, 1px, 1px, 1px);height: 1px;margin: -1px;overflow: hidden;padding: 0;position: absolute;width: 1px;}#sk-container-id-3 div.sk-estimator {font-family: monospace;background-color: #f0f8ff;border: 1px dotted black;border-radius: 0.25em;box-sizing: border-box;margin-bottom: 0.5em;}#sk-container-id-3 div.sk-estimator:hover {background-color: #d4ebff;}#sk-container-id-3 div.sk-parallel-item::after {content: \"\";width: 100%;border-bottom: 1px solid gray;flex-grow: 1;}#sk-container-id-3 div.sk-label:hover label.sk-toggleable__label {background-color: #d4ebff;}#sk-container-id-3 div.sk-serial::before {content: \"\";position: absolute;border-left: 1px solid gray;box-sizing: border-box;top: 0;bottom: 0;left: 50%;z-index: 0;}#sk-container-id-3 div.sk-serial {display: flex;flex-direction: column;align-items: center;background-color: white;padding-right: 0.2em;padding-left: 0.2em;position: relative;}#sk-container-id-3 div.sk-item {position: relative;z-index: 1;}#sk-container-id-3 div.sk-parallel {display: flex;align-items: stretch;justify-content: center;background-color: white;position: relative;}#sk-container-id-3 div.sk-item::before, #sk-container-id-3 div.sk-parallel-item::before {content: \"\";position: absolute;border-left: 1px solid gray;box-sizing: border-box;top: 0;bottom: 0;left: 50%;z-index: -1;}#sk-container-id-3 div.sk-parallel-item {display: flex;flex-direction: column;z-index: 1;position: relative;background-color: white;}#sk-container-id-3 div.sk-parallel-item:first-child::after {align-self: flex-end;width: 50%;}#sk-container-id-3 div.sk-parallel-item:last-child::after {align-self: flex-start;width: 50%;}#sk-container-id-3 div.sk-parallel-item:only-child::after {width: 0;}#sk-container-id-3 div.sk-dashed-wrapped {border: 1px dashed gray;margin: 0 0.4em 0.5em 0.4em;box-sizing: border-box;padding-bottom: 0.4em;background-color: white;}#sk-container-id-3 div.sk-label label {font-family: monospace;font-weight: bold;display: inline-block;line-height: 1.2em;}#sk-container-id-3 div.sk-label-container {text-align: center;}#sk-container-id-3 div.sk-container {/* jupyter's `normalize.less` sets `[hidden] { display: none; }` but bootstrap.min.css set `[hidden] { display: none !important; }` so we also need the `!important` here to be able to override the default hidden behavior on the sphinx rendered scikit-learn.org. See: https://github.com/scikit-learn/scikit-learn/issues/21755 */display: inline-block !important;position: relative;}#sk-container-id-3 div.sk-text-repr-fallback {display: none;}</style><div id=\"sk-container-id-3\" class=\"sk-top-container\"><div class=\"sk-text-repr-fallback\"><pre>Ridge(alpha=0.001)</pre><b>In a Jupyter environment, please rerun this cell to show the HTML representation or trust the notebook. <br />On GitHub, the HTML representation is unable to render, please try loading this page with nbviewer.org.</b></div><div class=\"sk-container\" hidden><div class=\"sk-item\"><div class=\"sk-estimator sk-toggleable\"><input class=\"sk-toggleable__control sk-hidden--visually\" id=\"sk-estimator-id-8\" type=\"checkbox\" checked><label for=\"sk-estimator-id-8\" class=\"sk-toggleable__label sk-toggleable__label-arrow\">Ridge</label><div class=\"sk-toggleable__content\"><pre>Ridge(alpha=0.001)</pre></div></div></div></div></div>"
      ],
      "text/plain": [
       "Ridge(alpha=0.001)"
      ]
     },
     "execution_count": 79,
     "metadata": {},
     "output_type": "execute_result"
    }
   ],
   "source": [
    "grid_search_model = model_ridge.best_estimator_\n",
    "grid_csv_model =  Ridge(alpha= 0.001)\n",
    "grid_csv_model.fit(X_train, y_train)\n",
    "# Print classification report for the Grid Search model\n",
    "#print(\"Grid Search - Classification Report:\")\n",
    "#print(classification_report(y_test, y_pred_grid))"
   ]
  },
  {
   "cell_type": "code",
   "execution_count": 80,
   "id": "5c34a0b0",
   "metadata": {
    "execution": {
     "iopub.execute_input": "2025-03-07T19:09:14.227827Z",
     "iopub.status.busy": "2025-03-07T19:09:14.227444Z",
     "iopub.status.idle": "2025-03-07T19:09:14.235313Z",
     "shell.execute_reply": "2025-03-07T19:09:14.234498Z"
    },
    "papermill": {
     "duration": 0.050607,
     "end_time": "2025-03-07T19:09:14.236896",
     "exception": false,
     "start_time": "2025-03-07T19:09:14.186289",
     "status": "completed"
    },
    "tags": []
   },
   "outputs": [
    {
     "data": {
      "text/plain": [
       "0.8375402989364441"
      ]
     },
     "execution_count": 80,
     "metadata": {},
     "output_type": "execute_result"
    }
   ],
   "source": [
    "grid_csv_model.score(X_test, y_test)"
   ]
  },
  {
   "cell_type": "code",
   "execution_count": 81,
   "id": "77005619",
   "metadata": {
    "execution": {
     "iopub.execute_input": "2025-03-07T19:09:14.316591Z",
     "iopub.status.busy": "2025-03-07T19:09:14.316228Z",
     "iopub.status.idle": "2025-03-07T19:09:14.321891Z",
     "shell.execute_reply": "2025-03-07T19:09:14.321042Z"
    },
    "papermill": {
     "duration": 0.046966,
     "end_time": "2025-03-07T19:09:14.323356",
     "exception": false,
     "start_time": "2025-03-07T19:09:14.276390",
     "status": "completed"
    },
    "tags": []
   },
   "outputs": [],
   "source": [
    "y_pred = grid_csv_model.predict(X_test)"
   ]
  },
  {
   "cell_type": "code",
   "execution_count": 82,
   "id": "c54dfc7b",
   "metadata": {
    "execution": {
     "iopub.execute_input": "2025-03-07T19:09:14.402770Z",
     "iopub.status.busy": "2025-03-07T19:09:14.402368Z",
     "iopub.status.idle": "2025-03-07T19:09:14.410819Z",
     "shell.execute_reply": "2025-03-07T19:09:14.409720Z"
    },
    "papermill": {
     "duration": 0.050058,
     "end_time": "2025-03-07T19:09:14.412387",
     "exception": false,
     "start_time": "2025-03-07T19:09:14.362329",
     "status": "completed"
    },
    "tags": []
   },
   "outputs": [
    {
     "name": "stdout",
     "output_type": "stream",
     "text": [
      "Ridge Mean squared error:  23173596.391759563\n",
      "Ridge Mean Absolute error:  2923.912926436421\n",
      "Ridge R2 score:  0.8375402989364441\n"
     ]
    }
   ],
   "source": [
    "ridge_mse = mse(y_test, y_pred)\n",
    "ridge_r2 = r2_score(y_test, y_pred)\n",
    "ridge_mae = mae(y_test, y_pred)\n",
    "print(\"Ridge Mean squared error: \", ridge_mse)\n",
    "print(\"Ridge Mean Absolute error: \", ridge_mae)\n",
    "print(\"Ridge R2 score: \", ridge_r2)"
   ]
  },
  {
   "cell_type": "code",
   "execution_count": 83,
   "id": "a9a97a9d",
   "metadata": {
    "execution": {
     "iopub.execute_input": "2025-03-07T19:09:14.492452Z",
     "iopub.status.busy": "2025-03-07T19:09:14.492112Z",
     "iopub.status.idle": "2025-03-07T19:09:14.497530Z",
     "shell.execute_reply": "2025-03-07T19:09:14.496546Z"
    },
    "papermill": {
     "duration": 0.04723,
     "end_time": "2025-03-07T19:09:14.499205",
     "exception": false,
     "start_time": "2025-03-07T19:09:14.451975",
     "status": "completed"
    },
    "tags": []
   },
   "outputs": [
    {
     "data": {
      "text/plain": [
       "15"
      ]
     },
     "execution_count": 83,
     "metadata": {},
     "output_type": "execute_result"
    }
   ],
   "source": [
    "grid_csv_model.n_features_in_"
   ]
  },
  {
   "cell_type": "code",
   "execution_count": 84,
   "id": "06fd5f51",
   "metadata": {
    "execution": {
     "iopub.execute_input": "2025-03-07T19:09:14.579426Z",
     "iopub.status.busy": "2025-03-07T19:09:14.579096Z",
     "iopub.status.idle": "2025-03-07T19:09:14.583165Z",
     "shell.execute_reply": "2025-03-07T19:09:14.582112Z"
    },
    "papermill": {
     "duration": 0.046163,
     "end_time": "2025-03-07T19:09:14.584758",
     "exception": false,
     "start_time": "2025-03-07T19:09:14.538595",
     "status": "completed"
    },
    "tags": []
   },
   "outputs": [],
   "source": [
    "feature_importance = grid_csv_model.coef_"
   ]
  },
  {
   "cell_type": "code",
   "execution_count": 85,
   "id": "03ae0b60",
   "metadata": {
    "execution": {
     "iopub.execute_input": "2025-03-07T19:09:14.665361Z",
     "iopub.status.busy": "2025-03-07T19:09:14.665033Z",
     "iopub.status.idle": "2025-03-07T19:09:14.670596Z",
     "shell.execute_reply": "2025-03-07T19:09:14.669787Z"
    },
    "papermill": {
     "duration": 0.047733,
     "end_time": "2025-03-07T19:09:14.672060",
     "exception": false,
     "start_time": "2025-03-07T19:09:14.624327",
     "status": "completed"
    },
    "tags": []
   },
   "outputs": [
    {
     "data": {
      "text/plain": [
       "array(['children', 'hospital_tier', 'city_tier', 'bmi', 'hba1c',\n",
       "       'heart_issues', 'any_transplants', 'cancer_history',\n",
       "       'numberofmajorsurgeries', 'smoker', 'state_id_R1011',\n",
       "       'state_id_R1012', 'state_id_R1013', 'Age', 'Gender'], dtype=object)"
      ]
     },
     "execution_count": 85,
     "metadata": {},
     "output_type": "execute_result"
    }
   ],
   "source": [
    "grid_csv_model.feature_names_in_"
   ]
  },
  {
   "cell_type": "code",
   "execution_count": 86,
   "id": "2d1f7199",
   "metadata": {
    "execution": {
     "iopub.execute_input": "2025-03-07T19:09:14.752740Z",
     "iopub.status.busy": "2025-03-07T19:09:14.752342Z",
     "iopub.status.idle": "2025-03-07T19:09:14.762120Z",
     "shell.execute_reply": "2025-03-07T19:09:14.761189Z"
    },
    "papermill": {
     "duration": 0.052083,
     "end_time": "2025-03-07T19:09:14.763577",
     "exception": false,
     "start_time": "2025-03-07T19:09:14.711494",
     "status": "completed"
    },
    "tags": []
   },
   "outputs": [
    {
     "data": {
      "text/html": [
       "<div>\n",
       "<style scoped>\n",
       "    .dataframe tbody tr th:only-of-type {\n",
       "        vertical-align: middle;\n",
       "    }\n",
       "\n",
       "    .dataframe tbody tr th {\n",
       "        vertical-align: top;\n",
       "    }\n",
       "\n",
       "    .dataframe thead th {\n",
       "        text-align: right;\n",
       "    }\n",
       "</style>\n",
       "<table border=\"1\" class=\"dataframe\">\n",
       "  <thead>\n",
       "    <tr style=\"text-align: right;\">\n",
       "      <th></th>\n",
       "      <th>Feature_importance</th>\n",
       "    </tr>\n",
       "  </thead>\n",
       "  <tbody>\n",
       "    <tr>\n",
       "      <th>smoker</th>\n",
       "      <td>22484.839369</td>\n",
       "    </tr>\n",
       "    <tr>\n",
       "      <th>any_transplants</th>\n",
       "      <td>784.279662</td>\n",
       "    </tr>\n",
       "    <tr>\n",
       "      <th>cancer_history</th>\n",
       "      <td>613.542162</td>\n",
       "    </tr>\n",
       "    <tr>\n",
       "      <th>children</th>\n",
       "      <td>403.997362</td>\n",
       "    </tr>\n",
       "    <tr>\n",
       "      <th>bmi</th>\n",
       "      <td>331.020096</td>\n",
       "    </tr>\n",
       "    <tr>\n",
       "      <th>Age</th>\n",
       "      <td>264.756937</td>\n",
       "    </tr>\n",
       "    <tr>\n",
       "      <th>hba1c</th>\n",
       "      <td>46.582108</td>\n",
       "    </tr>\n",
       "    <tr>\n",
       "      <th>city_tier</th>\n",
       "      <td>3.950413</td>\n",
       "    </tr>\n",
       "    <tr>\n",
       "      <th>heart_issues</th>\n",
       "      <td>-51.791106</td>\n",
       "    </tr>\n",
       "    <tr>\n",
       "      <th>Gender</th>\n",
       "      <td>-113.218908</td>\n",
       "    </tr>\n",
       "    <tr>\n",
       "      <th>numberofmajorsurgeries</th>\n",
       "      <td>-252.836470</td>\n",
       "    </tr>\n",
       "    <tr>\n",
       "      <th>state_id_R1012</th>\n",
       "      <td>-448.275462</td>\n",
       "    </tr>\n",
       "    <tr>\n",
       "      <th>state_id_R1011</th>\n",
       "      <td>-757.425151</td>\n",
       "    </tr>\n",
       "    <tr>\n",
       "      <th>state_id_R1013</th>\n",
       "      <td>-822.135694</td>\n",
       "    </tr>\n",
       "    <tr>\n",
       "      <th>hospital_tier</th>\n",
       "      <td>-1652.984618</td>\n",
       "    </tr>\n",
       "  </tbody>\n",
       "</table>\n",
       "</div>"
      ],
      "text/plain": [
       "                        Feature_importance\n",
       "smoker                        22484.839369\n",
       "any_transplants                 784.279662\n",
       "cancer_history                  613.542162\n",
       "children                        403.997362\n",
       "bmi                             331.020096\n",
       "Age                             264.756937\n",
       "hba1c                            46.582108\n",
       "city_tier                         3.950413\n",
       "heart_issues                    -51.791106\n",
       "Gender                         -113.218908\n",
       "numberofmajorsurgeries         -252.836470\n",
       "state_id_R1012                 -448.275462\n",
       "state_id_R1011                 -757.425151\n",
       "state_id_R1013                 -822.135694\n",
       "hospital_tier                 -1652.984618"
      ]
     },
     "execution_count": 86,
     "metadata": {},
     "output_type": "execute_result"
    }
   ],
   "source": [
    "feature_table = pd.DataFrame(feature_importance, index=X.columns, columns=['Feature_importance'])\n",
    "feature_table.sort_values(by = 'Feature_importance', ascending=False)"
   ]
  },
  {
   "cell_type": "code",
   "execution_count": 87,
   "id": "d9ffca2b",
   "metadata": {
    "execution": {
     "iopub.execute_input": "2025-03-07T19:09:14.844133Z",
     "iopub.status.busy": "2025-03-07T19:09:14.843806Z",
     "iopub.status.idle": "2025-03-07T19:09:23.165948Z",
     "shell.execute_reply": "2025-03-07T19:09:23.164928Z"
    },
    "papermill": {
     "duration": 8.364456,
     "end_time": "2025-03-07T19:09:23.167681",
     "exception": false,
     "start_time": "2025-03-07T19:09:14.803225",
     "status": "completed"
    },
    "tags": []
   },
   "outputs": [
    {
     "data": {
      "text/html": [
       "<style>#sk-container-id-4 {color: black;background-color: white;}#sk-container-id-4 pre{padding: 0;}#sk-container-id-4 div.sk-toggleable {background-color: white;}#sk-container-id-4 label.sk-toggleable__label {cursor: pointer;display: block;width: 100%;margin-bottom: 0;padding: 0.3em;box-sizing: border-box;text-align: center;}#sk-container-id-4 label.sk-toggleable__label-arrow:before {content: \"▸\";float: left;margin-right: 0.25em;color: #696969;}#sk-container-id-4 label.sk-toggleable__label-arrow:hover:before {color: black;}#sk-container-id-4 div.sk-estimator:hover label.sk-toggleable__label-arrow:before {color: black;}#sk-container-id-4 div.sk-toggleable__content {max-height: 0;max-width: 0;overflow: hidden;text-align: left;background-color: #f0f8ff;}#sk-container-id-4 div.sk-toggleable__content pre {margin: 0.2em;color: black;border-radius: 0.25em;background-color: #f0f8ff;}#sk-container-id-4 input.sk-toggleable__control:checked~div.sk-toggleable__content {max-height: 200px;max-width: 100%;overflow: auto;}#sk-container-id-4 input.sk-toggleable__control:checked~label.sk-toggleable__label-arrow:before {content: \"▾\";}#sk-container-id-4 div.sk-estimator input.sk-toggleable__control:checked~label.sk-toggleable__label {background-color: #d4ebff;}#sk-container-id-4 div.sk-label input.sk-toggleable__control:checked~label.sk-toggleable__label {background-color: #d4ebff;}#sk-container-id-4 input.sk-hidden--visually {border: 0;clip: rect(1px 1px 1px 1px);clip: rect(1px, 1px, 1px, 1px);height: 1px;margin: -1px;overflow: hidden;padding: 0;position: absolute;width: 1px;}#sk-container-id-4 div.sk-estimator {font-family: monospace;background-color: #f0f8ff;border: 1px dotted black;border-radius: 0.25em;box-sizing: border-box;margin-bottom: 0.5em;}#sk-container-id-4 div.sk-estimator:hover {background-color: #d4ebff;}#sk-container-id-4 div.sk-parallel-item::after {content: \"\";width: 100%;border-bottom: 1px solid gray;flex-grow: 1;}#sk-container-id-4 div.sk-label:hover label.sk-toggleable__label {background-color: #d4ebff;}#sk-container-id-4 div.sk-serial::before {content: \"\";position: absolute;border-left: 1px solid gray;box-sizing: border-box;top: 0;bottom: 0;left: 50%;z-index: 0;}#sk-container-id-4 div.sk-serial {display: flex;flex-direction: column;align-items: center;background-color: white;padding-right: 0.2em;padding-left: 0.2em;position: relative;}#sk-container-id-4 div.sk-item {position: relative;z-index: 1;}#sk-container-id-4 div.sk-parallel {display: flex;align-items: stretch;justify-content: center;background-color: white;position: relative;}#sk-container-id-4 div.sk-item::before, #sk-container-id-4 div.sk-parallel-item::before {content: \"\";position: absolute;border-left: 1px solid gray;box-sizing: border-box;top: 0;bottom: 0;left: 50%;z-index: -1;}#sk-container-id-4 div.sk-parallel-item {display: flex;flex-direction: column;z-index: 1;position: relative;background-color: white;}#sk-container-id-4 div.sk-parallel-item:first-child::after {align-self: flex-end;width: 50%;}#sk-container-id-4 div.sk-parallel-item:last-child::after {align-self: flex-start;width: 50%;}#sk-container-id-4 div.sk-parallel-item:only-child::after {width: 0;}#sk-container-id-4 div.sk-dashed-wrapped {border: 1px dashed gray;margin: 0 0.4em 0.5em 0.4em;box-sizing: border-box;padding-bottom: 0.4em;background-color: white;}#sk-container-id-4 div.sk-label label {font-family: monospace;font-weight: bold;display: inline-block;line-height: 1.2em;}#sk-container-id-4 div.sk-label-container {text-align: center;}#sk-container-id-4 div.sk-container {/* jupyter's `normalize.less` sets `[hidden] { display: none; }` but bootstrap.min.css set `[hidden] { display: none !important; }` so we also need the `!important` here to be able to override the default hidden behavior on the sphinx rendered scikit-learn.org. See: https://github.com/scikit-learn/scikit-learn/issues/21755 */display: inline-block !important;position: relative;}#sk-container-id-4 div.sk-text-repr-fallback {display: none;}</style><div id=\"sk-container-id-4\" class=\"sk-top-container\"><div class=\"sk-text-repr-fallback\"><pre>RandomForestRegressor(n_estimators=1000, random_state=42)</pre><b>In a Jupyter environment, please rerun this cell to show the HTML representation or trust the notebook. <br />On GitHub, the HTML representation is unable to render, please try loading this page with nbviewer.org.</b></div><div class=\"sk-container\" hidden><div class=\"sk-item\"><div class=\"sk-estimator sk-toggleable\"><input class=\"sk-toggleable__control sk-hidden--visually\" id=\"sk-estimator-id-9\" type=\"checkbox\" checked><label for=\"sk-estimator-id-9\" class=\"sk-toggleable__label sk-toggleable__label-arrow\">RandomForestRegressor</label><div class=\"sk-toggleable__content\"><pre>RandomForestRegressor(n_estimators=1000, random_state=42)</pre></div></div></div></div></div>"
      ],
      "text/plain": [
       "RandomForestRegressor(n_estimators=1000, random_state=42)"
      ]
     },
     "execution_count": 87,
     "metadata": {},
     "output_type": "execute_result"
    }
   ],
   "source": [
    "# Develop Gradient Boost model and determine the variable importance scores and identify the redundant variables\n",
    "rfg = RandomForestRegressor(n_estimators = 1000, random_state=42)\n",
    "rfg.fit(X_train, y_train)"
   ]
  },
  {
   "cell_type": "code",
   "execution_count": 88,
   "id": "38d29c45",
   "metadata": {
    "execution": {
     "iopub.execute_input": "2025-03-07T19:09:23.251816Z",
     "iopub.status.busy": "2025-03-07T19:09:23.251423Z",
     "iopub.status.idle": "2025-03-07T19:09:23.377621Z",
     "shell.execute_reply": "2025-03-07T19:09:23.376444Z"
    },
    "papermill": {
     "duration": 0.170586,
     "end_time": "2025-03-07T19:09:23.379278",
     "exception": false,
     "start_time": "2025-03-07T19:09:23.208692",
     "status": "completed"
    },
    "tags": []
   },
   "outputs": [
    {
     "data": {
      "text/plain": [
       "0.8984712977833682"
      ]
     },
     "execution_count": 88,
     "metadata": {},
     "output_type": "execute_result"
    }
   ],
   "source": [
    "rfg.score(X_test, y_test)"
   ]
  },
  {
   "cell_type": "code",
   "execution_count": 89,
   "id": "bf4b1931",
   "metadata": {
    "execution": {
     "iopub.execute_input": "2025-03-07T19:09:23.460992Z",
     "iopub.status.busy": "2025-03-07T19:09:23.460563Z",
     "iopub.status.idle": "2025-03-07T19:09:23.586626Z",
     "shell.execute_reply": "2025-03-07T19:09:23.585369Z"
    },
    "papermill": {
     "duration": 0.168804,
     "end_time": "2025-03-07T19:09:23.588617",
     "exception": false,
     "start_time": "2025-03-07T19:09:23.419813",
     "status": "completed"
    },
    "tags": []
   },
   "outputs": [],
   "source": [
    "y_pred_rfg = rfg.predict(X_test)"
   ]
  },
  {
   "cell_type": "code",
   "execution_count": 90,
   "id": "d9fe6670",
   "metadata": {
    "execution": {
     "iopub.execute_input": "2025-03-07T19:09:23.669604Z",
     "iopub.status.busy": "2025-03-07T19:09:23.669282Z",
     "iopub.status.idle": "2025-03-07T19:09:23.675767Z",
     "shell.execute_reply": "2025-03-07T19:09:23.674838Z"
    },
    "papermill": {
     "duration": 0.0487,
     "end_time": "2025-03-07T19:09:23.677395",
     "exception": false,
     "start_time": "2025-03-07T19:09:23.628695",
     "status": "completed"
    },
    "tags": []
   },
   "outputs": [
    {
     "data": {
      "text/plain": [
       "1966.6491322580625"
      ]
     },
     "execution_count": 90,
     "metadata": {},
     "output_type": "execute_result"
    }
   ],
   "source": [
    "rfg_mae = mae(y_test, y_pred_rfg)\n",
    "rfg_mae"
   ]
  },
  {
   "cell_type": "code",
   "execution_count": 91,
   "id": "2b5e6390",
   "metadata": {
    "execution": {
     "iopub.execute_input": "2025-03-07T19:09:23.759573Z",
     "iopub.status.busy": "2025-03-07T19:09:23.759200Z",
     "iopub.status.idle": "2025-03-07T19:09:23.763881Z",
     "shell.execute_reply": "2025-03-07T19:09:23.762624Z"
    },
    "papermill": {
     "duration": 0.047789,
     "end_time": "2025-03-07T19:09:23.765480",
     "exception": false,
     "start_time": "2025-03-07T19:09:23.717691",
     "status": "completed"
    },
    "tags": []
   },
   "outputs": [],
   "source": [
    "# Gradient Boosting Regressor\n",
    "params = {\n",
    "    \"n_estimators\": 1000,\n",
    "    \"loss\": \"squared_error\",\n",
    "    \"random_state\": 42\n",
    "}\n",
    "gbr = GradientBoostingRegressor(**params)"
   ]
  },
  {
   "cell_type": "code",
   "execution_count": 92,
   "id": "01c2fa31",
   "metadata": {
    "execution": {
     "iopub.execute_input": "2025-03-07T19:09:23.847034Z",
     "iopub.status.busy": "2025-03-07T19:09:23.846686Z",
     "iopub.status.idle": "2025-03-07T19:09:26.443451Z",
     "shell.execute_reply": "2025-03-07T19:09:26.442412Z"
    },
    "papermill": {
     "duration": 2.639336,
     "end_time": "2025-03-07T19:09:26.445061",
     "exception": false,
     "start_time": "2025-03-07T19:09:23.805725",
     "status": "completed"
    },
    "tags": []
   },
   "outputs": [
    {
     "data": {
      "text/html": [
       "<style>#sk-container-id-5 {color: black;background-color: white;}#sk-container-id-5 pre{padding: 0;}#sk-container-id-5 div.sk-toggleable {background-color: white;}#sk-container-id-5 label.sk-toggleable__label {cursor: pointer;display: block;width: 100%;margin-bottom: 0;padding: 0.3em;box-sizing: border-box;text-align: center;}#sk-container-id-5 label.sk-toggleable__label-arrow:before {content: \"▸\";float: left;margin-right: 0.25em;color: #696969;}#sk-container-id-5 label.sk-toggleable__label-arrow:hover:before {color: black;}#sk-container-id-5 div.sk-estimator:hover label.sk-toggleable__label-arrow:before {color: black;}#sk-container-id-5 div.sk-toggleable__content {max-height: 0;max-width: 0;overflow: hidden;text-align: left;background-color: #f0f8ff;}#sk-container-id-5 div.sk-toggleable__content pre {margin: 0.2em;color: black;border-radius: 0.25em;background-color: #f0f8ff;}#sk-container-id-5 input.sk-toggleable__control:checked~div.sk-toggleable__content {max-height: 200px;max-width: 100%;overflow: auto;}#sk-container-id-5 input.sk-toggleable__control:checked~label.sk-toggleable__label-arrow:before {content: \"▾\";}#sk-container-id-5 div.sk-estimator input.sk-toggleable__control:checked~label.sk-toggleable__label {background-color: #d4ebff;}#sk-container-id-5 div.sk-label input.sk-toggleable__control:checked~label.sk-toggleable__label {background-color: #d4ebff;}#sk-container-id-5 input.sk-hidden--visually {border: 0;clip: rect(1px 1px 1px 1px);clip: rect(1px, 1px, 1px, 1px);height: 1px;margin: -1px;overflow: hidden;padding: 0;position: absolute;width: 1px;}#sk-container-id-5 div.sk-estimator {font-family: monospace;background-color: #f0f8ff;border: 1px dotted black;border-radius: 0.25em;box-sizing: border-box;margin-bottom: 0.5em;}#sk-container-id-5 div.sk-estimator:hover {background-color: #d4ebff;}#sk-container-id-5 div.sk-parallel-item::after {content: \"\";width: 100%;border-bottom: 1px solid gray;flex-grow: 1;}#sk-container-id-5 div.sk-label:hover label.sk-toggleable__label {background-color: #d4ebff;}#sk-container-id-5 div.sk-serial::before {content: \"\";position: absolute;border-left: 1px solid gray;box-sizing: border-box;top: 0;bottom: 0;left: 50%;z-index: 0;}#sk-container-id-5 div.sk-serial {display: flex;flex-direction: column;align-items: center;background-color: white;padding-right: 0.2em;padding-left: 0.2em;position: relative;}#sk-container-id-5 div.sk-item {position: relative;z-index: 1;}#sk-container-id-5 div.sk-parallel {display: flex;align-items: stretch;justify-content: center;background-color: white;position: relative;}#sk-container-id-5 div.sk-item::before, #sk-container-id-5 div.sk-parallel-item::before {content: \"\";position: absolute;border-left: 1px solid gray;box-sizing: border-box;top: 0;bottom: 0;left: 50%;z-index: -1;}#sk-container-id-5 div.sk-parallel-item {display: flex;flex-direction: column;z-index: 1;position: relative;background-color: white;}#sk-container-id-5 div.sk-parallel-item:first-child::after {align-self: flex-end;width: 50%;}#sk-container-id-5 div.sk-parallel-item:last-child::after {align-self: flex-start;width: 50%;}#sk-container-id-5 div.sk-parallel-item:only-child::after {width: 0;}#sk-container-id-5 div.sk-dashed-wrapped {border: 1px dashed gray;margin: 0 0.4em 0.5em 0.4em;box-sizing: border-box;padding-bottom: 0.4em;background-color: white;}#sk-container-id-5 div.sk-label label {font-family: monospace;font-weight: bold;display: inline-block;line-height: 1.2em;}#sk-container-id-5 div.sk-label-container {text-align: center;}#sk-container-id-5 div.sk-container {/* jupyter's `normalize.less` sets `[hidden] { display: none; }` but bootstrap.min.css set `[hidden] { display: none !important; }` so we also need the `!important` here to be able to override the default hidden behavior on the sphinx rendered scikit-learn.org. See: https://github.com/scikit-learn/scikit-learn/issues/21755 */display: inline-block !important;position: relative;}#sk-container-id-5 div.sk-text-repr-fallback {display: none;}</style><div id=\"sk-container-id-5\" class=\"sk-top-container\"><div class=\"sk-text-repr-fallback\"><pre>GradientBoostingRegressor(n_estimators=1000, random_state=42)</pre><b>In a Jupyter environment, please rerun this cell to show the HTML representation or trust the notebook. <br />On GitHub, the HTML representation is unable to render, please try loading this page with nbviewer.org.</b></div><div class=\"sk-container\" hidden><div class=\"sk-item\"><div class=\"sk-estimator sk-toggleable\"><input class=\"sk-toggleable__control sk-hidden--visually\" id=\"sk-estimator-id-10\" type=\"checkbox\" checked><label for=\"sk-estimator-id-10\" class=\"sk-toggleable__label sk-toggleable__label-arrow\">GradientBoostingRegressor</label><div class=\"sk-toggleable__content\"><pre>GradientBoostingRegressor(n_estimators=1000, random_state=42)</pre></div></div></div></div></div>"
      ],
      "text/plain": [
       "GradientBoostingRegressor(n_estimators=1000, random_state=42)"
      ]
     },
     "execution_count": 92,
     "metadata": {},
     "output_type": "execute_result"
    }
   ],
   "source": [
    "gbr.fit(X_train, y_train)"
   ]
  },
  {
   "cell_type": "code",
   "execution_count": 93,
   "id": "3bb2cd93",
   "metadata": {
    "execution": {
     "iopub.execute_input": "2025-03-07T19:09:26.528435Z",
     "iopub.status.busy": "2025-03-07T19:09:26.528094Z",
     "iopub.status.idle": "2025-03-07T19:09:26.544793Z",
     "shell.execute_reply": "2025-03-07T19:09:26.543755Z"
    },
    "papermill": {
     "duration": 0.0594,
     "end_time": "2025-03-07T19:09:26.546446",
     "exception": false,
     "start_time": "2025-03-07T19:09:26.487046",
     "status": "completed"
    },
    "tags": []
   },
   "outputs": [
    {
     "data": {
      "text/plain": [
       "0.8755373373121796"
      ]
     },
     "execution_count": 93,
     "metadata": {},
     "output_type": "execute_result"
    }
   ],
   "source": [
    "gbr.score(X_test, y_test)"
   ]
  },
  {
   "cell_type": "code",
   "execution_count": 94,
   "id": "443f798e",
   "metadata": {
    "execution": {
     "iopub.execute_input": "2025-03-07T19:09:26.629130Z",
     "iopub.status.busy": "2025-03-07T19:09:26.628793Z",
     "iopub.status.idle": "2025-03-07T19:09:26.643063Z",
     "shell.execute_reply": "2025-03-07T19:09:26.642200Z"
    },
    "papermill": {
     "duration": 0.057357,
     "end_time": "2025-03-07T19:09:26.644624",
     "exception": false,
     "start_time": "2025-03-07T19:09:26.587267",
     "status": "completed"
    },
    "tags": []
   },
   "outputs": [],
   "source": [
    "y_pred_gbr = gbr.predict(X_test)"
   ]
  },
  {
   "cell_type": "code",
   "execution_count": 95,
   "id": "c83cd70e",
   "metadata": {
    "execution": {
     "iopub.execute_input": "2025-03-07T19:09:26.726491Z",
     "iopub.status.busy": "2025-03-07T19:09:26.726119Z",
     "iopub.status.idle": "2025-03-07T19:09:26.732504Z",
     "shell.execute_reply": "2025-03-07T19:09:26.731625Z"
    },
    "papermill": {
     "duration": 0.0493,
     "end_time": "2025-03-07T19:09:26.734041",
     "exception": false,
     "start_time": "2025-03-07T19:09:26.684741",
     "status": "completed"
    },
    "tags": []
   },
   "outputs": [
    {
     "data": {
      "text/plain": [
       "2436.1020734779136"
      ]
     },
     "execution_count": 95,
     "metadata": {},
     "output_type": "execute_result"
    }
   ],
   "source": [
    "gbr_mae = mae(y_test, y_pred_gbr)\n",
    "gbr_mae"
   ]
  },
  {
   "cell_type": "code",
   "execution_count": 96,
   "id": "22b1a6d7",
   "metadata": {
    "execution": {
     "iopub.execute_input": "2025-03-07T19:09:26.815945Z",
     "iopub.status.busy": "2025-03-07T19:09:26.815546Z",
     "iopub.status.idle": "2025-03-07T19:09:26.824760Z",
     "shell.execute_reply": "2025-03-07T19:09:26.823625Z"
    },
    "papermill": {
     "duration": 0.051975,
     "end_time": "2025-03-07T19:09:26.826246",
     "exception": false,
     "start_time": "2025-03-07T19:09:26.774271",
     "status": "completed"
    },
    "tags": []
   },
   "outputs": [
    {
     "data": {
      "text/plain": [
       "Timestamp('1988-12-28 00:00:00')"
      ]
     },
     "execution_count": 96,
     "metadata": {},
     "output_type": "execute_result"
    }
   ],
   "source": [
    "#Case scenario: Testing the accuracy of predictions using new data\n",
    "#Estimate the cost of hospitalization for Christopher, Ms. Jayna (Date of birth 12/28/1988; height 170 cm; and weight 85 kgs).\n",
    "#She lives with her partner and two children in a tier-1 city, and her state’s State ID is R1011.\n",
    "#She was found to be nondiabetic (HbA1c = 5.8). She smokes but is otherwise healthy.\n",
    "#She has had no transplants or major surgeries. Her father died of lung cancer. #Hospitalization costs will be estimated using tier-1 hospitals.\n",
    "\n",
    "#Calculate age\n",
    "dt = str(19881228)\n",
    "calc_date = pd.to_datetime(dt, format=\"%Y%m%d\") \n",
    "calc_date"
   ]
  },
  {
   "cell_type": "code",
   "execution_count": 97,
   "id": "05e07ac3",
   "metadata": {
    "execution": {
     "iopub.execute_input": "2025-03-07T19:09:26.909257Z",
     "iopub.status.busy": "2025-03-07T19:09:26.908880Z",
     "iopub.status.idle": "2025-03-07T19:09:26.913451Z",
     "shell.execute_reply": "2025-03-07T19:09:26.912246Z"
    },
    "papermill": {
     "duration": 0.048455,
     "end_time": "2025-03-07T19:09:26.915190",
     "exception": false,
     "start_time": "2025-03-07T19:09:26.866735",
     "status": "completed"
    },
    "tags": []
   },
   "outputs": [],
   "source": [
    "today = datetime.datetime.now()\n",
    "diff = today - calc_date"
   ]
  },
  {
   "cell_type": "code",
   "execution_count": 98,
   "id": "31e651d0",
   "metadata": {
    "execution": {
     "iopub.execute_input": "2025-03-07T19:09:26.997212Z",
     "iopub.status.busy": "2025-03-07T19:09:26.996745Z",
     "iopub.status.idle": "2025-03-07T19:09:27.002392Z",
     "shell.execute_reply": "2025-03-07T19:09:27.001527Z"
    },
    "papermill": {
     "duration": 0.048448,
     "end_time": "2025-03-07T19:09:27.003832",
     "exception": false,
     "start_time": "2025-03-07T19:09:26.955384",
     "status": "completed"
    },
    "tags": []
   },
   "outputs": [
    {
     "data": {
      "text/plain": [
       "36"
      ]
     },
     "execution_count": 98,
     "metadata": {},
     "output_type": "execute_result"
    }
   ],
   "source": [
    "age = int(diff.days/365) \n",
    "age\n",
    "#age = 36"
   ]
  },
  {
   "cell_type": "code",
   "execution_count": 99,
   "id": "2afc842a",
   "metadata": {
    "execution": {
     "iopub.execute_input": "2025-03-07T19:09:27.087260Z",
     "iopub.status.busy": "2025-03-07T19:09:27.086817Z",
     "iopub.status.idle": "2025-03-07T19:09:27.092795Z",
     "shell.execute_reply": "2025-03-07T19:09:27.091954Z"
    },
    "papermill": {
     "duration": 0.049169,
     "end_time": "2025-03-07T19:09:27.094302",
     "exception": false,
     "start_time": "2025-03-07T19:09:27.045133",
     "status": "completed"
    },
    "tags": []
   },
   "outputs": [
    {
     "data": {
      "text/plain": [
       "29.411764705882355"
      ]
     },
     "execution_count": 99,
     "metadata": {},
     "output_type": "execute_result"
    }
   ],
   "source": [
    "#Calculate BMI:\n",
    "height = pow(170/100, 2)\n",
    "weight = 85\n",
    "height\n",
    "\n",
    "bmi = weight/height \n",
    "bmi\n",
    "#bmi - 29.41\n",
    "#Gender - Female - 0"
   ]
  },
  {
   "cell_type": "code",
   "execution_count": 100,
   "id": "79393772",
   "metadata": {
    "execution": {
     "iopub.execute_input": "2025-03-07T19:09:27.178961Z",
     "iopub.status.busy": "2025-03-07T19:09:27.178548Z",
     "iopub.status.idle": "2025-03-07T19:09:27.184142Z",
     "shell.execute_reply": "2025-03-07T19:09:27.183339Z"
    },
    "papermill": {
     "duration": 0.049009,
     "end_time": "2025-03-07T19:09:27.185591",
     "exception": false,
     "start_time": "2025-03-07T19:09:27.136582",
     "status": "completed"
    },
    "tags": []
   },
   "outputs": [
    {
     "data": {
      "text/plain": [
       "Index(['children', 'hospital_tier', 'city_tier', 'bmi', 'hba1c',\n",
       "       'heart_issues', 'any_transplants', 'cancer_history',\n",
       "       'numberofmajorsurgeries', 'smoker', 'state_id_R1011', 'state_id_R1012',\n",
       "       'state_id_R1013', 'Age', 'Gender'],\n",
       "      dtype='object')"
      ]
     },
     "execution_count": 100,
     "metadata": {},
     "output_type": "execute_result"
    }
   ],
   "source": [
    "X_train.columns"
   ]
  },
  {
   "cell_type": "code",
   "execution_count": 101,
   "id": "81c7c83b",
   "metadata": {
    "execution": {
     "iopub.execute_input": "2025-03-07T19:09:27.268994Z",
     "iopub.status.busy": "2025-03-07T19:09:27.268617Z",
     "iopub.status.idle": "2025-03-07T19:09:27.275372Z",
     "shell.execute_reply": "2025-03-07T19:09:27.274431Z"
    },
    "papermill": {
     "duration": 0.04995,
     "end_time": "2025-03-07T19:09:27.277202",
     "exception": false,
     "start_time": "2025-03-07T19:09:27.227252",
     "status": "completed"
    },
    "tags": []
   },
   "outputs": [
    {
     "data": {
      "text/plain": [
       "hospital_tier\n",
       "1    1048\n",
       "2     567\n",
       "0     245\n",
       "Name: count, dtype: int64"
      ]
     },
     "execution_count": 101,
     "metadata": {},
     "output_type": "execute_result"
    }
   ],
   "source": [
    "X_train.hospital_tier.value_counts()"
   ]
  },
  {
   "cell_type": "code",
   "execution_count": 102,
   "id": "6107b4ff",
   "metadata": {
    "execution": {
     "iopub.execute_input": "2025-03-07T19:09:27.362069Z",
     "iopub.status.busy": "2025-03-07T19:09:27.361630Z",
     "iopub.status.idle": "2025-03-07T19:09:27.375867Z",
     "shell.execute_reply": "2025-03-07T19:09:27.374903Z"
    },
    "papermill": {
     "duration": 0.058042,
     "end_time": "2025-03-07T19:09:27.377335",
     "exception": false,
     "start_time": "2025-03-07T19:09:27.319293",
     "status": "completed"
    },
    "tags": []
   },
   "outputs": [
    {
     "data": {
      "text/html": [
       "<div>\n",
       "<style scoped>\n",
       "    .dataframe tbody tr th:only-of-type {\n",
       "        vertical-align: middle;\n",
       "    }\n",
       "\n",
       "    .dataframe tbody tr th {\n",
       "        vertical-align: top;\n",
       "    }\n",
       "\n",
       "    .dataframe thead th {\n",
       "        text-align: right;\n",
       "    }\n",
       "</style>\n",
       "<table border=\"1\" class=\"dataframe\">\n",
       "  <thead>\n",
       "    <tr style=\"text-align: right;\">\n",
       "      <th></th>\n",
       "      <th>children</th>\n",
       "      <th>hospital_tier</th>\n",
       "      <th>city_tier</th>\n",
       "      <th>bmi</th>\n",
       "      <th>hba1c</th>\n",
       "      <th>heart_issues</th>\n",
       "      <th>any_transplants</th>\n",
       "      <th>cancer_history</th>\n",
       "      <th>numberofmajorsurgeries</th>\n",
       "      <th>smoker</th>\n",
       "      <th>state_id_R1011</th>\n",
       "      <th>state_id_R1012</th>\n",
       "      <th>state_id_R1013</th>\n",
       "      <th>Age</th>\n",
       "      <th>Gender</th>\n",
       "    </tr>\n",
       "  </thead>\n",
       "  <tbody>\n",
       "    <tr>\n",
       "      <th>0</th>\n",
       "      <td>2</td>\n",
       "      <td>0</td>\n",
       "      <td>0</td>\n",
       "      <td>29.41</td>\n",
       "      <td>5.8</td>\n",
       "      <td>0</td>\n",
       "      <td>0</td>\n",
       "      <td>1</td>\n",
       "      <td>0</td>\n",
       "      <td>1</td>\n",
       "      <td>1</td>\n",
       "      <td>0</td>\n",
       "      <td>0</td>\n",
       "      <td>36</td>\n",
       "      <td>0</td>\n",
       "    </tr>\n",
       "  </tbody>\n",
       "</table>\n",
       "</div>"
      ],
      "text/plain": [
       "   children  hospital_tier  city_tier    bmi  hba1c  heart_issues  \\\n",
       "0         2              0          0  29.41    5.8             0   \n",
       "\n",
       "   any_transplants  cancer_history  numberofmajorsurgeries  smoker  \\\n",
       "0                0               1                       0       1   \n",
       "\n",
       "   state_id_R1011  state_id_R1012  state_id_R1013  Age  Gender  \n",
       "0               1               0               0   36       0  "
      ]
     },
     "execution_count": 102,
     "metadata": {},
     "output_type": "execute_result"
    }
   ],
   "source": [
    "data = [[2,0,0,29.41,5.8,0,0,1,0,1,1,0,0,36,0]]\n",
    "new_data = pd.DataFrame(data, columns=['children', 'hospital_tier','city_tier', 'bmi', 'hba1c',\n",
    "'heart_issues', 'any_transplants', 'cancer_history', 'numberofmajorsurgeries', 'smoker', 'state_id_R1011', 'state_id_R1012', 'state_id_R1013', 'Age', 'Gender'])\n",
    "new_data"
   ]
  },
  {
   "cell_type": "code",
   "execution_count": 103,
   "id": "b119e942",
   "metadata": {
    "execution": {
     "iopub.execute_input": "2025-03-07T19:09:27.462122Z",
     "iopub.status.busy": "2025-03-07T19:09:27.461791Z",
     "iopub.status.idle": "2025-03-07T19:09:27.507235Z",
     "shell.execute_reply": "2025-03-07T19:09:27.506087Z"
    },
    "papermill": {
     "duration": 0.089998,
     "end_time": "2025-03-07T19:09:27.508856",
     "exception": false,
     "start_time": "2025-03-07T19:09:27.418858",
     "status": "completed"
    },
    "tags": []
   },
   "outputs": [
    {
     "data": {
      "text/plain": [
       "[array([31873.72650225]), array([26447.09205]), array([29050.22759146])]"
      ]
     },
     "execution_count": 103,
     "metadata": {},
     "output_type": "execute_result"
    }
   ],
   "source": [
    "#Find the predicted hospitalization cost using the best models\n",
    "hospital_cost = []\n",
    "#Predicted cost using Ridge Regression model\n",
    "cost = grid_csv_model.predict(new_data)\n",
    "hospital_cost.append(cost)\n",
    "\n",
    "#Predicted cost using Random Forest Regression model\n",
    "cost_rfg = rfg.predict(new_data)\n",
    "hospital_cost.append(cost_rfg)\n",
    "\n",
    "#Predicted cost using Gradient Boost Regression model\n",
    "cost_gbr = gbr.predict(new_data)\n",
    "hospital_cost.append(cost_gbr)\n",
    "\n",
    "hospital_cost"
   ]
  },
  {
   "cell_type": "code",
   "execution_count": 104,
   "id": "30bc8116",
   "metadata": {
    "execution": {
     "iopub.execute_input": "2025-03-07T19:09:27.592881Z",
     "iopub.status.busy": "2025-03-07T19:09:27.592460Z",
     "iopub.status.idle": "2025-03-07T19:09:27.598389Z",
     "shell.execute_reply": "2025-03-07T19:09:27.597250Z"
    },
    "papermill": {
     "duration": 0.049885,
     "end_time": "2025-03-07T19:09:27.600039",
     "exception": false,
     "start_time": "2025-03-07T19:09:27.550154",
     "status": "completed"
    },
    "tags": []
   },
   "outputs": [
    {
     "name": "stdout",
     "output_type": "stream",
     "text": [
      "The average hospitalization cost for the given case scenario using the best models:  29123.68\n"
     ]
    }
   ],
   "source": [
    "#Average predicted cost\n",
    "Avg_cost = np.mean(hospital_cost)\n",
    "print(\"The average hospitalization cost for the given case scenario using the best models: \", np.round(Avg_cost, 2))"
   ]
  }
 ],
 "metadata": {
  "kaggle": {
   "accelerator": "none",
   "dataSources": [
    {
     "datasetId": 6814822,
     "sourceId": 10954717,
     "sourceType": "datasetVersion"
    }
   ],
   "dockerImageVersionId": 30918,
   "isGpuEnabled": false,
   "isInternetEnabled": true,
   "language": "python",
   "sourceType": "notebook"
  },
  "kernelspec": {
   "display_name": "Python 3",
   "language": "python",
   "name": "python3"
  },
  "language_info": {
   "codemirror_mode": {
    "name": "ipython",
    "version": 3
   },
   "file_extension": ".py",
   "mimetype": "text/x-python",
   "name": "python",
   "nbconvert_exporter": "python",
   "pygments_lexer": "ipython3",
   "version": "3.10.12"
  },
  "papermill": {
   "default_parameters": {},
   "duration": 63.266621,
   "end_time": "2025-03-07T19:09:28.765219",
   "environment_variables": {},
   "exception": null,
   "input_path": "__notebook__.ipynb",
   "output_path": "__notebook__.ipynb",
   "parameters": {},
   "start_time": "2025-03-07T19:08:25.498598",
   "version": "2.6.0"
  }
 },
 "nbformat": 4,
 "nbformat_minor": 5
}
